{
 "cells": [
  {
   "cell_type": "code",
   "execution_count": 1,
   "metadata": {
    "application/vnd.databricks.v1+cell": {
     "cellMetadata": {},
     "inputWidgets": {},
     "nuid": "011720fa-6ced-456f-b465-77e794373696",
     "showTitle": false,
     "title": ""
    }
   },
   "outputs": [
    {
     "ename": "ModuleNotFoundError",
     "evalue": "No module named 'tslearn'",
     "output_type": "error",
     "traceback": [
      "\u001b[1;31m---------------------------------------------------------------------------\u001b[0m",
      "\u001b[1;31mModuleNotFoundError\u001b[0m                       Traceback (most recent call last)",
      "\u001b[1;32mc:\\Users\\hannah\\git\\downtownrecovery\\databricks_work_updates\\recent_updates\\rfr_and_time-series-clustering.ipynb Cell 1\u001b[0m in \u001b[0;36m<cell line: 2>\u001b[1;34m()\u001b[0m\n\u001b[0;32m      <a href='vscode-notebook-cell:/c%3A/Users/hannah/git/downtownrecovery/databricks_work_updates/recent_updates/rfr_and_time-series-clustering.ipynb#W0sZmlsZQ%3D%3D?line=0'>1</a>\u001b[0m \u001b[39mimport\u001b[39;00m \u001b[39mpandas\u001b[39;00m \u001b[39mas\u001b[39;00m \u001b[39mpd\u001b[39;00m\n\u001b[1;32m----> <a href='vscode-notebook-cell:/c%3A/Users/hannah/git/downtownrecovery/databricks_work_updates/recent_updates/rfr_and_time-series-clustering.ipynb#W0sZmlsZQ%3D%3D?line=1'>2</a>\u001b[0m \u001b[39mfrom\u001b[39;00m \u001b[39mtslearn\u001b[39;00m\u001b[39m.\u001b[39;00m\u001b[39mclustering\u001b[39;00m \u001b[39mimport\u001b[39;00m TimeSeriesKMeans\n\u001b[0;32m      <a href='vscode-notebook-cell:/c%3A/Users/hannah/git/downtownrecovery/databricks_work_updates/recent_updates/rfr_and_time-series-clustering.ipynb#W0sZmlsZQ%3D%3D?line=2'>3</a>\u001b[0m \u001b[39mfrom\u001b[39;00m \u001b[39mtslearn\u001b[39;00m\u001b[39m.\u001b[39;00m\u001b[39mutils\u001b[39;00m \u001b[39mimport\u001b[39;00m to_time_series_dataset\n\u001b[0;32m      <a href='vscode-notebook-cell:/c%3A/Users/hannah/git/downtownrecovery/databricks_work_updates/recent_updates/rfr_and_time-series-clustering.ipynb#W0sZmlsZQ%3D%3D?line=3'>4</a>\u001b[0m \u001b[39mimport\u001b[39;00m \u001b[39mnumpy\u001b[39;00m \u001b[39mas\u001b[39;00m \u001b[39mnp\u001b[39;00m\n",
      "\u001b[1;31mModuleNotFoundError\u001b[0m: No module named 'tslearn'"
     ]
    }
   ],
   "source": [
    "import pandas as pd\n",
    "from tslearn.clustering import TimeSeriesKMeans\n",
    "from tslearn.utils import to_time_series_dataset\n",
    "import numpy as np\n",
    "import matplotlib.pyplot as plt\n",
    "from sklearn.preprocessing import MinMaxScaler\n",
    "from tslearn.datasets import CachedDatasets\n",
    "from tslearn.preprocessing import TimeSeriesScalerMeanVariance,TimeSeriesScalerMinMax, TimeSeriesResampler\n",
    "from datetime import datetime, timedelta, date\n",
    "import matplotlib.pyplot as plt\n",
    "import seaborn as sns\n",
    "from scipy import stats, misc\n",
    "from scipy.ndimage import gaussian_filter"
   ]
  },
  {
   "cell_type": "code",
   "execution_count": null,
   "metadata": {
    "application/vnd.databricks.v1+cell": {
     "cellMetadata": {},
     "inputWidgets": {},
     "nuid": "9b699067-e653-405b-afb8-440e75e973eb",
     "showTitle": false,
     "title": ""
    }
   },
   "outputs": [],
   "source": [
    "def create_and_save_as_table(df, table_name):\n",
    "    spark_df = spark.createDataFrame(df)\n",
    "    spark_df.write.format('csv').saveAsTable(table_name)\n",
    "    \n",
    "def get_table_as_pandas_df(table_name):\n",
    "    return sqlContext.sql(\"select * from \" + table_name + \" tables\").toPandas()"
   ]
  },
  {
   "cell_type": "code",
   "execution_count": null,
   "metadata": {
    "application/vnd.databricks.v1+cell": {
     "cellMetadata": {},
     "inputWidgets": {},
     "nuid": "148a15a0-924f-4ec4-9f04-948d5cb4619d",
     "showTitle": false,
     "title": ""
    }
   },
   "outputs": [],
   "source": [
    "features_table_name = '_0812_all_model_features_'\n",
    "# features_table_name = 'model_data_full'\n",
    "metrics = get_table_as_pandas_df('0714_combined_metrics_df')\n",
    "features = get_table_as_pandas_df(features_table_name)"
   ]
  },
  {
   "cell_type": "code",
   "execution_count": null,
   "metadata": {
    "application/vnd.databricks.v1+cell": {
     "cellMetadata": {},
     "inputWidgets": {},
     "nuid": "53fa1a60-c787-430d-ac2a-8cd75ef5a87f",
     "showTitle": false,
     "title": ""
    }
   },
   "outputs": [],
   "source": [
    "features.display()\n",
    "features.columns"
   ]
  },
  {
   "cell_type": "code",
   "execution_count": null,
   "metadata": {
    "application/vnd.databricks.v1+cell": {
     "cellMetadata": {},
     "inputWidgets": {},
     "nuid": "3cc3c0eb-c450-444e-aa56-8cb6783affbb",
     "showTitle": false,
     "title": ""
    }
   },
   "outputs": [],
   "source": [
    "## Import Device Count Tables\n",
    "raw_dc_post_feb = get_table_as_pandas_df('safegraph_patterns_count_agg_postal')"
   ]
  },
  {
   "cell_type": "code",
   "execution_count": null,
   "metadata": {
    "application/vnd.databricks.v1+cell": {
     "cellMetadata": {},
     "inputWidgets": {},
     "nuid": "29922249-3490-4c48-8349-e5acef42054d",
     "showTitle": false,
     "title": ""
    }
   },
   "outputs": [],
   "source": [
    "metrics['metric'].unique()"
   ]
  },
  {
   "cell_type": "code",
   "execution_count": null,
   "metadata": {
    "application/vnd.databricks.v1+cell": {
     "cellMetadata": {},
     "inputWidgets": {},
     "nuid": "c06dc357-cfd5-4624-88ff-526fe42577bc",
     "showTitle": false,
     "title": ""
    }
   },
   "outputs": [],
   "source": [
    "import scipy\n",
    "# idk if this helps\n",
    "def format_ts_numpy_flexible(metric, scaling, drop_cities, s, rolling=True):\n",
    "    rq_df = metrics.copy()\n",
    "    rq_df = metrics[metrics['metric'] == metric][['city', scaling, 'week']]\n",
    "    rq_df = rq_df.sort_values(by = 'week')[['city', 'week', 'normalized_visits_by_total_visits']]\n",
    "    rq_df = rq_df.dropna()\n",
    "    rq_df = rq_df.fillna(0)\n",
    "    \n",
    "    # Smoothing\n",
    "    if rolling:\n",
    "        rq_df = rq_df.pivot_table(columns = 'city', index = 'week', values = 'normalized_visits_by_total_visits').reset_index()\n",
    "        rq_df = rq_df.rolling(10, min_periods=1, center=True).mean()\n",
    "    else:\n",
    "        rq_df['normalized_visits_by_total_visits'] = rq_df.sort_values(by = 'week').groupby(['city'])['normalized_visits_by_total_visits'].transform(lambda x : scipy.ndimage.gaussian_filter1d(x, sigma = s, order = 0))\n",
    "        rq_df = rq_df.pivot_table(columns = 'city', index = 'week', values = 'normalized_visits_by_total_visits').reset_index()\n",
    "        rq_df = rq_df.drop(columns=['week'])\n",
    "        \n",
    "    # Drop outliers\n",
    "    cols_to_drop = drop_cities + ['Hamilton', 'Montreal', 'Quebec']\n",
    "    rq_df = rq_df.drop(columns=cols_to_drop) \n",
    "    \n",
    "    return rq_df, rq_df.to_numpy()\n",
    "rq_df, ts_format_dt_rq = format_ts_numpy_flexible('downtown', 'normalized_visits_by_total_visits', ['Dallas', 'Orlando', 'Oklahoma City', 'Mississauga', 'Hamilton', 'Kansas City', 'Salt Lake City'], 3, True)\n",
    "df = pd.DataFrame(rq_df)\n",
    "df['New York'].plot()\n",
    "# df.loc[1:100].plot()\n",
    "df.columns"
   ]
  },
  {
   "cell_type": "code",
   "execution_count": null,
   "metadata": {
    "application/vnd.databricks.v1+cell": {
     "cellMetadata": {},
     "inputWidgets": {},
     "nuid": "f5276e3b-5f18-4676-ac5b-398d2ab5a992",
     "showTitle": false,
     "title": ""
    }
   },
   "outputs": [],
   "source": [
    "## Converts a pandas dataframe to a numpy 2d array to do time series clustering\n",
    "def format_ts_numpy(metric, scaling, drop_cities):\n",
    "    rq_df = metrics.copy()\n",
    "    rq_df = metrics[metrics['metric'] == metric][['city', scaling, 'week']]\n",
    "    rq_df = rq_df.dropna()\n",
    "    rq_df = rq_df.pivot_table(index='city', columns='week', values=scaling, aggfunc='max').T.reset_index().drop(columns=['week'])\n",
    "    cols_to_drop = drop_cities + ['Hamilton', 'Montreal', 'Quebec']\n",
    "    rq_df = rq_df.drop(columns=cols_to_drop) \n",
    "    rq_df = rq_df.rolling(30, min_periods=1).mean()\n",
    "    rq_df = rq_df.fillna(0)\n",
    "    return rq_df, rq_df.to_numpy()"
   ]
  },
  {
   "cell_type": "code",
   "execution_count": null,
   "metadata": {
    "application/vnd.databricks.v1+cell": {
     "cellMetadata": {},
     "inputWidgets": {},
     "nuid": "19565375-9b2e-40de-825e-fb42abe2ef5c",
     "showTitle": false,
     "title": ""
    }
   },
   "outputs": [],
   "source": [
    "df[['New York', 'Boston', 'Washington DC', 'San Francisco','Los Angeles']].plot()"
   ]
  },
  {
   "cell_type": "code",
   "execution_count": null,
   "metadata": {
    "application/vnd.databricks.v1+cell": {
     "cellMetadata": {},
     "inputWidgets": {},
     "nuid": "dd4f1d0b-c1ff-4abf-9a0d-ed6e2fa19e36",
     "showTitle": false,
     "title": ""
    }
   },
   "outputs": [],
   "source": [
    "ts_format_dt_rq[0]"
   ]
  },
  {
   "cell_type": "code",
   "execution_count": null,
   "metadata": {
    "application/vnd.databricks.v1+cell": {
     "cellMetadata": {},
     "inputWidgets": {},
     "nuid": "788eb29a-8e98-40d1-a0c7-29ba37af09d0",
     "showTitle": false,
     "title": ""
    }
   },
   "outputs": [],
   "source": [
    "# Set clustering time period and generate clustering from the time period\n",
    "def gen_cluster(start_week, end_week, clusters, period, metric, rolling=True):\n",
    "    # Format plots for visualization \n",
    "    clusters_per_row = clusters / 2 if clusters % 2 == 0 else (clusters + 1) / 2\n",
    "    # Define start and end week range for time series clustering\n",
    "#     rq_df, ts_format_dt_rq = format_ts_numpy(metric, 'normalized_visits_by_total_visits', ['Dallas', 'Orlando', 'Oklahoma City', 'Mississauga', 'Hamilton', 'Kansas City', 'Salt Lake City'], 3, rolling)\n",
    "    rq_df, ts_format_dt_rq = format_ts_numpy(metric, 'normalized_visits_by_total_visits', ['Dallas', 'Orlando', 'Oklahoma City', 'Mississauga', 'Hamilton'])\n",
    "    ts_format_period_1_rq = ts_format_dt_rq[start_week:end_week]\n",
    "    shape = ts_format_period_1_rq.shape\n",
    "    # Normalize time series data\n",
    "    print(shape)\n",
    "    ts_format_dt_rq_scaled = TimeSeriesScalerMeanVariance().fit_transform(ts_format_period_1_rq).reshape(shape[0],shape[1]).T\n",
    "    ts_format_dt_rq_scaled = to_time_series_dataset(ts_format_dt_rq_scaled)\n",
    "    print(ts_format_dt_rq_scaled.shape)\n",
    "    # Set-up plot\n",
    "    plt.figure(figsize=(12, 8), dpi=80)\n",
    "    seed = 0\n",
    "    sz = ts_format_dt_rq_scaled.shape[1]\n",
    "    # DBA-k-means\n",
    "    print(\"DBA k-means\")\n",
    "    dba_km = TimeSeriesKMeans(n_clusters=clusters,\n",
    "                              n_init=2,\n",
    "                              metric=\"softdtw\",\n",
    "                              verbose=True,\n",
    "                              max_iter_barycenter=10,\n",
    "                              n_jobs=5,\n",
    "                              random_state=seed)\n",
    "    y_pred = dba_km.fit_predict(ts_format_dt_rq_scaled)\n",
    "\n",
    "    for yi in range(clusters):\n",
    "        index = (yi + 1)\n",
    "        plt.subplot(2, int(clusters_per_row), index)\n",
    "        for xx in ts_format_dt_rq_scaled[y_pred == yi]:\n",
    "            plt.plot(xx.ravel(), \"k-\", alpha=.2)\n",
    "        plt.plot(dba_km.cluster_centers_[yi].ravel(), \"r-\")\n",
    "        plt.xlim(0, sz)\n",
    "        plt.ylim(-4, 4)\n",
    "        plt.text(0.45, 0.85,'Cluster %d' % (yi),\n",
    "                 transform=plt.gca().transAxes)\n",
    "        if yi == 1:\n",
    "            plt.title(\"DBA $k$-means \" + \"Period: \" + str(period))\n",
    "\n",
    "    return pd.DataFrame({\n",
    "        'city': rq_df.columns.tolist(),\n",
    "        'cluster': y_pred\n",
    "    }).sort_values('cluster'), dba_km.cluster_centers_"
   ]
  },
  {
   "cell_type": "code",
   "execution_count": null,
   "metadata": {
    "application/vnd.databricks.v1+cell": {
     "cellMetadata": {},
     "inputWidgets": {},
     "nuid": "3eff7f4d-4690-407d-931e-ccf1592912cb",
     "showTitle": false,
     "title": ""
    }
   },
   "outputs": [],
   "source": [
    "per1_clusters, cluster_centers = gen_cluster(0, 30, 11, 1, 'downtown', True)\n",
    "per1_clusters.display()"
   ]
  },
  {
   "cell_type": "code",
   "execution_count": null,
   "metadata": {
    "application/vnd.databricks.v1+cell": {
     "cellMetadata": {},
     "inputWidgets": {},
     "nuid": "08b615e7-1cac-46ef-b0ea-6a087d2350bf",
     "showTitle": false,
     "title": ""
    }
   },
   "outputs": [],
   "source": [
    "def plot_cluster_centroids(df):\n",
    "    center_series = pd.DataFrame(df.reshape(df.shape[0], df.shape[1]))\n",
    "    center_series.T.plot()\n",
    "    center_series = center_series.T.reset_index()\n",
    "    return center_series.add_prefix('cluster_')"
   ]
  },
  {
   "cell_type": "code",
   "execution_count": null,
   "metadata": {
    "application/vnd.databricks.v1+cell": {
     "cellMetadata": {},
     "inputWidgets": {},
     "nuid": "194683db-537c-4528-8d2d-338c40070818",
     "showTitle": false,
     "title": ""
    }
   },
   "outputs": [],
   "source": [
    "cluster_center_series = pd.DataFrame(cluster_centers.reshape(cluster_centers.shape[0], cluster_centers.shape[1]))\n",
    "cluster_center_series.T.plot()"
   ]
  },
  {
   "cell_type": "code",
   "execution_count": null,
   "metadata": {
    "application/vnd.databricks.v1+cell": {
     "cellMetadata": {},
     "inputWidgets": {},
     "nuid": "dd6450a4-dbb5-4e38-bc38-14ecc1435f5b",
     "showTitle": false,
     "title": ""
    }
   },
   "outputs": [],
   "source": [
    "plot_cluster_centroids(cluster_centers)"
   ]
  },
  {
   "cell_type": "code",
   "execution_count": null,
   "metadata": {
    "application/vnd.databricks.v1+cell": {
     "cellMetadata": {},
     "inputWidgets": {},
     "nuid": "4ee750d1-3de3-4a69-a7c7-4460cf8d0a02",
     "showTitle": false,
     "title": ""
    }
   },
   "outputs": [],
   "source": [
    "create_and_save_as_table(plot_cluster_centroids(cluster_centers), 'thirty_week_centroids_2')"
   ]
  },
  {
   "cell_type": "code",
   "execution_count": null,
   "metadata": {
    "application/vnd.databricks.v1+cell": {
     "cellMetadata": {},
     "inputWidgets": {},
     "nuid": "d14fd571-1043-4490-976e-304b04aa93a6",
     "showTitle": false,
     "title": ""
    }
   },
   "outputs": [],
   "source": [
    "create_and_save_as_table(plot_cluster_centroids(cluster_centers), 'thirty_week_centroids')"
   ]
  },
  {
   "cell_type": "code",
   "execution_count": null,
   "metadata": {
    "application/vnd.databricks.v1+cell": {
     "cellMetadata": {},
     "inputWidgets": {},
     "nuid": "6629c158-8b32-4dab-82e4-77fb7007e79f",
     "showTitle": false,
     "title": ""
    }
   },
   "outputs": [],
   "source": [
    "# Create clusters based on slope and integral (creates 2 columns)\n",
    "def regression_clustering(cluster_series):\n",
    "    cluster_series_df = pd.DataFrame(cluster_series.reshape(cluster_series.shape[0], cluster_series.shape[1]))\n",
    "    def lin_regression_res(series):\n",
    "        slope, intercept, r_value, p_value, std_err = stats.linregress(list(range(0,series.shape[0])), series)\n",
    "        return [slope, intercept, r_value, p_value, std_err]\n",
    "    \n",
    "    # Slope Clustering\n",
    "    slope_bounds = {\n",
    "        'great_decline':{\n",
    "            'upper': -0.009,\n",
    "            'lower': -0.1\n",
    "        },\n",
    "        'slow_decline':{\n",
    "            'upper': -0.0001,\n",
    "            'lower': -0.009\n",
    "        },\n",
    "        'flat':{\n",
    "            'upper': 0.0001,\n",
    "            'lower': -0.0001\n",
    "        },\n",
    "        'slow_growth':{\n",
    "            'upper': 0.009,\n",
    "            'lower': 0.0001\n",
    "        },\n",
    "        'great_growth':{\n",
    "            'upper': 0.1,\n",
    "            'lower': 0.009\n",
    "        },\n",
    "    }\n",
    "    cluster_regressions = cluster_series_df.apply(lin_regression_res, axis=1, result_type='expand')\n",
    "    cluster_regressions.columns = ['slope', 'intercept', 'r_value', 'p_value', 'std_err']\n",
    "    cluster_regressions.loc[(cluster_regressions['slope'] > slope_bounds['great_growth']['lower']), 'slope_cluster'] = 4 # Great growth over time\n",
    "    cluster_regressions.loc[(cluster_regressions['slope'] > slope_bounds['slow_growth']['lower']) &\n",
    "                            (cluster_regressions['slope'] < slope_bounds['slow_growth']['upper'])\n",
    "                            , 'slope_cluster'] = 3 # Less growth over time\n",
    "    cluster_regressions.loc[(cluster_regressions['slope'] > slope_bounds['slow_decline']['lower']) &\n",
    "                            (cluster_regressions['slope'] < slope_bounds['slow_decline']['upper'])\n",
    "                            , 'slope_cluster'] = 2 # less decline over time\n",
    "    cluster_regressions.loc[(cluster_regressions['slope'] < slope_bounds['great_decline']['upper']), 'slope_cluster'] = 1 # Sharp decline over time\n",
    "    cluster_regressions.loc[(cluster_regressions['slope'] > slope_bounds['flat']['lower']) &\n",
    "                            (cluster_regressions['slope'] < slope_bounds['flat']['upper'])\n",
    "                            , 'slope_cluster'] = 0 # Flat\n",
    "    cluster_regressions['slope_cluster'] = cluster_regressions['slope_cluster'].astype(int) \n",
    "    # Create Integral Clusters\n",
    "    ## TODO\n",
    "    cluster_regressions = cluster_regressions.reset_index()\n",
    "    return cluster_regressions.rename(columns = {'index': 'cluster'})\n",
    "# regression_clustering(cluster_centers)"
   ]
  },
  {
   "cell_type": "code",
   "execution_count": null,
   "metadata": {
    "application/vnd.databricks.v1+cell": {
     "cellMetadata": {},
     "inputWidgets": {},
     "nuid": "f6b2ea63-3b67-405e-9cd6-d4ef628f5986",
     "showTitle": false,
     "title": ""
    }
   },
   "outputs": [],
   "source": [
    "def map_regression_clusters(raw_clusters, regression_clusters):\n",
    "    return pd.merge(raw_clusters, regression_clusters[['slope_cluster','cluster']], on='cluster')\n",
    "\n",
    "# map_regression_clusters(per1_clusters, regression_clustering(cluster_centers))"
   ]
  },
  {
   "cell_type": "code",
   "execution_count": null,
   "metadata": {
    "application/vnd.databricks.v1+cell": {
     "cellMetadata": {},
     "inputWidgets": {},
     "nuid": "ab73d5fc-6a66-42b6-8786-482affbd5fd4",
     "showTitle": false,
     "title": ""
    }
   },
   "outputs": [],
   "source": [
    "## Generate clusters for all time series - LQ CLUSTERS\n",
    "first_week_index = 14\n",
    "last_week_index = 123\n",
    "num_clusters = 5\n",
    "sigma = 3\n",
    "metric = 'relative'\n",
    "rolling = True\n",
    "#input: gen_cluster(first_week, last_week, no clusters, sigma, metric, rolling =True)\n",
    "lq_clusters, lq_cluster_centers = gen_cluster(first_week_index, last_week_index, num_clusters, sigma, metric, rolling)\n",
    "lq_clusters.display()"
   ]
  },
  {
   "cell_type": "code",
   "execution_count": null,
   "metadata": {
    "application/vnd.databricks.v1+cell": {
     "cellMetadata": {},
     "inputWidgets": {},
     "nuid": "3ff6df38-98ab-467c-acc1-5445fd9b6633",
     "showTitle": false,
     "title": ""
    }
   },
   "outputs": [],
   "source": [
    "create_and_save_as_table(lq_clusters, \"lq_clusters_single_period_5\")"
   ]
  },
  {
   "cell_type": "code",
   "execution_count": null,
   "metadata": {
    "application/vnd.databricks.v1+cell": {
     "cellMetadata": {},
     "inputWidgets": {},
     "nuid": "684ab568-0714-44ac-acda-21122088dafc",
     "showTitle": false,
     "title": ""
    }
   },
   "outputs": [],
   "source": [
    "create_and_save_as_table(lq_clusters, \"lq_clusters_0822\")\n",
    "relative_clusters = pd.concat([pd.DataFrame(data = cluster, columns = [i]) for i, cluster in enumerate(lq_cluster_centers)], axis = 1).reset_index()\n",
    "relative_clusters['week'] = relative_clusters['index'] + 14\n",
    "relative_clusters = relative_clusters.set_index('week').drop(columns = 'index')\n",
    "create_and_save_as_table(relative_clusters, \"lq_cluster_centers_0822\")"
   ]
  },
  {
   "cell_type": "code",
   "execution_count": null,
   "metadata": {
    "application/vnd.databricks.v1+cell": {
     "cellMetadata": {},
     "inputWidgets": {},
     "nuid": "4866bc42-fa7c-48d7-9a43-344e4ae9e1b7",
     "showTitle": false,
     "title": ""
    }
   },
   "outputs": [],
   "source": [
    "## Trial Downtown 5\n",
    "first_week_index = 14\n",
    "last_week_index = 123\n",
    "num_clusters = 8\n",
    "sigma = 3\n",
    "metric = 'downtown'\n",
    "rolling = True\n",
    "#input: gen_cluster(first_week, last_week, no clusters, sigma, metric, rolling =True)\n",
    "rq_dwtn_clusters, rq_dwtn_cluster_centers = gen_cluster(first_week_index, last_week_index, num_clusters, sigma, metric, rolling)\n",
    "rq_dwtn_clusters.display()"
   ]
  },
  {
   "cell_type": "code",
   "execution_count": null,
   "metadata": {
    "application/vnd.databricks.v1+cell": {
     "cellMetadata": {},
     "inputWidgets": {},
     "nuid": "69e323a7-a458-4b97-ac33-6bcde8061844",
     "showTitle": false,
     "title": ""
    }
   },
   "outputs": [],
   "source": [
    "create_and_save_as_table(rq_dwtn_clusters, \"rq_dwtn_8_clusters_0822\")\n",
    "relative_clusters = pd.concat([pd.DataFrame(data = cluster, columns = [i]) for i, cluster in enumerate(rq_dwtn_cluster_centers)], axis = 1).reset_index()\n",
    "relative_clusters['week'] = relative_clusters['index'] + 14\n",
    "relative_clusters = relative_clusters.set_index('week').drop(columns = 'index')\n",
    "create_and_save_as_table(relative_clusters, \"rq_dwtn_8_cluster_centers_0822\")"
   ]
  },
  {
   "cell_type": "code",
   "execution_count": null,
   "metadata": {
    "application/vnd.databricks.v1+cell": {
     "cellMetadata": {},
     "inputWidgets": {},
     "nuid": "9c713003-c933-4fe8-84c6-55f0c19dc4f0",
     "showTitle": false,
     "title": ""
    }
   },
   "outputs": [],
   "source": [
    "## Generate clusters for all time series DOWNTOWN PERIODS\n",
    "first_week_index = 14\n",
    "last_week_index = 67\n",
    "num_clusters = 6\n",
    "sigma = 3\n",
    "metric = 'downtown'\n",
    "rolling = True\n",
    "#input: gen_cluster(first_week, last_week, no clusters, sigma, metric, rolling =True)\n",
    "rq_dwtn_clusters, rq_dwtn_cluster_centers = gen_cluster(first_week_index, last_week_index, num_clusters, sigma, metric, rolling)\n",
    "rq_dwtn_clusters.display()"
   ]
  },
  {
   "cell_type": "code",
   "execution_count": null,
   "metadata": {
    "application/vnd.databricks.v1+cell": {
     "cellMetadata": {},
     "inputWidgets": {},
     "nuid": "2cba302a-ae33-42a0-b846-019e2a45cce2",
     "showTitle": false,
     "title": ""
    }
   },
   "outputs": [],
   "source": [
    "create_and_save_as_table(rq_dwtn_clusters, \"rq_dwtn_clusters_0823_period_1\")"
   ]
  },
  {
   "cell_type": "code",
   "execution_count": null,
   "metadata": {
    "application/vnd.databricks.v1+cell": {
     "cellMetadata": {},
     "inputWidgets": {},
     "nuid": "d713ba35-7e08-4fa6-8d6c-deb9978353fb",
     "showTitle": false,
     "title": ""
    }
   },
   "outputs": [],
   "source": [
    "## Generate clusters for all time series DOWNTOWN PERIODS\n",
    "first_week_index = 14\n",
    "last_week_index = 119\n",
    "num_clusters = 9\n",
    "sigma = 3\n",
    "metric = 'downtown'\n",
    "rolling = True\n",
    "#input: gen_cluster(first_week, last_week, no clusters, sigma, metric, rolling =True)\n",
    "rq_dwtn_clusters, rq_dwtn_cluster_centers = gen_cluster(first_week_index, last_week_index, num_clusters, sigma, metric, rolling)\n",
    "rq_dwtn_clusters.display()"
   ]
  },
  {
   "cell_type": "code",
   "execution_count": null,
   "metadata": {
    "application/vnd.databricks.v1+cell": {
     "cellMetadata": {},
     "inputWidgets": {},
     "nuid": "eb470479-87b1-49ff-ab91-617bd667c896",
     "showTitle": false,
     "title": ""
    }
   },
   "outputs": [],
   "source": [
    "create_and_save_as_table(rq_dwtn_clusters, \"rq_dwtn_clusters_0831_all_2\")"
   ]
  },
  {
   "cell_type": "code",
   "execution_count": null,
   "metadata": {
    "application/vnd.databricks.v1+cell": {
     "cellMetadata": {},
     "inputWidgets": {},
     "nuid": "62b81502-8d92-4a6e-ba65-4e7312b449e1",
     "showTitle": false,
     "title": ""
    }
   },
   "outputs": [],
   "source": [
    "# Cluster Centroids Plot for Downtown RQ Clusters\n",
    "plot_cluster_centroids(rq_dwtn_cluster_centers)"
   ]
  },
  {
   "cell_type": "code",
   "execution_count": null,
   "metadata": {
    "application/vnd.databricks.v1+cell": {
     "cellMetadata": {},
     "inputWidgets": {},
     "nuid": "036f163e-dddb-4b3d-b20f-94368a7d50d1",
     "showTitle": false,
     "title": ""
    }
   },
   "outputs": [],
   "source": [
    "#old\n",
    "create_and_save_as_table(rq_dwtn_clusters, \"rq_dwtn_clusters_0823_period_1\")\n",
    "relative_clusters = pd.concat([pd.DataFrame(data = cluster, columns = [i]) for i, cluster in enumerate(rq_dwtn_cluster_centers)], axis = 1).reset_index()\n",
    "relative_clusters['week'] = relative_clusters['index'] + 14\n",
    "relative_clusters = relative_clusters.set_index('week').drop(columns = 'index')\n",
    "create_and_save_as_table(relative_clusters, \"rq_dwtn_cluster_centers_0823_period_1\")"
   ]
  },
  {
   "cell_type": "code",
   "execution_count": null,
   "metadata": {
    "application/vnd.databricks.v1+cell": {
     "cellMetadata": {},
     "inputWidgets": {},
     "nuid": "4b0add6e-c0cb-40b7-8980-b4c32bbbc586",
     "showTitle": false,
     "title": ""
    }
   },
   "outputs": [],
   "source": [
    "# LQ CLUSTERS PERIOD 1\n",
    "## Generate clusters for all time series DOWNTOWN PERIODS\n",
    "first_week_index = 14\n",
    "last_week_index = 67\n",
    "num_clusters = 6\n",
    "sigma = 3\n",
    "metric = 'relative'\n",
    "rolling = True\n",
    "#input: gen_cluster(first_week, last_week, no clusters, sigma, metric, rolling =True)\n",
    "lq_clusters, lq_cluster_centers = gen_cluster(first_week_index, last_week_index, num_clusters, sigma, metric, rolling)\n",
    "lq_clusters.display()"
   ]
  },
  {
   "cell_type": "code",
   "execution_count": null,
   "metadata": {
    "application/vnd.databricks.v1+cell": {
     "cellMetadata": {},
     "inputWidgets": {},
     "nuid": "23494aef-25fb-4033-bd63-0c05d2de84a4",
     "showTitle": false,
     "title": ""
    }
   },
   "outputs": [],
   "source": [
    "create_and_save_as_table(lq_clusters, \"lq_clusters_0824_period_1_new\")"
   ]
  },
  {
   "cell_type": "code",
   "execution_count": null,
   "metadata": {
    "application/vnd.databricks.v1+cell": {
     "cellMetadata": {},
     "inputWidgets": {},
     "nuid": "c11adfb4-3e74-4b15-b332-edfc20f06768",
     "showTitle": false,
     "title": ""
    }
   },
   "outputs": [],
   "source": [
    "# LQ CLUSTERS PERIOD 2\n",
    "## Generate clusters for all time series DOWNTOWN PERIODS\n",
    "first_week_index = 67\n",
    "last_week_index = 119\n",
    "num_clusters = 6\n",
    "sigma = 3\n",
    "metric = 'relative'\n",
    "rolling = True\n",
    "#input: gen_cluster(first_week, last_week, no clusters, sigma, metric, rolling =True)\n",
    "lq_clusters, lq_cluster_centers = gen_cluster(first_week_index, last_week_index, num_clusters, sigma, metric, rolling)\n",
    "lq_clusters.display()"
   ]
  },
  {
   "cell_type": "code",
   "execution_count": null,
   "metadata": {
    "application/vnd.databricks.v1+cell": {
     "cellMetadata": {},
     "inputWidgets": {},
     "nuid": "579dc370-91c0-4919-91a2-fa177778951d",
     "showTitle": false,
     "title": ""
    }
   },
   "outputs": [],
   "source": [
    "create_and_save_as_table(lq_clusters, \"lq_clusters_0824_period_2_new\")"
   ]
  },
  {
   "cell_type": "code",
   "execution_count": null,
   "metadata": {
    "application/vnd.databricks.v1+cell": {
     "cellMetadata": {},
     "inputWidgets": {},
     "nuid": "023ab8e5-1cb3-42d9-8591-09bd601b20a6",
     "showTitle": false,
     "title": ""
    }
   },
   "outputs": [],
   "source": [
    "# LQ CLUSTERS PERIOD ALL\n",
    "## Generate clusters for all time series DOWNTOWN PERIODS\n",
    "first_week_index = 14\n",
    "last_week_index = 119\n",
    "num_clusters = 7\n",
    "sigma = 3\n",
    "metric = 'relative'\n",
    "rolling = True\n",
    "#input: gen_cluster(first_week, last_week, no clusters, sigma, metric, rolling =True)\n",
    "lq_clusters, lq_cluster_centers = gen_cluster(first_week_index, last_week_index, num_clusters, sigma, metric, rolling)\n",
    "lq_clusters.display()"
   ]
  },
  {
   "cell_type": "code",
   "execution_count": null,
   "metadata": {
    "application/vnd.databricks.v1+cell": {
     "cellMetadata": {},
     "inputWidgets": {},
     "nuid": "e1aa21c1-dc9b-4be2-be10-40c1eac3a67a",
     "showTitle": false,
     "title": ""
    }
   },
   "outputs": [],
   "source": [
    "create_and_save_as_table(lq_clusters, \"lq_clusters_0824_all_time\")"
   ]
  },
  {
   "cell_type": "code",
   "execution_count": null,
   "metadata": {
    "application/vnd.databricks.v1+cell": {
     "cellMetadata": {},
     "inputWidgets": {},
     "nuid": "652b3362-bdf0-4740-8c0e-55199d574274",
     "showTitle": false,
     "title": ""
    }
   },
   "outputs": [],
   "source": [
    "## Generate clusters for all time series\n",
    "first_week_index = 14\n",
    "last_week_index = 123\n",
    "num_clusters = 11\n",
    "sigma = 3\n",
    "metric = 'metro'\n",
    "rolling = True\n",
    "#input: gen_cluster(first_week, last_week, no clusters, sigma, metric, rolling =True)\n",
    "rq_city_clusters, rq_city_cluster_centers = gen_cluster(first_week_index, last_week_index, num_clusters, sigma, metric, rolling)\n",
    "rq_city_clusters.display()"
   ]
  },
  {
   "cell_type": "code",
   "execution_count": null,
   "metadata": {
    "application/vnd.databricks.v1+cell": {
     "cellMetadata": {},
     "inputWidgets": {},
     "nuid": "136e692a-d3fe-4c97-b06f-8ea5fdc91747",
     "showTitle": false,
     "title": ""
    }
   },
   "outputs": [],
   "source": [
    "cluster_labeled_metrics = pd.merge(rq_city_clusters, metrics, on='city')\n",
    "cluster_labeled_metrics"
   ]
  },
  {
   "cell_type": "code",
   "execution_count": null,
   "metadata": {
    "application/vnd.databricks.v1+cell": {
     "cellMetadata": {},
     "inputWidgets": {},
     "nuid": "dd153c8d-6a75-4a1c-ad3f-19354879b7a7",
     "showTitle": false,
     "title": ""
    }
   },
   "outputs": [],
   "source": [
    "# Cluster Centroids Plot for City RQ Clusters\n",
    "plot_cluster_centroids(rq_city_cluster_centers)"
   ]
  },
  {
   "cell_type": "code",
   "execution_count": null,
   "metadata": {
    "application/vnd.databricks.v1+cell": {
     "cellMetadata": {},
     "inputWidgets": {},
     "nuid": "2ce854d8-6675-4dc2-8a3b-05bd9a9227a3",
     "showTitle": false,
     "title": ""
    }
   },
   "outputs": [],
   "source": [
    "create_and_save_as_table(rq_city_clusters, \"rq_city_clusters_0822\")\n",
    "relative_clusters = pd.concat([pd.DataFrame(data = cluster, columns = [i]) for i, cluster in enumerate(rq_city_cluster_centers)], axis = 1).reset_index()\n",
    "relative_clusters['week'] = relative_clusters['index'] + 14\n",
    "relative_clusters = relative_clusters.set_index('week').drop(columns = 'index')\n",
    "create_and_save_as_table(relative_clusters, \"rq_city_cluster_centers_0822\")"
   ]
  },
  {
   "cell_type": "code",
   "execution_count": null,
   "metadata": {
    "application/vnd.databricks.v1+cell": {
     "cellMetadata": {},
     "inputWidgets": {},
     "nuid": "206178be-b514-4222-a18d-a5465c4fb1e2",
     "showTitle": false,
     "title": ""
    }
   },
   "outputs": [],
   "source": [
    "#old\n",
    "all_weeks = 123\n",
    "per2_clusters, per2_cluster_centers = gen_cluster(1, all_weeks, 10, 3, 'downtown', True)\n",
    "per2_clusters.display()"
   ]
  },
  {
   "cell_type": "code",
   "execution_count": null,
   "metadata": {
    "application/vnd.databricks.v1+cell": {
     "cellMetadata": {},
     "inputWidgets": {},
     "nuid": "d5b70bbf-e659-4a45-a23d-fa64579f3b3a",
     "showTitle": false,
     "title": ""
    }
   },
   "outputs": [],
   "source": [
    "get_table_as_pandas_df('all_time_series_clusters_0821')"
   ]
  },
  {
   "cell_type": "code",
   "execution_count": null,
   "metadata": {
    "application/vnd.databricks.v1+cell": {
     "cellMetadata": {},
     "inputWidgets": {},
     "nuid": "ea1f97d3-8767-4d34-b22a-54351b81db65",
     "showTitle": false,
     "title": ""
    }
   },
   "outputs": [],
   "source": [
    "slope_cluster_df = regression_clustering(per2_cluster_centers)\n",
    "slope_cluster_df.display()\n",
    "per2_clusters"
   ]
  },
  {
   "cell_type": "code",
   "execution_count": null,
   "metadata": {
    "application/vnd.databricks.v1+cell": {
     "cellMetadata": {},
     "inputWidgets": {},
     "nuid": "b4b92fd9-a1bf-4aae-be75-33c9b933458f",
     "showTitle": false,
     "title": ""
    }
   },
   "outputs": [],
   "source": [
    "per2_all_clusters = map_regression_clusters(per2_clusters, regression_clustering(per2_cluster_centers))\n",
    "per2_all_clusters.display()"
   ]
  },
  {
   "cell_type": "code",
   "execution_count": null,
   "metadata": {
    "application/vnd.databricks.v1+cell": {
     "cellMetadata": {},
     "inputWidgets": {},
     "nuid": "93184734-2ce2-4e80-a4e1-871c831ebbc1",
     "showTitle": false,
     "title": ""
    }
   },
   "outputs": [],
   "source": [
    "per2_clusters = gen_cluster(30, 90, 8, 2)\n",
    "per2_clusters.display()"
   ]
  },
  {
   "cell_type": "code",
   "execution_count": null,
   "metadata": {
    "application/vnd.databricks.v1+cell": {
     "cellMetadata": {},
     "inputWidgets": {},
     "nuid": "c27fe7cc-7854-4f06-962a-7f7f0d7ebd22",
     "showTitle": false,
     "title": ""
    }
   },
   "outputs": [],
   "source": [
    "per2_clusters = gen_cluster(30, 123, 4, 3)\n",
    "per2_clusters.display()"
   ]
  },
  {
   "cell_type": "code",
   "execution_count": null,
   "metadata": {
    "application/vnd.databricks.v1+cell": {
     "cellMetadata": {},
     "inputWidgets": {},
     "nuid": "66b0f97a-e619-4ea5-bf01-2a8e8fa1ee84",
     "showTitle": false,
     "title": ""
    }
   },
   "outputs": [],
   "source": [
    "import statsmodels.api as sm\n",
    "from sklearn.tree import DecisionTreeClassifier, plot_tree\n",
    "from sklearn.model_selection import cross_val_score\n",
    "from sklearn import preprocessing"
   ]
  },
  {
   "cell_type": "code",
   "execution_count": null,
   "metadata": {
    "application/vnd.databricks.v1+cell": {
     "cellMetadata": {},
     "inputWidgets": {},
     "nuid": "ba55f1fb-1641-43a5-b9f6-a5a6ad58adbc",
     "showTitle": false,
     "title": ""
    }
   },
   "outputs": [],
   "source": [
    "per2_clusters.display()"
   ]
  },
  {
   "cell_type": "code",
   "execution_count": null,
   "metadata": {
    "application/vnd.databricks.v1+cell": {
     "cellMetadata": {},
     "inputWidgets": {},
     "nuid": "ecdf4bd6-97d8-46f9-b638-05fc1e00111a",
     "showTitle": false,
     "title": ""
    }
   },
   "outputs": [],
   "source": [
    "# Feature Engineering\n",
    "def covid_feat_engineering(raw_cluster_df, cluster_col_name):\n",
    "    old_metrics_cols_to_drop = ['_c0', 'display_title', 'seasonal_average']\n",
    "    cols_to_drop = ['display_title']\n",
    "    enc = preprocessing.LabelEncoder()\n",
    "    features_clean = features.copy()\n",
    "    features_clean.display()\n",
    "    features_clean = features_clean[features['metric'] == 'downtown'].drop(['metric'], axis=1)\n",
    "    # Create regional dummy variables\n",
    "    features_clean = pd.concat([pd.get_dummies(features_clean['region']), features_clean], axis=1).drop('region', axis=1)\n",
    "    ### Identify clusters with more than 5 instances\n",
    "    cluster_labeled = pd.merge(raw_cluster_df, features_clean, on='city', how='outer')\n",
    "    cluster_labeled = cluster_labeled.dropna()\n",
    "    cluster_labeled[cluster_col_name] = cluster_labeled[cluster_col_name].astype('int')\n",
    "    cluster_labeled = cluster_labeled.groupby('city').mean()\n",
    "    features_columns = cluster_labeled.columns.tolist()\n",
    "    features_columns.remove(cluster_col_name)\n",
    "    city_suffix_list = ['region',\n",
    "        'total_pop_city',\n",
    "     'population_density_city',\n",
    "     'housing_units_city',\n",
    "     'housing_density_city',\n",
    "     'pct_renter_city',\n",
    "     'pct_singlefam_city',\n",
    "     'pct_multifam_city',\n",
    "     'median_age_city',\n",
    "     'bachelor_plus_city',\n",
    "     'pct_vacant_city',\n",
    "     'median_rent_city',\n",
    "     'median_hhinc_city',\n",
    "     'pct_nhwhite_city',\n",
    "     'pct_nhblack_city',\n",
    "     'pct_hisp_city',\n",
    "     'pct_nhasian_city',\n",
    "     'pct_commute_auto_city',\n",
    "     'pct_commute_public_transit_city',\n",
    "     'pct_commute_bicycle_city',\n",
    "     'pct_commute_walk_city',\n",
    "     'average_commute_time_city',]\n",
    "    features_columns = [ elem for elem in features_columns if elem not in city_suffix_list]\n",
    "    return cluster_labeled, features_columns\n",
    "\n",
    "cluster_feat_df, feat_cols = covid_feat_engineering(per2_all_clusters[['city', 'slope_cluster']], 'slope_cluster')\n",
    "cluster_feat_df"
   ]
  },
  {
   "cell_type": "code",
   "execution_count": null,
   "metadata": {
    "application/vnd.databricks.v1+cell": {
     "cellMetadata": {},
     "inputWidgets": {},
     "nuid": "6c132cbf-5b36-4db7-8197-ead2c46819ab",
     "showTitle": false,
     "title": ""
    }
   },
   "outputs": [],
   "source": [
    "# dt_important_vars = ['average_commute_time_downtown', 'median_age_downtown', 'pct_hisp_downtown', 'pct_jobs_professional_science_techical', 'pct_commute_auto_downtown', 'pct_commute_public_transit_downtown', 'pct_commute_bicycle_downtown', 'pct_commute_walk_downtown', 'pct_commute_others_downtown', 'pct_jobs_educational_services', 'pct_jobs_finance_insurance', 'pct_jobs_healthcare_social_assistance', 'pct_jobs_accomodation_food_services']\n",
    "# per_1_feats[dt_important_vars].corr().style.background_gradient(cmap='coolwarm')\n",
    "\n",
    "# per_1_feats[['average_commute_time_city',  'median_age_city', 'pct_hisp_city', 'pct_jobs_professional_science_techical', 'pct_commute_auto_city',  'pct_commute_public_transit_city', 'pct_commute_walk_city', 'pct_commute_others_city', 'pct_jobs_educational_services', 'pct_jobs_finance_insurance', 'pct_jobs_healthcare_social_assistance', 'pct_jobs_accomodation_food_services']].corr().style.background_gradient(cmap='coolwarm')\n",
    "\n",
    "per_1_feats.corr().style.background_gradient(cmap='coolwarm')"
   ]
  },
  {
   "cell_type": "code",
   "execution_count": null,
   "metadata": {
    "application/vnd.databricks.v1+cell": {
     "cellMetadata": {},
     "inputWidgets": {},
     "nuid": "f69eaa0e-3827-4d8d-a185-ae175f14c1fe",
     "showTitle": false,
     "title": ""
    }
   },
   "outputs": [],
   "source": [
    "cluster_features, feature_col_names = covid_feat_engineering(per2_all_clusters[['city', 'slope_cluster']], 'slope_cluster')\n",
    "X = cluster_features[feature_col_names]\n",
    "# X = per_1_feats[dt_important_vars].to_numpy()\n",
    "scaler = preprocessing.StandardScaler().fit(X)\n",
    "X_scaled = scaler.transform(X)\n",
    "y = cluster_features['slope_cluster'].to_numpy()\n",
    "y"
   ]
  },
  {
   "cell_type": "code",
   "execution_count": null,
   "metadata": {
    "application/vnd.databricks.v1+cell": {
     "cellMetadata": {},
     "inputWidgets": {},
     "nuid": "3be3c3d6-2f09-4ec9-bed9-e4e847a6944c",
     "showTitle": false,
     "title": ""
    }
   },
   "outputs": [],
   "source": [
    "clf = DecisionTreeClassifier(random_state=0)\n",
    "model = clf.fit(X_scaled, y)\n",
    "print(cross_val_score(model, X_scaled, y, cv=10).mean(), ' mean cvs')\n",
    "feature_imp = list(zip(features_columns, model.feature_importances_))\n",
    "feat_imp_df = pd.DataFrame.from_records(feature_imp, columns=['variable', 'importance'])\n",
    "imp_features = feat_imp_df[feat_imp_df['importance'] > 0]['variable'].tolist()\n",
    "imp_features"
   ]
  },
  {
   "cell_type": "code",
   "execution_count": null,
   "metadata": {
    "application/vnd.databricks.v1+cell": {
     "cellMetadata": {},
     "inputWidgets": {},
     "nuid": "397f2aa9-c714-4f44-9f7a-a9bb5e721029",
     "showTitle": false,
     "title": ""
    }
   },
   "outputs": [],
   "source": [
    "fig = plt.figure(figsize=(25,20))\n",
    "_ = plot_tree(model, \n",
    "           feature_names=feature_col_names,  \n",
    "           class_names=['Flat', 'Decline', 'Less Growth', 'More Growth'],\n",
    "           filled=True)"
   ]
  },
  {
   "cell_type": "code",
   "execution_count": null,
   "metadata": {
    "application/vnd.databricks.v1+cell": {
     "cellMetadata": {},
     "inputWidgets": {},
     "nuid": "d66bb26e-c8d8-4f41-b65f-e6324c7293e8",
     "showTitle": false,
     "title": ""
    }
   },
   "outputs": [],
   "source": [
    "features_df = cluster_features[imp_features]\n",
    "all_normalized = (features_df - features_df.mean())/features_df.std()\n",
    "# all_normalized = all_normalized.astype('float64')\n",
    "logit_model=sm.MNLogit(cluster_features['slope_cluster'],sm.add_constant(all_normalized))\n",
    "result=logit_model.fit()\n",
    "stats1=result.summary()\n",
    "print(stats1)"
   ]
  },
  {
   "cell_type": "code",
   "execution_count": null,
   "metadata": {
    "application/vnd.databricks.v1+cell": {
     "cellMetadata": {},
     "inputWidgets": {},
     "nuid": "5b59a8db-14ce-4709-8947-f0489a8473aa",
     "showTitle": false,
     "title": ""
    }
   },
   "outputs": [],
   "source": [
    "per_1_normalized = (per_1_feats[imp_features] - per_1_feats[imp_features].mean())/per_1_feats[imp_features].std()\n",
    "logit_model=sm.MNLogit(per_1_feats['manual_cluster'],sm.add_constant(per_1_normalized))\n",
    "result=logit_model.fit()\n",
    "stats1=result.summary()\n",
    "stats2=result.summary2()\n",
    "print(stats1)\n",
    "print(stats2)"
   ]
  },
  {
   "cell_type": "code",
   "execution_count": null,
   "metadata": {
    "application/vnd.databricks.v1+cell": {
     "cellMetadata": {},
     "inputWidgets": {},
     "nuid": "10ef424f-14f9-450f-8d95-550107f66475",
     "showTitle": false,
     "title": ""
    }
   },
   "outputs": [],
   "source": [
    "per_1_normalized = (per_1_feats[imp_features] - per_1_feats[imp_features].mean())/per_1_feats[imp_features].std()\n",
    "logit_model=sm.MNLogit(per_1_feats['cluster'],sm.add_constant(per_1_normalized))\n",
    "result=logit_model.fit()\n",
    "stats1=result.summary()\n",
    "stats2=result.summary2()\n",
    "print(stats1)\n",
    "# print(stats2)"
   ]
  },
  {
   "cell_type": "code",
   "execution_count": null,
   "metadata": {
    "application/vnd.databricks.v1+cell": {
     "cellMetadata": {},
     "inputWidgets": {},
     "nuid": "a030641d-0188-46fd-b0bd-a0af6e566dd0",
     "showTitle": false,
     "title": ""
    }
   },
   "outputs": [],
   "source": [
    "per1_clusters.display()"
   ]
  },
  {
   "cell_type": "code",
   "execution_count": null,
   "metadata": {
    "application/vnd.databricks.v1+cell": {
     "cellMetadata": {},
     "inputWidgets": {},
     "nuid": "cd074a26-2650-4958-99b7-6a52d5f1a71a",
     "showTitle": false,
     "title": ""
    }
   },
   "outputs": [],
   "source": [
    "rq_ts_df = pd.DataFrame(ts_format_dt_rq)\n",
    "rq_ts_df['dba_kmeans_cluster'] = y_pred\n",
    "rq_ts_df.sort_values(by='dba_kmeans_cluster')"
   ]
  },
  {
   "cell_type": "code",
   "execution_count": null,
   "metadata": {
    "application/vnd.databricks.v1+cell": {
     "cellMetadata": {},
     "inputWidgets": {},
     "nuid": "29adfa36-d457-42d2-8ef0-1799be05efb5",
     "showTitle": false,
     "title": ""
    }
   },
   "outputs": [],
   "source": [
    "cities_clusters = []\n",
    "\n",
    "for cluster_id in range(0,6):\n",
    "    cluster_city_names = dt_all_metro_lq_df[dt_all_metro_lq_df['dba_kmeans_cluster'] == cluster_id].index.tolist()\n",
    "    if 'Hamilton' in cluster_city_names:\n",
    "        cluster_city_names.remove('Hamilton')\n",
    "    cities_clusters.append(cluster_city_names)"
   ]
  },
  {
   "cell_type": "code",
   "execution_count": null,
   "metadata": {
    "application/vnd.databricks.v1+cell": {
     "cellMetadata": {},
     "inputWidgets": {},
     "nuid": "b57b1736-8242-4259-80ca-75c0ec91ead4",
     "showTitle": false,
     "title": ""
    }
   },
   "outputs": [],
   "source": [
    "len(cities_clusters)"
   ]
  },
  {
   "cell_type": "code",
   "execution_count": null,
   "metadata": {
    "application/vnd.databricks.v1+cell": {
     "cellMetadata": {},
     "inputWidgets": {},
     "nuid": "91ef324b-94a5-4fe3-b002-545e578f7461",
     "showTitle": false,
     "title": ""
    }
   },
   "outputs": [],
   "source": [
    "all_cities_weekly_df['date_range_start_covid'] = pd.to_datetime(all_cities_weekly_df['date_range_start_covid'])\n",
    "zoomed_in_lqs = all_cities_weekly_df[(all_cities_weekly_df['date_range_start_covid'] > datetime(2021,3,1)) & \n",
    "                     (all_cities_weekly_df['date_range_start_covid'] < datetime(2021,4,14))]\n",
    "zoomed_in_lqs = zoomed_in_lqs.groupby(by=['city','date_range_start_covid'])['nvs_lq'].sum().to_frame()\n",
    "zoomed_in_lqs"
   ]
  },
  {
   "cell_type": "code",
   "execution_count": null,
   "metadata": {
    "application/vnd.databricks.v1+cell": {
     "cellMetadata": {},
     "inputWidgets": {},
     "nuid": "3690a70e-df74-4558-b225-eefe012b5366",
     "showTitle": false,
     "title": ""
    }
   },
   "outputs": [],
   "source": [
    "for cluster in cities_clusters:\n",
    "    plt.figure(figsize = (12,8))\n",
    "    sns.set_style(\"darkgrid\")\n",
    "    in_scope_cities = all_cities_weekly_df[all_cities_weekly_df['city'].isin(cluster)]\n",
    "    plotting_df = pd.DataFrame()\n",
    "    sns.lineplot(x = \"date_range_start_covid\", \n",
    "             y = \"rolling_nvs_lq\",\n",
    "             hue=\"city\",\n",
    "             data = in_scope_cities)\n",
    "    plt.title(\"LQ Time Series - 9 week Rolling Average\")\n",
    "    plt.xticks(rotation = 25)"
   ]
  },
  {
   "cell_type": "code",
   "execution_count": null,
   "metadata": {
    "application/vnd.databricks.v1+cell": {
     "cellMetadata": {},
     "inputWidgets": {},
     "nuid": "7bec1962-2dfe-4d2a-8fd3-006e94e76b33",
     "showTitle": false,
     "title": ""
    }
   },
   "outputs": [],
   "source": [
    "from sklearn.ensemble import RandomForestClassifier, RandomForestRegressor\n",
    "from sklearn.model_selection import StratifiedKFold, KFold\n",
    "from sklearn.metrics import roc_curve, auc, mean_squared_error\n",
    "from sklearn.preprocessing import StandardScaler\n",
    "from sklearn.decomposition import PCA"
   ]
  },
  {
   "cell_type": "code",
   "execution_count": null,
   "metadata": {
    "application/vnd.databricks.v1+cell": {
     "cellMetadata": {},
     "inputWidgets": {},
     "nuid": "26ed078b-f02d-42c2-9ad3-63072aa4f0f5",
     "showTitle": false,
     "title": ""
    }
   },
   "outputs": [],
   "source": [
    "city_lqs_with_attributes_df = get_table_as_pandas_df('city_lqs_with_attributes_0321')\n",
    "display(city_lqs_with_attributes_df)"
   ]
  },
  {
   "cell_type": "code",
   "execution_count": null,
   "metadata": {
    "application/vnd.databricks.v1+cell": {
     "cellMetadata": {},
     "inputWidgets": {},
     "nuid": "db46d956-4db8-4545-9399-52f42c8a5244",
     "showTitle": false,
     "title": ""
    }
   },
   "outputs": [],
   "source": [
    "# Load features df\n",
    "city_lqs_with_attributes_df = get_table_as_pandas_df('city_lqs_with_attributes_0322')\n",
    "city_feats_and_targets = city_lqs_with_attributes_df.merge(dt_all_metro_lq_df, on='city', how='outer')\n",
    "city_feats_and_targets = city_feats_and_targets.set_index('city')\n",
    "city_feats_and_targets = city_feats_and_targets.drop('display_title', axis=1)\n",
    "city_feats_and_targets = city_feats_and_targets.drop(['Montréal','Québec'])\n",
    "\n",
    "\n",
    "# Load lq df\n",
    "all_cities_weekly_df = get_table_as_pandas_df('us_can_lqs_0317')\n",
    "rolling_weekly_df = all_cities_weekly_df[['city','nvs_lq']]\n",
    "dt_all_metro_lq_df = rolling_weekly_df.groupby('city')['nvs_lq'].apply(list).to_frame()\n",
    "cities = dt_all_metro_lq_df.index.tolist()\n",
    "dates = all_cities_weekly_df['date_range_start_covid'].unique()\n",
    "city_weekly_lqs = pd.DataFrame(dt_all_metro_lq_df['nvs_lq'].tolist(), columns=dates)\n",
    "city_weekly_lqs['city'] = cities\n",
    "city_weekly_lqs = city_weekly_lqs.replace('Montréal','Montreal')\n",
    "city_weekly_lqs = city_weekly_lqs.replace('Québec', 'Quebec')\n",
    "city_feats_and_targets.index"
   ]
  },
  {
   "cell_type": "code",
   "execution_count": null,
   "metadata": {
    "application/vnd.databricks.v1+cell": {
     "cellMetadata": {},
     "inputWidgets": {},
     "nuid": "27bbbec8-3342-492c-bb66-e4e110317497",
     "showTitle": false,
     "title": ""
    }
   },
   "outputs": [],
   "source": [
    "def create_X_y(target_col, features, targets):\n",
    "    scaler = StandardScaler()\n",
    "\n",
    "    # Initialize target and feature columns\n",
    "    target_cols = ['lq_avg_period1', 'lq_avg_period2', 'lq_avg_period3', 'lq_avg_period4', 'lq_avg_period4a', 'lq_avg_period4b', 'rate_of_recovery', 'downtown_relative_recovery', 'omicron_resilience', 'rolling_nvs_lq', 'dba_kmeans_cluster', 'rolling_nvs_lq', 'nvs_lq']\n",
    "    feature_cols = features.columns.tolist()\n",
    "\n",
    "    # Remove target and misc columns from feature column list\n",
    "    for target in target_cols:\n",
    "        if target in feature_cols:\n",
    "            feature_cols.remove(target)\n",
    "    feature_cols.remove('country')\n",
    "    \n",
    "    city_index = features.index.tolist()\n",
    "    X = scaler.fit_transform(features[feature_cols].to_numpy()[:-2])\n",
    "    targets = targets.add_suffix('_lq')\n",
    "    y = targets[target_col].to_numpy()[:-2]\n",
    "    nan_index = np.where(np.isnan(y))\n",
    "    y_mean = np.nanmean(y, axis=0)\n",
    "    y[nan_index] = y_mean\n",
    "    return X, y\n",
    "\n",
    "create_X_y('2020-03-09_lq', city_feats_and_targets, city_weekly_lqs)"
   ]
  },
  {
   "cell_type": "code",
   "execution_count": null,
   "metadata": {
    "application/vnd.databricks.v1+cell": {
     "cellMetadata": {},
     "inputWidgets": {},
     "nuid": "cf868954-ae17-4b06-98c1-21caa85af624",
     "showTitle": false,
     "title": ""
    }
   },
   "outputs": [],
   "source": [
    "# RFR\n",
    "def find_rfr_n_est(X, y):\n",
    "    rfr_cross_val = pd.DataFrame()\n",
    "    for nestimators in range(130, 200):\n",
    "        model = RandomForestRegressor(\n",
    "            n_estimators=nestimators,\n",
    "            min_samples_split=0.01\n",
    "        )\n",
    "\n",
    "        kf = KFold(n_splits=5)\n",
    "\n",
    "        mse_list = np.array([])\n",
    "\n",
    "        for train_index, test_index in kf.split(X):\n",
    "            X_train, X_test = X[train_index], X[test_index]\n",
    "            y_train, y_test = y[train_index], y[test_index]\n",
    "\n",
    "            model.fit(X_train, y_train)\n",
    "\n",
    "            model.score(X_test, y_test)\n",
    "\n",
    "            y_pred = model.predict(X_test)\n",
    "\n",
    "            mse = mean_squared_error(y_test, y_pred)\n",
    "            mse_list = np.append(mse_list, mse)\n",
    "        avg_mse = mse_list.sum() / mse_list.size\n",
    "        rfr_cross_val = rfr_cross_val.append({\n",
    "            'estimators': nestimators,\n",
    "            'avg_mse': avg_mse\n",
    "        }, ignore_index=True)\n",
    "\n",
    "    rfr_cross_val = rfr_cross_val.sort_values(by='avg_mse')\n",
    "    return rfr_cross_val.iloc[0,1]\n",
    "\n",
    "find_rfr_n_est(X, y)"
   ]
  },
  {
   "cell_type": "code",
   "execution_count": null,
   "metadata": {
    "application/vnd.databricks.v1+cell": {
     "cellMetadata": {},
     "inputWidgets": {},
     "nuid": "5e2da828-567b-48c1-855e-41eb9d461498",
     "showTitle": false,
     "title": ""
    }
   },
   "outputs": [],
   "source": [
    "time_series_rfr = rfr_results_df.copy()\n",
    "time_series_rfr = time_series_rfr.rename(columns={\n",
    "    'lq_avg_period1_feat_imp':'2020-03-01',\n",
    "    'lq_avg_period2_feat_imp':'2020-08-01',\n",
    "    'lq_avg_period3_feat_imp':'2021-03-01',\n",
    "    'lq_avg_period4_feat_imp':'2021-08-01',\n",
    "})\n",
    "time_series_rfr = time_series_rfr[['feature','2020-03-01','2020-08-01','2021-03-01','2021-08-01']]\n",
    "time_series_rfr = time_series_rfr.set_index('feature')"
   ]
  },
  {
   "cell_type": "code",
   "execution_count": null,
   "metadata": {
    "application/vnd.databricks.v1+cell": {
     "cellMetadata": {},
     "inputWidgets": {},
     "nuid": "3e3e51fe-90f4-4ba5-a50b-b2d7dff112a8",
     "showTitle": false,
     "title": ""
    }
   },
   "outputs": [],
   "source": [
    "transposed_time_series_rfr = time_series_rfr.T\n",
    "transposed_time_series_rfr['date'] = ['2020-03-01','2020-08-01','2021-03-01','2021-08-01']\n",
    "display(transposed_time_series_rfr)"
   ]
  },
  {
   "cell_type": "code",
   "execution_count": null,
   "metadata": {
    "application/vnd.databricks.v1+cell": {
     "cellMetadata": {},
     "inputWidgets": {},
     "nuid": "6dd7b658-58c6-4d4c-b5bb-a2d8792068d0",
     "showTitle": false,
     "title": ""
    }
   },
   "outputs": [],
   "source": [
    "# Initialize target and feature columns\n",
    "target_cols = ['lq_avg_period1', 'lq_avg_period2', 'lq_avg_period3', 'lq_avg_period4', 'lq_avg_period4a', 'lq_avg_period4b', 'rate_of_recovery', 'downtown_relative_recovery', 'omicron_resilience', 'rolling_nvs_lq', 'dba_kmeans_cluster', 'rolling_nvs_lq', 'nvs_lq']\n",
    "feature_cols = city_feats_and_targets.columns.tolist()\n",
    "\n",
    "# Remove target and misc columns from feature column list\n",
    "for target in target_cols:\n",
    "    if target in feature_cols:\n",
    "        feature_cols.remove(target)\n",
    "feature_cols.remove('country')"
   ]
  },
  {
   "cell_type": "code",
   "execution_count": null,
   "metadata": {
    "application/vnd.databricks.v1+cell": {
     "cellMetadata": {},
     "inputWidgets": {},
     "nuid": "ab5849e3-0c94-4165-8d98-e84a99621270",
     "showTitle": false,
     "title": ""
    }
   },
   "outputs": [],
   "source": [
    "rfr_results_df = pd.DataFrame(feature_cols,columns=['feature'])\n",
    "target_lq_dates = all_cities_weekly_df['date_range_start_covid'].unique()\n",
    "\n",
    "for target in target_lq_dates:\n",
    "    X, y = create_X_y(target.strftime('%Y-%m-%d')+'_lq', city_feats_and_targets, city_weekly_lqs)\n",
    "    model = RandomForestRegressor(\n",
    "            n_estimators=115,\n",
    "        )\n",
    "    model.fit(X, y)\n",
    "\n",
    "    rfr_results_df[target.strftime('%Y-%m-%d')+'_lq'+\"_feat_imp\"] =  model.feature_importances_"
   ]
  },
  {
   "cell_type": "code",
   "execution_count": null,
   "metadata": {
    "application/vnd.databricks.v1+cell": {
     "cellMetadata": {},
     "inputWidgets": {},
     "nuid": "88c85c53-297d-4548-b142-ff3bfe1570d1",
     "showTitle": false,
     "title": ""
    }
   },
   "outputs": [],
   "source": [
    "rfr_results_df"
   ]
  },
  {
   "cell_type": "code",
   "execution_count": null,
   "metadata": {
    "application/vnd.databricks.v1+cell": {
     "cellMetadata": {},
     "inputWidgets": {},
     "nuid": "4a1bb93e-6fa0-4af0-918f-c3621e2005fa",
     "showTitle": false,
     "title": ""
    }
   },
   "outputs": [],
   "source": [
    "week_col = '2022-02-21_lq_feat_imp'\n",
    "rfr_results_df.sort_values(week_col, ascending=False)[['feature',week_col]]"
   ]
  },
  {
   "cell_type": "code",
   "execution_count": null,
   "metadata": {
    "application/vnd.databricks.v1+cell": {
     "cellMetadata": {},
     "inputWidgets": {},
     "nuid": "9f1820b5-eb75-41f7-845b-76c41e8ab02f",
     "showTitle": false,
     "title": ""
    }
   },
   "outputs": [],
   "source": [
    "rfr_timeseries = rfr_results_df.copy()\n",
    "rfr_timeseries.columns = rfr_timeseries.columns.str.rstrip('_lq_feat_imp')\n",
    "rfr_timeseries = rfr_timeseries.rename(columns={'featur':'feature'})\n",
    "rfr_timeseries = rfr_timeseries.T\n",
    "rfr_timeseries = rfr_timeseries.reset_index()\n",
    "rfr_timeseries.columns = rfr_timeseries.iloc[0]\n",
    "rfr_timeseries = rfr_timeseries[1:]\n",
    "rfr_timeseries = rfr_timeseries.rename(columns={'feature':'date'})\n",
    "dates = rfr_timeseries['date'].tolist()\n",
    "rfr_timeseries = rfr_timeseries.rolling(25, min_periods=3, center=True).mean()\n",
    "# rfr_timeseries['date'] = dates\n",
    "display(rfr_timeseries)"
   ]
  },
  {
   "cell_type": "code",
   "execution_count": null,
   "metadata": {
    "application/vnd.databricks.v1+cell": {
     "cellMetadata": {},
     "inputWidgets": {},
     "nuid": "9b9aeea8-9de8-45ed-b41f-303b22228728",
     "showTitle": false,
     "title": ""
    }
   },
   "outputs": [],
   "source": []
  },
  {
   "cell_type": "code",
   "execution_count": null,
   "metadata": {
    "application/vnd.databricks.v1+cell": {
     "cellMetadata": {},
     "inputWidgets": {},
     "nuid": "78c89731-b93b-4826-8467-af2fe50ac91d",
     "showTitle": false,
     "title": ""
    }
   },
   "outputs": [],
   "source": []
  },
  {
   "cell_type": "code",
   "execution_count": null,
   "metadata": {
    "application/vnd.databricks.v1+cell": {
     "cellMetadata": {},
     "inputWidgets": {},
     "nuid": "df372fa3-629f-4cfa-b70c-517c78b69978",
     "showTitle": false,
     "title": ""
    }
   },
   "outputs": [],
   "source": []
  },
  {
   "cell_type": "code",
   "execution_count": null,
   "metadata": {
    "application/vnd.databricks.v1+cell": {
     "cellMetadata": {},
     "inputWidgets": {},
     "nuid": "d42f100f-ad4b-47f0-b2bd-69618376e9dd",
     "showTitle": false,
     "title": ""
    }
   },
   "outputs": [],
   "source": [
    "in_scope_rfr = rfr_timeseries.copy()\n",
    "avg_rfr_score = in_scope_rfr.mean()\n",
    "top_rfr_feats = avg_rfr_score.sort_values(ascending=False)[:20].to_frame()\n",
    "top_features = top_rfr_feats.index.tolist()\n",
    "\n",
    "# rfr_timeseries['date'] = dates\n",
    "# long_rfr = pd.wide_to_long(rfr_timeseries, ['feat_imp'], i='feature', j='date')\n",
    "long_rfr = rfr_timeseries.unstack().to_frame()\n",
    "# long_rfr = long_rfr.reset_index()\n",
    "long_rfr"
   ]
  },
  {
   "cell_type": "code",
   "execution_count": null,
   "metadata": {
    "application/vnd.databricks.v1+cell": {
     "cellMetadata": {},
     "inputWidgets": {},
     "nuid": "0df8c4fb-dc45-4667-b134-7955240821dd",
     "showTitle": false,
     "title": ""
    }
   },
   "outputs": [],
   "source": [
    "plt.figure(figsize = (12,8))\n",
    "sns.set_style(\"darkgrid\")\n",
    "top_rfr_feats = rfr_timeseries[rfr_timeseries.isin(top_features)]\n",
    "plotting_df = pd.DataFrame()\n",
    "sns.lineplot(x = \"date\", \n",
    "         y = \"rolling_nvs_lq\",\n",
    "         hue=\"city\",\n",
    "         data = top_rfr_feats)\n",
    "plt.title(\"LQ Time Series - 9 week Rolling Average\")\n",
    "plt.xticks(rotation = 25)"
   ]
  }
 ],
 "metadata": {
  "application/vnd.databricks.v1+notebook": {
   "dashboards": [],
   "language": "python",
   "notebookMetadata": {
    "pythonIndentUnit": 4
   },
   "notebookName": "rfr_and_time-series-clustering",
   "notebookOrigID": 1801108057194695,
   "widgets": {}
  },
  "kernelspec": {
   "display_name": "Python 3 (ipykernel)",
   "language": "python",
   "name": "python3"
  },
  "language_info": {
   "codemirror_mode": {
    "name": "ipython",
    "version": 3
   },
   "file_extension": ".py",
   "mimetype": "text/x-python",
   "name": "python",
   "nbconvert_exporter": "python",
   "pygments_lexer": "ipython3",
   "version": "3.11.0"
  }
 },
 "nbformat": 4,
 "nbformat_minor": 4
}
