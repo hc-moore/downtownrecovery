{
 "cells": [
  {
   "cell_type": "markdown",
   "metadata": {},
   "source": [
    "Download LEHD data at block group level and join with block group shapefile."
   ]
  },
  {
   "cell_type": "markdown",
   "metadata": {},
   "source": [
    "### Install / load packages"
   ]
  },
  {
   "cell_type": "code",
   "execution_count": 6,
   "metadata": {},
   "outputs": [
    {
     "name": "stdout",
     "output_type": "stream",
     "text": [
      "Collecting pygris\n",
      "  Downloading pygris-0.1.6-py3-none-any.whl (55 kB)\n",
      "Requirement already satisfied: fiona in c:\\users\\jpg23\\anaconda3\\lib\\site-packages (from pygris) (1.9.4.post1)\n",
      "Requirement already satisfied: shapely in c:\\users\\jpg23\\anaconda3\\lib\\site-packages (from pygris) (2.0.1)\n",
      "Requirement already satisfied: requests in c:\\users\\jpg23\\anaconda3\\lib\\site-packages (from pygris) (2.24.0)\n",
      "Requirement already satisfied: numpy in c:\\users\\jpg23\\anaconda3\\lib\\site-packages (from pygris) (1.19.2)\n",
      "Requirement already satisfied: pandas in c:\\users\\jpg23\\anaconda3\\lib\\site-packages (from pygris) (1.1.3)\n",
      "Requirement already satisfied: geopandas>=0.9 in c:\\users\\jpg23\\anaconda3\\lib\\site-packages (from pygris) (0.13.2)\n",
      "Collecting appdirs\n",
      "  Downloading appdirs-1.4.4-py2.py3-none-any.whl (9.6 kB)\n",
      "Requirement already satisfied: rtree in c:\\users\\jpg23\\anaconda3\\lib\\site-packages (from pygris) (0.9.4)\n",
      "Requirement already satisfied: pip in c:\\users\\jpg23\\anaconda3\\lib\\site-packages (from pygris) (20.2.4)\n",
      "Requirement already satisfied: six in c:\\users\\jpg23\\anaconda3\\lib\\site-packages (from fiona->pygris) (1.15.0)\n",
      "Requirement already satisfied: click~=8.0 in c:\\users\\jpg23\\anaconda3\\lib\\site-packages (from fiona->pygris) (8.1.7)\n",
      "Requirement already satisfied: importlib-metadata; python_version < \"3.10\" in c:\\users\\jpg23\\anaconda3\\lib\\site-packages (from fiona->pygris) (2.0.0)\n",
      "Requirement already satisfied: attrs>=19.2.0 in c:\\users\\jpg23\\anaconda3\\lib\\site-packages (from fiona->pygris) (20.3.0)\n",
      "Note: you may need to restart the kernel to use updated packages.Requirement already satisfied: click-plugins>=1.0 in c:\\users\\jpg23\\anaconda3\\lib\\site-packages (from fiona->pygris) (1.1.1)\n",
      "Requirement already satisfied: cligj>=0.5 in c:\\users\\jpg23\\anaconda3\\lib\\site-packages (from fiona->pygris) (0.7.2)\n",
      "Requirement already satisfied: certifi in c:\\users\\jpg23\\anaconda3\\lib\\site-packages (from fiona->pygris) (2020.6.20)\n",
      "Requirement already satisfied: idna<3,>=2.5 in c:\\users\\jpg23\\anaconda3\\lib\\site-packages (from requests->pygris) (2.10)\n",
      "Requirement already satisfied: chardet<4,>=3.0.2 in c:\\users\\jpg23\\anaconda3\\lib\\site-packages (from requests->pygris) (3.0.4)\n",
      "Requirement already satisfied: urllib3!=1.25.0,!=1.25.1,<1.26,>=1.21.1 in c:\\users\\jpg23\\anaconda3\\lib\\site-packages (from requests->pygris) (1.25.11)\n",
      "Requirement already satisfied: python-dateutil>=2.7.3 in c:\\users\\jpg23\\anaconda3\\lib\\site-packages (from pandas->pygris) (2.8.1)\n",
      "\n",
      "Requirement already satisfied: pytz>=2017.2 in c:\\users\\jpg23\\anaconda3\\lib\\site-packages (from pandas->pygris) (2020.1)\n",
      "Requirement already satisfied: pyproj>=3.0.1 in c:\\users\\jpg23\\anaconda3\\lib\\site-packages (from geopandas>=0.9->pygris) (3.5.0)\n",
      "Requirement already satisfied: packaging in c:\\users\\jpg23\\anaconda3\\lib\\site-packages (from geopandas>=0.9->pygris) (20.4)\n",
      "Requirement already satisfied: setuptools in c:\\users\\jpg23\\anaconda3\\lib\\site-packages (from rtree->pygris) (50.3.1.post20201107)\n",
      "Requirement already satisfied: colorama; platform_system == \"Windows\" in c:\\users\\jpg23\\anaconda3\\lib\\site-packages (from click~=8.0->fiona->pygris) (0.4.4)\n",
      "Requirement already satisfied: zipp>=0.5 in c:\\users\\jpg23\\anaconda3\\lib\\site-packages (from importlib-metadata; python_version < \"3.10\"->fiona->pygris) (3.4.0)\n",
      "Requirement already satisfied: pyparsing>=2.0.2 in c:\\users\\jpg23\\anaconda3\\lib\\site-packages (from packaging->geopandas>=0.9->pygris) (2.4.7)\n",
      "Installing collected packages: appdirs, pygris\n",
      "Successfully installed appdirs-1.4.4 pygris-0.1.6\n"
     ]
    }
   ],
   "source": [
    "pip install pygris"
   ]
  },
  {
   "cell_type": "code",
   "execution_count": 111,
   "metadata": {},
   "outputs": [],
   "source": [
    "from pygris.data import get_lodes\n",
    "from pygris import block_groups\n",
    "from pygris import places\n",
    "import pandas as pd\n",
    "import geopandas as gpd"
   ]
  },
  {
   "cell_type": "markdown",
   "metadata": {},
   "source": [
    "### Load LEHD data using `get_lodes` function from `pygris`"
   ]
  },
  {
   "cell_type": "code",
   "execution_count": 50,
   "metadata": {},
   "outputs": [],
   "source": [
    "states = [\"AL\", \"AK\", \"AZ\", \"AR\", \"CA\", \"CO\", \"CT\", \"DE\", \"FL\", \"GA\", \"HI\", \"ID\", \"IL\", \"IN\", \"IA\", \"KS\", \"KY\", \"LA\", \"ME\", \"MD\", \"MA\", \"MI\", \"MN\", \"MS\", \"MO\", \"MT\", \"NE\", \"NV\", \"NH\", \"NJ\", \"NM\", \"NY\", \"NC\", \"ND\", \"OH\", \"OK\", \"OR\", \"PA\", \"RI\", \"SC\", \"SD\", \"TN\", \"TX\", \"UT\", \"VT\", \"VA\", \"WA\", \"WV\", \"WI\", \"WY\"]"
   ]
  },
  {
   "cell_type": "code",
   "execution_count": 51,
   "metadata": {
    "scrolled": true
   },
   "outputs": [],
   "source": [
    "lehd = []\n",
    "\n",
    "for which_state in states:\n",
    "    \n",
    "    try:\n",
    "    \n",
    "        state_lehd = get_lodes(\n",
    "            state = which_state, \n",
    "            year = 2019, \n",
    "            lodes_type = \"wac\", \n",
    "            agg_level = \"block group\"\n",
    "        )\n",
    "\n",
    "        state_lehd[\"state\"] = which_state\n",
    "\n",
    "        lehd.append(state_lehd)\n",
    "    \n",
    "    except:\n",
    "        \n",
    "        pass"
   ]
  },
  {
   "cell_type": "code",
   "execution_count": 52,
   "metadata": {
    "scrolled": true
   },
   "outputs": [],
   "source": [
    "df = pd.concat(lehd)[[\"state\", \"w_geocode\", \"C000\"]]"
   ]
  },
  {
   "cell_type": "code",
   "execution_count": 49,
   "metadata": {},
   "outputs": [
    {
     "data": {
      "text/html": [
       "<div>\n",
       "<style scoped>\n",
       "    .dataframe tbody tr th:only-of-type {\n",
       "        vertical-align: middle;\n",
       "    }\n",
       "\n",
       "    .dataframe tbody tr th {\n",
       "        vertical-align: top;\n",
       "    }\n",
       "\n",
       "    .dataframe thead th {\n",
       "        text-align: right;\n",
       "    }\n",
       "</style>\n",
       "<table border=\"1\" class=\"dataframe\">\n",
       "  <thead>\n",
       "    <tr style=\"text-align: right;\">\n",
       "      <th></th>\n",
       "      <th>state</th>\n",
       "      <th>w_geocode</th>\n",
       "      <th>C000</th>\n",
       "    </tr>\n",
       "  </thead>\n",
       "  <tbody>\n",
       "    <tr>\n",
       "      <th>0</th>\n",
       "      <td>AL</td>\n",
       "      <td>010010201001</td>\n",
       "      <td>209</td>\n",
       "    </tr>\n",
       "    <tr>\n",
       "      <th>1</th>\n",
       "      <td>AL</td>\n",
       "      <td>010010201002</td>\n",
       "      <td>3</td>\n",
       "    </tr>\n",
       "    <tr>\n",
       "      <th>2</th>\n",
       "      <td>AL</td>\n",
       "      <td>010010202001</td>\n",
       "      <td>450</td>\n",
       "    </tr>\n",
       "    <tr>\n",
       "      <th>3</th>\n",
       "      <td>AL</td>\n",
       "      <td>010010202002</td>\n",
       "      <td>1120</td>\n",
       "    </tr>\n",
       "    <tr>\n",
       "      <th>4</th>\n",
       "      <td>AL</td>\n",
       "      <td>010010203001</td>\n",
       "      <td>73</td>\n",
       "    </tr>\n",
       "    <tr>\n",
       "      <th>...</th>\n",
       "      <td>...</td>\n",
       "      <td>...</td>\n",
       "      <td>...</td>\n",
       "    </tr>\n",
       "    <tr>\n",
       "      <th>4663</th>\n",
       "      <td>AZ</td>\n",
       "      <td>040270121001</td>\n",
       "      <td>267</td>\n",
       "    </tr>\n",
       "    <tr>\n",
       "      <th>4664</th>\n",
       "      <td>AZ</td>\n",
       "      <td>040270121002</td>\n",
       "      <td>63</td>\n",
       "    </tr>\n",
       "    <tr>\n",
       "      <th>4665</th>\n",
       "      <td>AZ</td>\n",
       "      <td>040279800041</td>\n",
       "      <td>172</td>\n",
       "    </tr>\n",
       "    <tr>\n",
       "      <th>4666</th>\n",
       "      <td>AZ</td>\n",
       "      <td>040279800051</td>\n",
       "      <td>196</td>\n",
       "    </tr>\n",
       "    <tr>\n",
       "      <th>4667</th>\n",
       "      <td>AZ</td>\n",
       "      <td>040279800061</td>\n",
       "      <td>1154</td>\n",
       "    </tr>\n",
       "  </tbody>\n",
       "</table>\n",
       "<p>8551 rows × 3 columns</p>\n",
       "</div>"
      ],
      "text/plain": [
       "     state     w_geocode  C000\n",
       "0       AL  010010201001   209\n",
       "1       AL  010010201002     3\n",
       "2       AL  010010202001   450\n",
       "3       AL  010010202002  1120\n",
       "4       AL  010010203001    73\n",
       "...    ...           ...   ...\n",
       "4663    AZ  040270121001   267\n",
       "4664    AZ  040270121002    63\n",
       "4665    AZ  040279800041   172\n",
       "4666    AZ  040279800051   196\n",
       "4667    AZ  040279800061  1154\n",
       "\n",
       "[8551 rows x 3 columns]"
      ]
     },
     "execution_count": 49,
     "metadata": {},
     "output_type": "execute_result"
    }
   ],
   "source": [
    "df"
   ]
  },
  {
   "cell_type": "code",
   "execution_count": 53,
   "metadata": {},
   "outputs": [
    {
     "data": {
      "text/plain": [
       "array(['AL', 'AZ', 'AR', 'CA', 'CO', 'CT', 'DE', 'FL', 'GA', 'HI', 'ID',\n",
       "       'IL', 'IN', 'IA', 'KS', 'KY', 'LA', 'ME', 'MD', 'MA', 'MI', 'MN',\n",
       "       'MO', 'MT', 'NE', 'NV', 'NH', 'NJ', 'NM', 'NY', 'NC', 'ND', 'OH',\n",
       "       'OK', 'OR', 'PA', 'RI', 'SC', 'SD', 'TN', 'TX', 'UT', 'VT', 'VA',\n",
       "       'WA', 'WV', 'WI', 'WY'], dtype=object)"
      ]
     },
     "execution_count": 53,
     "metadata": {},
     "output_type": "execute_result"
    }
   ],
   "source": [
    "df.state.unique()"
   ]
  },
  {
   "cell_type": "code",
   "execution_count": 54,
   "metadata": {
    "scrolled": true
   },
   "outputs": [
    {
     "data": {
      "text/plain": [
       "48"
      ]
     },
     "execution_count": 54,
     "metadata": {},
     "output_type": "execute_result"
    }
   ],
   "source": [
    "df.state.nunique()"
   ]
  },
  {
   "cell_type": "markdown",
   "metadata": {},
   "source": [
    "### Load block group shapefiles (and land area)"
   ]
  },
  {
   "cell_type": "code",
   "execution_count": 71,
   "metadata": {},
   "outputs": [
    {
     "name": "stdout",
     "output_type": "stream",
     "text": [
      "Using FIPS code '01' for input 'AL'\n",
      "Using FIPS code '02' for input 'AK'\n",
      "Using FIPS code '04' for input 'AZ'\n",
      "Using FIPS code '05' for input 'AR'\n",
      "Using FIPS code '06' for input 'CA'\n",
      "Using FIPS code '08' for input 'CO'\n",
      "Using FIPS code '09' for input 'CT'\n",
      "Using FIPS code '10' for input 'DE'\n",
      "Using FIPS code '12' for input 'FL'\n",
      "Using FIPS code '13' for input 'GA'\n",
      "Using FIPS code '15' for input 'HI'\n",
      "Using FIPS code '16' for input 'ID'\n",
      "Using FIPS code '17' for input 'IL'\n",
      "Using FIPS code '18' for input 'IN'\n",
      "Using FIPS code '19' for input 'IA'\n",
      "Using FIPS code '20' for input 'KS'\n",
      "Using FIPS code '21' for input 'KY'\n",
      "Using FIPS code '22' for input 'LA'\n",
      "Using FIPS code '23' for input 'ME'\n",
      "Using FIPS code '24' for input 'MD'\n",
      "Using FIPS code '25' for input 'MA'\n",
      "Using FIPS code '26' for input 'MI'\n",
      "Using FIPS code '27' for input 'MN'\n",
      "Using FIPS code '28' for input 'MS'\n",
      "Using FIPS code '29' for input 'MO'\n",
      "Using FIPS code '30' for input 'MT'\n",
      "Using FIPS code '31' for input 'NE'\n",
      "Using FIPS code '32' for input 'NV'\n",
      "Using FIPS code '33' for input 'NH'\n",
      "Using FIPS code '34' for input 'NJ'\n",
      "Using FIPS code '35' for input 'NM'\n",
      "Using FIPS code '36' for input 'NY'\n",
      "Using FIPS code '37' for input 'NC'\n",
      "Using FIPS code '38' for input 'ND'\n",
      "Using FIPS code '39' for input 'OH'\n",
      "Using FIPS code '40' for input 'OK'\n",
      "Using FIPS code '41' for input 'OR'\n",
      "Using FIPS code '42' for input 'PA'\n",
      "Using FIPS code '44' for input 'RI'\n",
      "Using FIPS code '45' for input 'SC'\n",
      "Using FIPS code '46' for input 'SD'\n",
      "Using FIPS code '47' for input 'TN'\n",
      "Using FIPS code '48' for input 'TX'\n",
      "Using FIPS code '49' for input 'UT'\n",
      "Using FIPS code '50' for input 'VT'\n",
      "Using FIPS code '51' for input 'VA'\n",
      "Using FIPS code '53' for input 'WA'\n",
      "Using FIPS code '54' for input 'WV'\n",
      "Using FIPS code '55' for input 'WI'\n",
      "Using FIPS code '56' for input 'WY'\n"
     ]
    }
   ],
   "source": [
    "blgr = []\n",
    "\n",
    "for which_state in states:\n",
    "    \n",
    "    try:\n",
    "    \n",
    "        state_blgr = block_groups(state = which_state, cb = True, year = 2019)\n",
    "\n",
    "        state_blgr[\"state\"] = which_state\n",
    "\n",
    "        blgr.append(state_blgr)\n",
    "    \n",
    "    except:\n",
    "        \n",
    "        pass"
   ]
  },
  {
   "cell_type": "code",
   "execution_count": 72,
   "metadata": {},
   "outputs": [],
   "source": [
    "blgr_sf = pd.concat(blgr)[[\"state\", \"GEOID\", \"ALAND\", \"geometry\"]]"
   ]
  },
  {
   "cell_type": "code",
   "execution_count": 73,
   "metadata": {
    "scrolled": true
   },
   "outputs": [
    {
     "data": {
      "text/html": [
       "<div>\n",
       "<style scoped>\n",
       "    .dataframe tbody tr th:only-of-type {\n",
       "        vertical-align: middle;\n",
       "    }\n",
       "\n",
       "    .dataframe tbody tr th {\n",
       "        vertical-align: top;\n",
       "    }\n",
       "\n",
       "    .dataframe thead th {\n",
       "        text-align: right;\n",
       "    }\n",
       "</style>\n",
       "<table border=\"1\" class=\"dataframe\">\n",
       "  <thead>\n",
       "    <tr style=\"text-align: right;\">\n",
       "      <th></th>\n",
       "      <th>state</th>\n",
       "      <th>GEOID</th>\n",
       "      <th>ALAND</th>\n",
       "      <th>geometry</th>\n",
       "    </tr>\n",
       "  </thead>\n",
       "  <tbody>\n",
       "    <tr>\n",
       "      <th>0</th>\n",
       "      <td>AL</td>\n",
       "      <td>010730129101</td>\n",
       "      <td>3671177</td>\n",
       "      <td>POLYGON ((-86.75138 33.41740, -86.74840 33.420...</td>\n",
       "    </tr>\n",
       "    <tr>\n",
       "      <th>1</th>\n",
       "      <td>AL</td>\n",
       "      <td>010259576025</td>\n",
       "      <td>5858511</td>\n",
       "      <td>POLYGON ((-87.74117 31.91317, -87.74044 31.917...</td>\n",
       "    </tr>\n",
       "    <tr>\n",
       "      <th>2</th>\n",
       "      <td>AL</td>\n",
       "      <td>010770118022</td>\n",
       "      <td>4693254</td>\n",
       "      <td>POLYGON ((-87.30741 34.83312, -87.30543 34.832...</td>\n",
       "    </tr>\n",
       "    <tr>\n",
       "      <th>3</th>\n",
       "      <td>AL</td>\n",
       "      <td>010550102005</td>\n",
       "      <td>2359614</td>\n",
       "      <td>POLYGON ((-86.11262 33.99456, -86.10287 33.994...</td>\n",
       "    </tr>\n",
       "    <tr>\n",
       "      <th>4</th>\n",
       "      <td>AL</td>\n",
       "      <td>011310347001</td>\n",
       "      <td>402854096</td>\n",
       "      <td>POLYGON ((-87.52537 32.12812, -87.52580 32.129...</td>\n",
       "    </tr>\n",
       "  </tbody>\n",
       "</table>\n",
       "</div>"
      ],
      "text/plain": [
       "  state         GEOID      ALAND  \\\n",
       "0    AL  010730129101    3671177   \n",
       "1    AL  010259576025    5858511   \n",
       "2    AL  010770118022    4693254   \n",
       "3    AL  010550102005    2359614   \n",
       "4    AL  011310347001  402854096   \n",
       "\n",
       "                                            geometry  \n",
       "0  POLYGON ((-86.75138 33.41740, -86.74840 33.420...  \n",
       "1  POLYGON ((-87.74117 31.91317, -87.74044 31.917...  \n",
       "2  POLYGON ((-87.30741 34.83312, -87.30543 34.832...  \n",
       "3  POLYGON ((-86.11262 33.99456, -86.10287 33.994...  \n",
       "4  POLYGON ((-87.52537 32.12812, -87.52580 32.129...  "
      ]
     },
     "execution_count": 73,
     "metadata": {},
     "output_type": "execute_result"
    }
   ],
   "source": [
    "blgr_sf.head()"
   ]
  },
  {
   "cell_type": "code",
   "execution_count": 74,
   "metadata": {},
   "outputs": [
    {
     "data": {
      "text/plain": [
       "array(['AL', 'AK', 'AZ', 'AR', 'CA', 'CO', 'CT', 'DE', 'FL', 'GA', 'HI',\n",
       "       'ID', 'IL', 'IN', 'IA', 'KS', 'KY', 'LA', 'ME', 'MD', 'MA', 'MI',\n",
       "       'MN', 'MS', 'MO', 'MT', 'NE', 'NV', 'NH', 'NJ', 'NM', 'NY', 'NC',\n",
       "       'ND', 'OH', 'OK', 'OR', 'PA', 'RI', 'SC', 'SD', 'TN', 'TX', 'UT',\n",
       "       'VT', 'VA', 'WA', 'WV', 'WI', 'WY'], dtype=object)"
      ]
     },
     "execution_count": 74,
     "metadata": {},
     "output_type": "execute_result"
    }
   ],
   "source": [
    "blgr_sf.state.unique()"
   ]
  },
  {
   "cell_type": "code",
   "execution_count": 75,
   "metadata": {},
   "outputs": [
    {
     "data": {
      "text/plain": [
       "50"
      ]
     },
     "execution_count": 75,
     "metadata": {},
     "output_type": "execute_result"
    }
   ],
   "source": [
    "blgr_sf.state.nunique()"
   ]
  },
  {
   "cell_type": "code",
   "execution_count": 159,
   "metadata": {},
   "outputs": [],
   "source": [
    "blgr_sanfran = blgr_sf.loc[blgr_sf.GEOID.str.contains('^06075'), :]"
   ]
  },
  {
   "cell_type": "code",
   "execution_count": 160,
   "metadata": {},
   "outputs": [
    {
     "data": {
      "text/plain": [
       "<AxesSubplot:>"
      ]
     },
     "execution_count": 160,
     "metadata": {},
     "output_type": "execute_result"
    },
    {
     "data": {
      "image/png": "[encoded data removed]",
      "text/plain": [
       "<Figure size 432x288 with 1 Axes>"
      ]
     },
     "metadata": {
      "needs_background": "light"
     },
     "output_type": "display_data"
    }
   ],
   "source": [
    "blgr_sanfran.plot()"
   ]
  },
  {
   "cell_type": "markdown",
   "metadata": {},
   "source": [
    "### Join LEHD data and shapefile"
   ]
  },
  {
   "cell_type": "code",
   "execution_count": 82,
   "metadata": {},
   "outputs": [
    {
     "data": {
      "text/plain": [
       "state        object\n",
       "w_geocode    object\n",
       "C000          int64\n",
       "dtype: object"
      ]
     },
     "execution_count": 82,
     "metadata": {},
     "output_type": "execute_result"
    }
   ],
   "source": [
    "df.dtypes"
   ]
  },
  {
   "cell_type": "code",
   "execution_count": 83,
   "metadata": {},
   "outputs": [
    {
     "data": {
      "text/plain": [
       "state         object\n",
       "GEOID         object\n",
       "ALAND          int64\n",
       "geometry    geometry\n",
       "dtype: object"
      ]
     },
     "execution_count": 83,
     "metadata": {},
     "output_type": "execute_result"
    }
   ],
   "source": [
    "blgr_sf.dtypes"
   ]
  },
  {
   "cell_type": "code",
   "execution_count": 84,
   "metadata": {},
   "outputs": [
    {
     "data": {
      "text/html": [
       "<div>\n",
       "<style scoped>\n",
       "    .dataframe tbody tr th:only-of-type {\n",
       "        vertical-align: middle;\n",
       "    }\n",
       "\n",
       "    .dataframe tbody tr th {\n",
       "        vertical-align: top;\n",
       "    }\n",
       "\n",
       "    .dataframe thead th {\n",
       "        text-align: right;\n",
       "    }\n",
       "</style>\n",
       "<table border=\"1\" class=\"dataframe\">\n",
       "  <thead>\n",
       "    <tr style=\"text-align: right;\">\n",
       "      <th></th>\n",
       "      <th>state</th>\n",
       "      <th>w_geocode</th>\n",
       "      <th>C000</th>\n",
       "    </tr>\n",
       "  </thead>\n",
       "  <tbody>\n",
       "    <tr>\n",
       "      <th>0</th>\n",
       "      <td>AL</td>\n",
       "      <td>010010201001</td>\n",
       "      <td>209</td>\n",
       "    </tr>\n",
       "    <tr>\n",
       "      <th>1</th>\n",
       "      <td>AL</td>\n",
       "      <td>010010201002</td>\n",
       "      <td>3</td>\n",
       "    </tr>\n",
       "    <tr>\n",
       "      <th>2</th>\n",
       "      <td>AL</td>\n",
       "      <td>010010202001</td>\n",
       "      <td>450</td>\n",
       "    </tr>\n",
       "    <tr>\n",
       "      <th>3</th>\n",
       "      <td>AL</td>\n",
       "      <td>010010202002</td>\n",
       "      <td>1120</td>\n",
       "    </tr>\n",
       "    <tr>\n",
       "      <th>4</th>\n",
       "      <td>AL</td>\n",
       "      <td>010010203001</td>\n",
       "      <td>73</td>\n",
       "    </tr>\n",
       "  </tbody>\n",
       "</table>\n",
       "</div>"
      ],
      "text/plain": [
       "  state     w_geocode  C000\n",
       "0    AL  010010201001   209\n",
       "1    AL  010010201002     3\n",
       "2    AL  010010202001   450\n",
       "3    AL  010010202002  1120\n",
       "4    AL  010010203001    73"
      ]
     },
     "execution_count": 84,
     "metadata": {},
     "output_type": "execute_result"
    }
   ],
   "source": [
    "df.head()"
   ]
  },
  {
   "cell_type": "code",
   "execution_count": 85,
   "metadata": {
    "scrolled": false
   },
   "outputs": [
    {
     "data": {
      "text/html": [
       "<div>\n",
       "<style scoped>\n",
       "    .dataframe tbody tr th:only-of-type {\n",
       "        vertical-align: middle;\n",
       "    }\n",
       "\n",
       "    .dataframe tbody tr th {\n",
       "        vertical-align: top;\n",
       "    }\n",
       "\n",
       "    .dataframe thead th {\n",
       "        text-align: right;\n",
       "    }\n",
       "</style>\n",
       "<table border=\"1\" class=\"dataframe\">\n",
       "  <thead>\n",
       "    <tr style=\"text-align: right;\">\n",
       "      <th></th>\n",
       "      <th>state</th>\n",
       "      <th>GEOID</th>\n",
       "      <th>ALAND</th>\n",
       "      <th>geometry</th>\n",
       "    </tr>\n",
       "  </thead>\n",
       "  <tbody>\n",
       "    <tr>\n",
       "      <th>0</th>\n",
       "      <td>AL</td>\n",
       "      <td>010730129101</td>\n",
       "      <td>3671177</td>\n",
       "      <td>POLYGON ((-86.75138 33.41740, -86.74840 33.420...</td>\n",
       "    </tr>\n",
       "    <tr>\n",
       "      <th>1</th>\n",
       "      <td>AL</td>\n",
       "      <td>010259576025</td>\n",
       "      <td>5858511</td>\n",
       "      <td>POLYGON ((-87.74117 31.91317, -87.74044 31.917...</td>\n",
       "    </tr>\n",
       "    <tr>\n",
       "      <th>2</th>\n",
       "      <td>AL</td>\n",
       "      <td>010770118022</td>\n",
       "      <td>4693254</td>\n",
       "      <td>POLYGON ((-87.30741 34.83312, -87.30543 34.832...</td>\n",
       "    </tr>\n",
       "    <tr>\n",
       "      <th>3</th>\n",
       "      <td>AL</td>\n",
       "      <td>010550102005</td>\n",
       "      <td>2359614</td>\n",
       "      <td>POLYGON ((-86.11262 33.99456, -86.10287 33.994...</td>\n",
       "    </tr>\n",
       "    <tr>\n",
       "      <th>4</th>\n",
       "      <td>AL</td>\n",
       "      <td>011310347001</td>\n",
       "      <td>402854096</td>\n",
       "      <td>POLYGON ((-87.52537 32.12812, -87.52580 32.129...</td>\n",
       "    </tr>\n",
       "  </tbody>\n",
       "</table>\n",
       "</div>"
      ],
      "text/plain": [
       "  state         GEOID      ALAND  \\\n",
       "0    AL  010730129101    3671177   \n",
       "1    AL  010259576025    5858511   \n",
       "2    AL  010770118022    4693254   \n",
       "3    AL  010550102005    2359614   \n",
       "4    AL  011310347001  402854096   \n",
       "\n",
       "                                            geometry  \n",
       "0  POLYGON ((-86.75138 33.41740, -86.74840 33.420...  \n",
       "1  POLYGON ((-87.74117 31.91317, -87.74044 31.917...  \n",
       "2  POLYGON ((-87.30741 34.83312, -87.30543 34.832...  \n",
       "3  POLYGON ((-86.11262 33.99456, -86.10287 33.994...  \n",
       "4  POLYGON ((-87.52537 32.12812, -87.52580 32.129...  "
      ]
     },
     "execution_count": 85,
     "metadata": {},
     "output_type": "execute_result"
    }
   ],
   "source": [
    "blgr_sf.head()"
   ]
  },
  {
   "cell_type": "code",
   "execution_count": 86,
   "metadata": {},
   "outputs": [
    {
     "data": {
      "text/plain": [
       "231943"
      ]
     },
     "execution_count": 86,
     "metadata": {},
     "output_type": "execute_result"
    }
   ],
   "source": [
    "df.shape[0]"
   ]
  },
  {
   "cell_type": "code",
   "execution_count": 87,
   "metadata": {},
   "outputs": [
    {
     "data": {
      "text/plain": [
       "217003"
      ]
     },
     "execution_count": 87,
     "metadata": {},
     "output_type": "execute_result"
    }
   ],
   "source": [
    "blgr_sf.shape[0]"
   ]
  },
  {
   "cell_type": "code",
   "execution_count": 103,
   "metadata": {
    "scrolled": true
   },
   "outputs": [
    {
     "data": {
      "text/html": [
       "<div>\n",
       "<style scoped>\n",
       "    .dataframe tbody tr th:only-of-type {\n",
       "        vertical-align: middle;\n",
       "    }\n",
       "\n",
       "    .dataframe tbody tr th {\n",
       "        vertical-align: top;\n",
       "    }\n",
       "\n",
       "    .dataframe thead th {\n",
       "        text-align: right;\n",
       "    }\n",
       "</style>\n",
       "<table border=\"1\" class=\"dataframe\">\n",
       "  <thead>\n",
       "    <tr style=\"text-align: right;\">\n",
       "      <th></th>\n",
       "      <th>state</th>\n",
       "      <th>w_geocode</th>\n",
       "      <th>C000</th>\n",
       "    </tr>\n",
       "  </thead>\n",
       "  <tbody>\n",
       "    <tr>\n",
       "      <th>0</th>\n",
       "      <td>AR</td>\n",
       "      <td>050350306021</td>\n",
       "      <td>8</td>\n",
       "    </tr>\n",
       "    <tr>\n",
       "      <th>1</th>\n",
       "      <td>AR</td>\n",
       "      <td>050350306023</td>\n",
       "      <td>20</td>\n",
       "    </tr>\n",
       "  </tbody>\n",
       "</table>\n",
       "</div>"
      ],
      "text/plain": [
       "  state     w_geocode  C000\n",
       "0    AR  050350306021     8\n",
       "1    AR  050350306023    20"
      ]
     },
     "execution_count": 103,
     "metadata": {},
     "output_type": "execute_result"
    }
   ],
   "source": [
    "df[df['state'] == 'AR']"
   ]
  },
  {
   "cell_type": "code",
   "execution_count": 102,
   "metadata": {},
   "outputs": [
    {
     "data": {
      "text/html": [
       "<div>\n",
       "<style scoped>\n",
       "    .dataframe tbody tr th:only-of-type {\n",
       "        vertical-align: middle;\n",
       "    }\n",
       "\n",
       "    .dataframe tbody tr th {\n",
       "        vertical-align: top;\n",
       "    }\n",
       "\n",
       "    .dataframe thead th {\n",
       "        text-align: right;\n",
       "    }\n",
       "</style>\n",
       "<table border=\"1\" class=\"dataframe\">\n",
       "  <thead>\n",
       "    <tr style=\"text-align: right;\">\n",
       "      <th></th>\n",
       "      <th>state</th>\n",
       "      <th>GEOID</th>\n",
       "      <th>ALAND</th>\n",
       "      <th>geometry</th>\n",
       "    </tr>\n",
       "  </thead>\n",
       "  <tbody>\n",
       "    <tr>\n",
       "      <th>0</th>\n",
       "      <td>AR</td>\n",
       "      <td>050350302015</td>\n",
       "      <td>420589</td>\n",
       "      <td>POLYGON ((-90.19350 35.15918, -90.19349 35.160...</td>\n",
       "    </tr>\n",
       "    <tr>\n",
       "      <th>1</th>\n",
       "      <td>AR</td>\n",
       "      <td>051330804002</td>\n",
       "      <td>327649626</td>\n",
       "      <td>POLYGON ((-94.26684 33.84598, -94.26354 33.846...</td>\n",
       "    </tr>\n",
       "    <tr>\n",
       "      <th>2</th>\n",
       "      <td>AR</td>\n",
       "      <td>050070206033</td>\n",
       "      <td>6806988</td>\n",
       "      <td>POLYGON ((-94.25402 36.33649, -94.24497 36.336...</td>\n",
       "    </tr>\n",
       "    <tr>\n",
       "      <th>3</th>\n",
       "      <td>AR</td>\n",
       "      <td>051159515011</td>\n",
       "      <td>8826694</td>\n",
       "      <td>POLYGON ((-93.23258 35.27715, -93.22719 35.284...</td>\n",
       "    </tr>\n",
       "    <tr>\n",
       "      <th>4</th>\n",
       "      <td>AR</td>\n",
       "      <td>051011802002</td>\n",
       "      <td>434692872</td>\n",
       "      <td>POLYGON ((-93.40776 35.75187, -93.40509 35.754...</td>\n",
       "    </tr>\n",
       "  </tbody>\n",
       "</table>\n",
       "</div>"
      ],
      "text/plain": [
       "  state         GEOID      ALAND  \\\n",
       "0    AR  050350302015     420589   \n",
       "1    AR  051330804002  327649626   \n",
       "2    AR  050070206033    6806988   \n",
       "3    AR  051159515011    8826694   \n",
       "4    AR  051011802002  434692872   \n",
       "\n",
       "                                            geometry  \n",
       "0  POLYGON ((-90.19350 35.15918, -90.19349 35.160...  \n",
       "1  POLYGON ((-94.26684 33.84598, -94.26354 33.846...  \n",
       "2  POLYGON ((-94.25402 36.33649, -94.24497 36.336...  \n",
       "3  POLYGON ((-93.23258 35.27715, -93.22719 35.284...  \n",
       "4  POLYGON ((-93.40776 35.75187, -93.40509 35.754...  "
      ]
     },
     "execution_count": 102,
     "metadata": {},
     "output_type": "execute_result"
    }
   ],
   "source": [
    "blgr_sf[blgr_sf['state'] == 'AR'].head()"
   ]
  },
  {
   "cell_type": "code",
   "execution_count": 161,
   "metadata": {},
   "outputs": [],
   "source": [
    "final_df = blgr_sf.merge(df, how = 'left', left_on = ['state', 'GEOID'], right_on = ['state', 'w_geocode']).drop(columns = ['w_geocode']).rename(columns={\"C000\": \"total_jobs\", \"ALAND\": \"land_area\", \"GEOID\": \"block_group\"})"
   ]
  },
  {
   "cell_type": "code",
   "execution_count": 162,
   "metadata": {},
   "outputs": [
    {
     "data": {
      "text/plain": [
       "217003"
      ]
     },
     "execution_count": 162,
     "metadata": {},
     "output_type": "execute_result"
    }
   ],
   "source": [
    "final_df.shape[0]"
   ]
  },
  {
   "cell_type": "code",
   "execution_count": 163,
   "metadata": {},
   "outputs": [
    {
     "data": {
      "text/html": [
       "<div>\n",
       "<style scoped>\n",
       "    .dataframe tbody tr th:only-of-type {\n",
       "        vertical-align: middle;\n",
       "    }\n",
       "\n",
       "    .dataframe tbody tr th {\n",
       "        vertical-align: top;\n",
       "    }\n",
       "\n",
       "    .dataframe thead th {\n",
       "        text-align: right;\n",
       "    }\n",
       "</style>\n",
       "<table border=\"1\" class=\"dataframe\">\n",
       "  <thead>\n",
       "    <tr style=\"text-align: right;\">\n",
       "      <th></th>\n",
       "      <th>state</th>\n",
       "      <th>block_group</th>\n",
       "      <th>land_area</th>\n",
       "      <th>geometry</th>\n",
       "      <th>total_jobs</th>\n",
       "    </tr>\n",
       "  </thead>\n",
       "  <tbody>\n",
       "    <tr>\n",
       "      <th>0</th>\n",
       "      <td>AL</td>\n",
       "      <td>010730129101</td>\n",
       "      <td>3671177</td>\n",
       "      <td>POLYGON ((-86.75138 33.41740, -86.74840 33.420...</td>\n",
       "      <td>1234.0</td>\n",
       "    </tr>\n",
       "    <tr>\n",
       "      <th>1</th>\n",
       "      <td>AL</td>\n",
       "      <td>010259576025</td>\n",
       "      <td>5858511</td>\n",
       "      <td>POLYGON ((-87.74117 31.91317, -87.74044 31.917...</td>\n",
       "      <td>NaN</td>\n",
       "    </tr>\n",
       "    <tr>\n",
       "      <th>2</th>\n",
       "      <td>AL</td>\n",
       "      <td>010770118022</td>\n",
       "      <td>4693254</td>\n",
       "      <td>POLYGON ((-87.30741 34.83312, -87.30543 34.832...</td>\n",
       "      <td>626.0</td>\n",
       "    </tr>\n",
       "    <tr>\n",
       "      <th>3</th>\n",
       "      <td>AL</td>\n",
       "      <td>010550102005</td>\n",
       "      <td>2359614</td>\n",
       "      <td>POLYGON ((-86.11262 33.99456, -86.10287 33.994...</td>\n",
       "      <td>NaN</td>\n",
       "    </tr>\n",
       "    <tr>\n",
       "      <th>4</th>\n",
       "      <td>AL</td>\n",
       "      <td>011310347001</td>\n",
       "      <td>402854096</td>\n",
       "      <td>POLYGON ((-87.52537 32.12812, -87.52580 32.129...</td>\n",
       "      <td>64.0</td>\n",
       "    </tr>\n",
       "  </tbody>\n",
       "</table>\n",
       "</div>"
      ],
      "text/plain": [
       "  state   block_group  land_area  \\\n",
       "0    AL  010730129101    3671177   \n",
       "1    AL  010259576025    5858511   \n",
       "2    AL  010770118022    4693254   \n",
       "3    AL  010550102005    2359614   \n",
       "4    AL  011310347001  402854096   \n",
       "\n",
       "                                            geometry  total_jobs  \n",
       "0  POLYGON ((-86.75138 33.41740, -86.74840 33.420...      1234.0  \n",
       "1  POLYGON ((-87.74117 31.91317, -87.74044 31.917...         NaN  \n",
       "2  POLYGON ((-87.30741 34.83312, -87.30543 34.832...       626.0  \n",
       "3  POLYGON ((-86.11262 33.99456, -86.10287 33.994...         NaN  \n",
       "4  POLYGON ((-87.52537 32.12812, -87.52580 32.129...        64.0  "
      ]
     },
     "execution_count": 163,
     "metadata": {},
     "output_type": "execute_result"
    }
   ],
   "source": [
    "final_df.head()"
   ]
  },
  {
   "cell_type": "code",
   "execution_count": 164,
   "metadata": {
    "scrolled": true
   },
   "outputs": [
    {
     "data": {
      "text/plain": [
       "50"
      ]
     },
     "execution_count": 164,
     "metadata": {},
     "output_type": "execute_result"
    }
   ],
   "source": [
    "final_df.state.nunique()"
   ]
  },
  {
   "cell_type": "code",
   "execution_count": 165,
   "metadata": {},
   "outputs": [
    {
     "data": {
      "text/plain": [
       "[]"
      ]
     },
     "execution_count": 165,
     "metadata": {},
     "output_type": "execute_result"
    }
   ],
   "source": [
    "df_states = df.state.unique().tolist()\n",
    "final_df_states = final_df.state.unique().tolist()\n",
    "\n",
    "list(set(df_states).difference(final_df_states))"
   ]
  },
  {
   "cell_type": "code",
   "execution_count": 166,
   "metadata": {},
   "outputs": [
    {
     "data": {
      "text/plain": [
       "geopandas.geodataframe.GeoDataFrame"
      ]
     },
     "execution_count": 166,
     "metadata": {},
     "output_type": "execute_result"
    }
   ],
   "source": [
    "type(final_df)"
   ]
  },
  {
   "cell_type": "markdown",
   "metadata": {},
   "source": [
    "### Subset to cities of interest"
   ]
  },
  {
   "cell_type": "code",
   "execution_count": 167,
   "metadata": {},
   "outputs": [],
   "source": [
    "city_list = [\n",
    "  'Albuquerque NM',\n",
    "  'Atlanta GA',\n",
    "  'Austin TX',\n",
    "  'Bakersfield CA',\n",
    "  'Baltimore MD',\n",
    "  'Boston MA',\n",
    "  'Charlotte NC',\n",
    "  'Chicago IL',\n",
    "  'Cincinnati OH',\n",
    "  'Cleveland OH',\n",
    "  'Colorado Springs CO',\n",
    "  'Columbus OH',\n",
    "  'Dallas TX',\n",
    "  'Denver CO',\n",
    "  'Detroit MI',\n",
    "  'El Paso TX',\n",
    "  'Fort Worth TX',\n",
    "  'Fresno CA',\n",
    "  'Urban Honolulu HI',\n",
    "  'Houston TX',\n",
    "  'Indianapolis city (balance) IN',\n",
    "  'Jacksonville FL',\n",
    "  'Kansas City MO',\n",
    "  'Las Vegas NV',\n",
    "  'Los Angeles CA',\n",
    "  'Louisville KY',\n",
    "  'Memphis TN',\n",
    "  'Miami FL',\n",
    "  'Milwaukee WI',\n",
    "  'Minneapolis MN',\n",
    "  'Nashville-Davidson metropolitan government (balance) TN',\n",
    "  'New Orleans LA',\n",
    "  'New York NY',\n",
    "  'Oakland CA',\n",
    "  'Oklahoma City OK',\n",
    "  'Omaha NE',\n",
    "  'Orlando FL',\n",
    "  'Philadelphia PA',\n",
    "  'Phoenix AZ',\n",
    "  'Pittsburgh PA',\n",
    "  'Portland OR',\n",
    "  'Raleigh NC',\n",
    "  'Sacramento CA',\n",
    "  'Salt Lake City UT',\n",
    "  'San Antonio TX',\n",
    "  'San Diego CA',\n",
    "  'San Francisco CA',\n",
    "  'San Jose CA',\n",
    "  'Seattle WA',\n",
    "  'St. Louis MO',\n",
    "  'Tampa FL',\n",
    "  'Tucson AZ',\n",
    "  'Tulsa OK',\n",
    "  'Washington DC']"
   ]
  },
  {
   "cell_type": "code",
   "execution_count": 112,
   "metadata": {
    "scrolled": true
   },
   "outputs": [
    {
     "name": "stdout",
     "output_type": "stream",
     "text": [
      "Using the default year of 2021\n",
      "Retrieving Census-designated places for the entire United States\n"
     ]
    }
   ],
   "source": [
    "all_places = places(cb = True)"
   ]
  },
  {
   "cell_type": "code",
   "execution_count": 115,
   "metadata": {
    "scrolled": false
   },
   "outputs": [
    {
     "data": {
      "text/html": [
       "<div>\n",
       "<style scoped>\n",
       "    .dataframe tbody tr th:only-of-type {\n",
       "        vertical-align: middle;\n",
       "    }\n",
       "\n",
       "    .dataframe tbody tr th {\n",
       "        vertical-align: top;\n",
       "    }\n",
       "\n",
       "    .dataframe thead th {\n",
       "        text-align: right;\n",
       "    }\n",
       "</style>\n",
       "<table border=\"1\" class=\"dataframe\">\n",
       "  <thead>\n",
       "    <tr style=\"text-align: right;\">\n",
       "      <th></th>\n",
       "      <th>STATEFP</th>\n",
       "      <th>PLACEFP</th>\n",
       "      <th>PLACENS</th>\n",
       "      <th>AFFGEOID</th>\n",
       "      <th>GEOID</th>\n",
       "      <th>NAME</th>\n",
       "      <th>NAMELSAD</th>\n",
       "      <th>STUSPS</th>\n",
       "      <th>STATE_NAME</th>\n",
       "      <th>LSAD</th>\n",
       "      <th>ALAND</th>\n",
       "      <th>AWATER</th>\n",
       "      <th>geometry</th>\n",
       "    </tr>\n",
       "  </thead>\n",
       "  <tbody>\n",
       "    <tr>\n",
       "      <th>0</th>\n",
       "      <td>12</td>\n",
       "      <td>35000</td>\n",
       "      <td>02404783</td>\n",
       "      <td>1600000US1235000</td>\n",
       "      <td>1235000</td>\n",
       "      <td>Jacksonville</td>\n",
       "      <td>Jacksonville city</td>\n",
       "      <td>FL</td>\n",
       "      <td>Florida</td>\n",
       "      <td>25</td>\n",
       "      <td>1935492088</td>\n",
       "      <td>329347337</td>\n",
       "      <td>POLYGON ((-82.04933 30.27334, -82.04924 30.273...</td>\n",
       "    </tr>\n",
       "    <tr>\n",
       "      <th>1</th>\n",
       "      <td>01</td>\n",
       "      <td>32416</td>\n",
       "      <td>02403774</td>\n",
       "      <td>1600000US0132416</td>\n",
       "      <td>0132416</td>\n",
       "      <td>Guntersville</td>\n",
       "      <td>Guntersville city</td>\n",
       "      <td>AL</td>\n",
       "      <td>Alabama</td>\n",
       "      <td>25</td>\n",
       "      <td>66393352</td>\n",
       "      <td>44192114</td>\n",
       "      <td>MULTIPOLYGON (((-86.24300 34.36247, -86.23766 ...</td>\n",
       "    </tr>\n",
       "    <tr>\n",
       "      <th>2</th>\n",
       "      <td>01</td>\n",
       "      <td>81504</td>\n",
       "      <td>02406871</td>\n",
       "      <td>1600000US0181504</td>\n",
       "      <td>0181504</td>\n",
       "      <td>Westover</td>\n",
       "      <td>Westover town</td>\n",
       "      <td>AL</td>\n",
       "      <td>Alabama</td>\n",
       "      <td>43</td>\n",
       "      <td>51094431</td>\n",
       "      <td>382665</td>\n",
       "      <td>MULTIPOLYGON (((-86.54358 33.35226, -86.54074 ...</td>\n",
       "    </tr>\n",
       "    <tr>\n",
       "      <th>3</th>\n",
       "      <td>01</td>\n",
       "      <td>26896</td>\n",
       "      <td>02403619</td>\n",
       "      <td>1600000US0126896</td>\n",
       "      <td>0126896</td>\n",
       "      <td>Florence</td>\n",
       "      <td>Florence city</td>\n",
       "      <td>AL</td>\n",
       "      <td>Alabama</td>\n",
       "      <td>25</td>\n",
       "      <td>68681105</td>\n",
       "      <td>546506</td>\n",
       "      <td>POLYGON ((-87.72248 34.81723, -87.71904 34.821...</td>\n",
       "    </tr>\n",
       "    <tr>\n",
       "      <th>4</th>\n",
       "      <td>20</td>\n",
       "      <td>47350</td>\n",
       "      <td>00485624</td>\n",
       "      <td>1600000US2047350</td>\n",
       "      <td>2047350</td>\n",
       "      <td>Mission Hills</td>\n",
       "      <td>Mission Hills city</td>\n",
       "      <td>KS</td>\n",
       "      <td>Kansas</td>\n",
       "      <td>25</td>\n",
       "      <td>5276389</td>\n",
       "      <td>2474</td>\n",
       "      <td>POLYGON ((-94.63043 39.00964, -94.63043 39.015...</td>\n",
       "    </tr>\n",
       "  </tbody>\n",
       "</table>\n",
       "</div>"
      ],
      "text/plain": [
       "  STATEFP PLACEFP   PLACENS          AFFGEOID    GEOID           NAME  \\\n",
       "0      12   35000  02404783  1600000US1235000  1235000   Jacksonville   \n",
       "1      01   32416  02403774  1600000US0132416  0132416   Guntersville   \n",
       "2      01   81504  02406871  1600000US0181504  0181504       Westover   \n",
       "3      01   26896  02403619  1600000US0126896  0126896       Florence   \n",
       "4      20   47350  00485624  1600000US2047350  2047350  Mission Hills   \n",
       "\n",
       "             NAMELSAD STUSPS STATE_NAME LSAD       ALAND     AWATER  \\\n",
       "0   Jacksonville city     FL    Florida   25  1935492088  329347337   \n",
       "1   Guntersville city     AL    Alabama   25    66393352   44192114   \n",
       "2       Westover town     AL    Alabama   43    51094431     382665   \n",
       "3       Florence city     AL    Alabama   25    68681105     546506   \n",
       "4  Mission Hills city     KS     Kansas   25     5276389       2474   \n",
       "\n",
       "                                            geometry  \n",
       "0  POLYGON ((-82.04933 30.27334, -82.04924 30.273...  \n",
       "1  MULTIPOLYGON (((-86.24300 34.36247, -86.23766 ...  \n",
       "2  MULTIPOLYGON (((-86.54358 33.35226, -86.54074 ...  \n",
       "3  POLYGON ((-87.72248 34.81723, -87.71904 34.821...  \n",
       "4  POLYGON ((-94.63043 39.00964, -94.63043 39.015...  "
      ]
     },
     "execution_count": 115,
     "metadata": {},
     "output_type": "execute_result"
    }
   ],
   "source": [
    "all_places.head()"
   ]
  },
  {
   "cell_type": "code",
   "execution_count": 135,
   "metadata": {},
   "outputs": [
    {
     "data": {
      "text/html": [
       "<div>\n",
       "<style scoped>\n",
       "    .dataframe tbody tr th:only-of-type {\n",
       "        vertical-align: middle;\n",
       "    }\n",
       "\n",
       "    .dataframe tbody tr th {\n",
       "        vertical-align: top;\n",
       "    }\n",
       "\n",
       "    .dataframe thead th {\n",
       "        text-align: right;\n",
       "    }\n",
       "</style>\n",
       "<table border=\"1\" class=\"dataframe\">\n",
       "  <thead>\n",
       "    <tr style=\"text-align: right;\">\n",
       "      <th></th>\n",
       "      <th>NAME</th>\n",
       "      <th>STUSPS</th>\n",
       "    </tr>\n",
       "  </thead>\n",
       "  <tbody>\n",
       "    <tr>\n",
       "      <th>868</th>\n",
       "      <td>Nashville</td>\n",
       "      <td>OH</td>\n",
       "    </tr>\n",
       "    <tr>\n",
       "      <th>1075</th>\n",
       "      <td>Nashville-Davidson metropolitan government (balance)</td>\n",
       "      <td>TN</td>\n",
       "    </tr>\n",
       "    <tr>\n",
       "      <th>5468</th>\n",
       "      <td>Nashville</td>\n",
       "      <td>KS</td>\n",
       "    </tr>\n",
       "    <tr>\n",
       "      <th>7767</th>\n",
       "      <td>Indianapolis city (balance)</td>\n",
       "      <td>IN</td>\n",
       "    </tr>\n",
       "    <tr>\n",
       "      <th>7907</th>\n",
       "      <td>St. Louisville</td>\n",
       "      <td>OH</td>\n",
       "    </tr>\n",
       "    <tr>\n",
       "      <th>10770</th>\n",
       "      <td>Nashville</td>\n",
       "      <td>GA</td>\n",
       "    </tr>\n",
       "    <tr>\n",
       "      <th>11519</th>\n",
       "      <td>Nashville</td>\n",
       "      <td>MI</td>\n",
       "    </tr>\n",
       "    <tr>\n",
       "      <th>11684</th>\n",
       "      <td>St. Louis</td>\n",
       "      <td>OK</td>\n",
       "    </tr>\n",
       "    <tr>\n",
       "      <th>13505</th>\n",
       "      <td>Nashville</td>\n",
       "      <td>IN</td>\n",
       "    </tr>\n",
       "    <tr>\n",
       "      <th>13872</th>\n",
       "      <td>Urban Honolulu</td>\n",
       "      <td>HI</td>\n",
       "    </tr>\n",
       "    <tr>\n",
       "      <th>14952</th>\n",
       "      <td>St. Louis</td>\n",
       "      <td>MO</td>\n",
       "    </tr>\n",
       "    <tr>\n",
       "      <th>15797</th>\n",
       "      <td>St. Louis</td>\n",
       "      <td>MI</td>\n",
       "    </tr>\n",
       "    <tr>\n",
       "      <th>16291</th>\n",
       "      <td>Nashville</td>\n",
       "      <td>AR</td>\n",
       "    </tr>\n",
       "    <tr>\n",
       "      <th>16438</th>\n",
       "      <td>East St. Louis</td>\n",
       "      <td>IL</td>\n",
       "    </tr>\n",
       "    <tr>\n",
       "      <th>16535</th>\n",
       "      <td>St. Louis Park</td>\n",
       "      <td>MN</td>\n",
       "    </tr>\n",
       "    <tr>\n",
       "      <th>17398</th>\n",
       "      <td>Bay St. Louis</td>\n",
       "      <td>MS</td>\n",
       "    </tr>\n",
       "    <tr>\n",
       "      <th>21484</th>\n",
       "      <td>Nashville</td>\n",
       "      <td>IL</td>\n",
       "    </tr>\n",
       "    <tr>\n",
       "      <th>28365</th>\n",
       "      <td>Nashville</td>\n",
       "      <td>NC</td>\n",
       "    </tr>\n",
       "    <tr>\n",
       "      <th>29095</th>\n",
       "      <td>East Honolulu</td>\n",
       "      <td>HI</td>\n",
       "    </tr>\n",
       "    <tr>\n",
       "      <th>31322</th>\n",
       "      <td>Lake St. Louis</td>\n",
       "      <td>MO</td>\n",
       "    </tr>\n",
       "  </tbody>\n",
       "</table>\n",
       "</div>"
      ],
      "text/plain": [
       "                                                       NAME STUSPS\n",
       "868                                               Nashville     OH\n",
       "1075   Nashville-Davidson metropolitan government (balance)     TN\n",
       "5468                                              Nashville     KS\n",
       "7767                            Indianapolis city (balance)     IN\n",
       "7907                                         St. Louisville     OH\n",
       "10770                                             Nashville     GA\n",
       "11519                                             Nashville     MI\n",
       "11684                                             St. Louis     OK\n",
       "13505                                             Nashville     IN\n",
       "13872                                        Urban Honolulu     HI\n",
       "14952                                             St. Louis     MO\n",
       "15797                                             St. Louis     MI\n",
       "16291                                             Nashville     AR\n",
       "16438                                        East St. Louis     IL\n",
       "16535                                        St. Louis Park     MN\n",
       "17398                                         Bay St. Louis     MS\n",
       "21484                                             Nashville     IL\n",
       "28365                                             Nashville     NC\n",
       "29095                                         East Honolulu     HI\n",
       "31322                                        Lake St. Louis     MO"
      ]
     },
     "execution_count": 135,
     "metadata": {},
     "output_type": "execute_result"
    }
   ],
   "source": [
    "pd.set_option('display.max_colwidth', None)\n",
    "all_places.loc[all_places.NAME.str.contains('Nashville|Indianapolis|Honolulu|St\\.? Louis'), :][['NAME', 'STUSPS']]"
   ]
  },
  {
   "cell_type": "code",
   "execution_count": 116,
   "metadata": {},
   "outputs": [],
   "source": [
    "all_places['city'] = all_places.apply(lambda x: '{} {}'.format(x['NAME'], x['STUSPS']), axis=1)"
   ]
  },
  {
   "cell_type": "code",
   "execution_count": 118,
   "metadata": {},
   "outputs": [
    {
     "data": {
      "text/plain": [
       "0     Jacksonville FL\n",
       "1     Guntersville AL\n",
       "2         Westover AL\n",
       "3         Florence AL\n",
       "4    Mission Hills KS\n",
       "Name: city, dtype: object"
      ]
     },
     "execution_count": 118,
     "metadata": {},
     "output_type": "execute_result"
    }
   ],
   "source": [
    "all_places.city.head()"
   ]
  },
  {
   "cell_type": "code",
   "execution_count": 137,
   "metadata": {},
   "outputs": [],
   "source": [
    "all_places_simp = all_places[['city', 'geometry']]\n",
    "the_places = all_places_simp[all_places_simp['city'].isin(city_list)]"
   ]
  },
  {
   "cell_type": "code",
   "execution_count": 140,
   "metadata": {},
   "outputs": [
    {
     "data": {
      "text/html": [
       "<div>\n",
       "<style scoped>\n",
       "    .dataframe tbody tr th:only-of-type {\n",
       "        vertical-align: middle;\n",
       "    }\n",
       "\n",
       "    .dataframe tbody tr th {\n",
       "        vertical-align: top;\n",
       "    }\n",
       "\n",
       "    .dataframe thead th {\n",
       "        text-align: right;\n",
       "    }\n",
       "</style>\n",
       "<table border=\"1\" class=\"dataframe\">\n",
       "  <thead>\n",
       "    <tr style=\"text-align: right;\">\n",
       "      <th></th>\n",
       "      <th>city</th>\n",
       "      <th>geometry</th>\n",
       "    </tr>\n",
       "  </thead>\n",
       "  <tbody>\n",
       "    <tr>\n",
       "      <th>0</th>\n",
       "      <td>Jacksonville FL</td>\n",
       "      <td>POLYGON ((-82.04933 30.27334, -82.04924 30.273...</td>\n",
       "    </tr>\n",
       "    <tr>\n",
       "      <th>120</th>\n",
       "      <td>Oklahoma City OK</td>\n",
       "      <td>POLYGON ((-97.83367 35.33536, -97.83119 35.335...</td>\n",
       "    </tr>\n",
       "    <tr>\n",
       "      <th>192</th>\n",
       "      <td>San Diego CA</td>\n",
       "      <td>MULTIPOLYGON (((-116.93264 32.64913, -116.9319...</td>\n",
       "    </tr>\n",
       "    <tr>\n",
       "      <th>567</th>\n",
       "      <td>Oakland CA</td>\n",
       "      <td>POLYGON ((-122.34225 37.80556, -122.33412 37.8...</td>\n",
       "    </tr>\n",
       "    <tr>\n",
       "      <th>761</th>\n",
       "      <td>Tucson AZ</td>\n",
       "      <td>POLYGON ((-111.05873 32.20679, -111.05446 32.2...</td>\n",
       "    </tr>\n",
       "  </tbody>\n",
       "</table>\n",
       "</div>"
      ],
      "text/plain": [
       "                 city                                           geometry\n",
       "0     Jacksonville FL  POLYGON ((-82.04933 30.27334, -82.04924 30.273...\n",
       "120  Oklahoma City OK  POLYGON ((-97.83367 35.33536, -97.83119 35.335...\n",
       "192      San Diego CA  MULTIPOLYGON (((-116.93264 32.64913, -116.9319...\n",
       "567        Oakland CA  POLYGON ((-122.34225 37.80556, -122.33412 37.8...\n",
       "761         Tucson AZ  POLYGON ((-111.05873 32.20679, -111.05446 32.2..."
      ]
     },
     "execution_count": 140,
     "metadata": {},
     "output_type": "execute_result"
    }
   ],
   "source": [
    "pd.reset_option('^display.', silent=True)\n",
    "the_places.head()"
   ]
  },
  {
   "cell_type": "code",
   "execution_count": 141,
   "metadata": {
    "scrolled": true
   },
   "outputs": [
    {
     "data": {
      "text/plain": [
       "array(['Jacksonville FL', 'Oklahoma City OK', 'San Diego CA',\n",
       "       'Oakland CA', 'Tucson AZ', 'Louisville KY',\n",
       "       'Nashville-Davidson metropolitan government (balance) TN',\n",
       "       'Memphis TN', 'Sacramento CA', 'Fort Worth TX', 'Portland OR',\n",
       "       'Chicago IL', 'Colorado Springs CO', 'Denver CO', 'New Orleans LA',\n",
       "       'Detroit MI', 'Philadelphia PA', 'Tulsa OK', 'Cleveland OH',\n",
       "       'Dallas TX', 'El Paso TX', 'Omaha NE', 'Washington DC',\n",
       "       'Bakersfield CA', 'Tampa FL', 'Milwaukee WI', 'Los Angeles CA',\n",
       "       'Seattle WA', 'Indianapolis city (balance) IN', 'Pittsburgh PA',\n",
       "       'Albuquerque NM', 'Boston MA', 'New York NY', 'Atlanta GA',\n",
       "       'San Jose CA', 'Columbus OH', 'Miami FL', 'Minneapolis MN',\n",
       "       'Salt Lake City UT', 'Orlando FL', 'Urban Honolulu HI',\n",
       "       'St. Louis MO', 'Houston TX', 'Fresno CA', 'Las Vegas NV',\n",
       "       'Cincinnati OH', 'San Francisco CA', 'San Antonio TX',\n",
       "       'Baltimore MD', 'Phoenix AZ', 'Kansas City MO', 'Charlotte NC',\n",
       "       'Austin TX', 'Raleigh NC'], dtype=object)"
      ]
     },
     "execution_count": 141,
     "metadata": {},
     "output_type": "execute_result"
    }
   ],
   "source": [
    "the_places.city.unique()"
   ]
  },
  {
   "cell_type": "code",
   "execution_count": 142,
   "metadata": {},
   "outputs": [
    {
     "data": {
      "text/plain": [
       "54"
      ]
     },
     "execution_count": 142,
     "metadata": {},
     "output_type": "execute_result"
    }
   ],
   "source": [
    "the_places.city.nunique()"
   ]
  },
  {
   "cell_type": "code",
   "execution_count": 143,
   "metadata": {},
   "outputs": [
    {
     "data": {
      "text/plain": [
       "[]"
      ]
     },
     "execution_count": 143,
     "metadata": {},
     "output_type": "execute_result"
    }
   ],
   "source": [
    "in_places = the_places.city.unique().tolist()\n",
    "\n",
    "list(set(city_list).difference(in_places))"
   ]
  },
  {
   "cell_type": "code",
   "execution_count": 168,
   "metadata": {},
   "outputs": [
    {
     "data": {
      "text/plain": [
       "True"
      ]
     },
     "execution_count": 168,
     "metadata": {},
     "output_type": "execute_result"
    }
   ],
   "source": [
    "final_df.crs == the_places.crs"
   ]
  },
  {
   "cell_type": "code",
   "execution_count": 169,
   "metadata": {},
   "outputs": [],
   "source": [
    "df_joined = gpd.sjoin(final_df, the_places, how = \"inner\").drop(columns = ['index_right'])"
   ]
  },
  {
   "cell_type": "code",
   "execution_count": 170,
   "metadata": {},
   "outputs": [
    {
     "data": {
      "text/html": [
       "<div>\n",
       "<style scoped>\n",
       "    .dataframe tbody tr th:only-of-type {\n",
       "        vertical-align: middle;\n",
       "    }\n",
       "\n",
       "    .dataframe tbody tr th {\n",
       "        vertical-align: top;\n",
       "    }\n",
       "\n",
       "    .dataframe thead th {\n",
       "        text-align: right;\n",
       "    }\n",
       "</style>\n",
       "<table border=\"1\" class=\"dataframe\">\n",
       "  <thead>\n",
       "    <tr style=\"text-align: right;\">\n",
       "      <th></th>\n",
       "      <th>state</th>\n",
       "      <th>block_group</th>\n",
       "      <th>land_area</th>\n",
       "      <th>geometry</th>\n",
       "      <th>total_jobs</th>\n",
       "      <th>city</th>\n",
       "    </tr>\n",
       "  </thead>\n",
       "  <tbody>\n",
       "    <tr>\n",
       "      <th>3971</th>\n",
       "      <td>AZ</td>\n",
       "      <td>040131124021</td>\n",
       "      <td>646935</td>\n",
       "      <td>POLYGON ((-112.18640 33.46962, -112.18640 33.4...</td>\n",
       "      <td>38.0</td>\n",
       "      <td>Phoenix AZ</td>\n",
       "    </tr>\n",
       "    <tr>\n",
       "      <th>3976</th>\n",
       "      <td>AZ</td>\n",
       "      <td>040131092001</td>\n",
       "      <td>559928</td>\n",
       "      <td>POLYGON ((-112.14461 33.50831, -112.14290 33.5...</td>\n",
       "      <td>2022.0</td>\n",
       "      <td>Phoenix AZ</td>\n",
       "    </tr>\n",
       "    <tr>\n",
       "      <th>3978</th>\n",
       "      <td>AZ</td>\n",
       "      <td>040131167254</td>\n",
       "      <td>1257765</td>\n",
       "      <td>POLYGON ((-112.05021 33.29714, -112.04918 33.2...</td>\n",
       "      <td>24.0</td>\n",
       "      <td>Phoenix AZ</td>\n",
       "    </tr>\n",
       "    <tr>\n",
       "      <th>3980</th>\n",
       "      <td>AZ</td>\n",
       "      <td>040131117004</td>\n",
       "      <td>647191</td>\n",
       "      <td>POLYGON ((-112.06509 33.47661, -112.06507 33.4...</td>\n",
       "      <td>151.0</td>\n",
       "      <td>Phoenix AZ</td>\n",
       "    </tr>\n",
       "    <tr>\n",
       "      <th>3983</th>\n",
       "      <td>AZ</td>\n",
       "      <td>040131126012</td>\n",
       "      <td>537681</td>\n",
       "      <td>POLYGON ((-112.15183 33.46375, -112.14799 33.4...</td>\n",
       "      <td>62.0</td>\n",
       "      <td>Phoenix AZ</td>\n",
       "    </tr>\n",
       "  </tbody>\n",
       "</table>\n",
       "</div>"
      ],
      "text/plain": [
       "     state   block_group  land_area  \\\n",
       "3971    AZ  040131124021     646935   \n",
       "3976    AZ  040131092001     559928   \n",
       "3978    AZ  040131167254    1257765   \n",
       "3980    AZ  040131117004     647191   \n",
       "3983    AZ  040131126012     537681   \n",
       "\n",
       "                                               geometry  total_jobs  \\\n",
       "3971  POLYGON ((-112.18640 33.46962, -112.18640 33.4...        38.0   \n",
       "3976  POLYGON ((-112.14461 33.50831, -112.14290 33.5...      2022.0   \n",
       "3978  POLYGON ((-112.05021 33.29714, -112.04918 33.2...        24.0   \n",
       "3980  POLYGON ((-112.06509 33.47661, -112.06507 33.4...       151.0   \n",
       "3983  POLYGON ((-112.15183 33.46375, -112.14799 33.4...        62.0   \n",
       "\n",
       "            city  \n",
       "3971  Phoenix AZ  \n",
       "3976  Phoenix AZ  \n",
       "3978  Phoenix AZ  \n",
       "3980  Phoenix AZ  \n",
       "3983  Phoenix AZ  "
      ]
     },
     "execution_count": 170,
     "metadata": {},
     "output_type": "execute_result"
    }
   ],
   "source": [
    "df_joined.head()"
   ]
  },
  {
   "cell_type": "code",
   "execution_count": 171,
   "metadata": {},
   "outputs": [],
   "source": [
    "sf_test = df_joined[df_joined['city']=='San Francisco CA']"
   ]
  },
  {
   "cell_type": "code",
   "execution_count": 172,
   "metadata": {},
   "outputs": [
    {
     "data": {
      "text/plain": [
       "<AxesSubplot:>"
      ]
     },
     "execution_count": 172,
     "metadata": {},
     "output_type": "execute_result"
    },
    {
     "data": {
      "image/png": "[encoded data removed]",
      "text/plain": [
       "<Figure size 432x288 with 1 Axes>"
      ]
     },
     "metadata": {
      "needs_background": "light"
     },
     "output_type": "display_data"
    }
   ],
   "source": [
    "sf_test.plot()"
   ]
  },
  {
   "cell_type": "code",
   "execution_count": 173,
   "metadata": {},
   "outputs": [],
   "source": [
    "sf_test2 = final_df.loc[final_df.block_group.str.contains('^06075'), :]"
   ]
  },
  {
   "cell_type": "code",
   "execution_count": 174,
   "metadata": {},
   "outputs": [
    {
     "data": {
      "text/plain": [
       "<AxesSubplot:>"
      ]
     },
     "execution_count": 174,
     "metadata": {},
     "output_type": "execute_result"
    },
    {
     "data": {
      "image/png": "[encoded data removed]",
      "text/plain": [
       "<Figure size 432x288 with 1 Axes>"
      ]
     },
     "metadata": {
      "needs_background": "light"
     },
     "output_type": "display_data"
    }
   ],
   "source": [
    "sf_test2.plot()"
   ]
  },
  {
   "cell_type": "code",
   "execution_count": 175,
   "metadata": {},
   "outputs": [],
   "source": [
    "df_joined['jobs_per_sq_meter'] = df_joined['total_jobs']/df_joined['land_area']"
   ]
  },
  {
   "cell_type": "code",
   "execution_count": 176,
   "metadata": {},
   "outputs": [
    {
     "data": {
      "text/html": [
       "<div>\n",
       "<style scoped>\n",
       "    .dataframe tbody tr th:only-of-type {\n",
       "        vertical-align: middle;\n",
       "    }\n",
       "\n",
       "    .dataframe tbody tr th {\n",
       "        vertical-align: top;\n",
       "    }\n",
       "\n",
       "    .dataframe thead th {\n",
       "        text-align: right;\n",
       "    }\n",
       "</style>\n",
       "<table border=\"1\" class=\"dataframe\">\n",
       "  <thead>\n",
       "    <tr style=\"text-align: right;\">\n",
       "      <th></th>\n",
       "      <th>state</th>\n",
       "      <th>block_group</th>\n",
       "      <th>land_area</th>\n",
       "      <th>geometry</th>\n",
       "      <th>total_jobs</th>\n",
       "      <th>city</th>\n",
       "      <th>jobs_per_sq_meter</th>\n",
       "    </tr>\n",
       "  </thead>\n",
       "  <tbody>\n",
       "    <tr>\n",
       "      <th>3971</th>\n",
       "      <td>AZ</td>\n",
       "      <td>040131124021</td>\n",
       "      <td>646935</td>\n",
       "      <td>POLYGON ((-112.18640 33.46962, -112.18640 33.4...</td>\n",
       "      <td>38.0</td>\n",
       "      <td>Phoenix AZ</td>\n",
       "      <td>0.000059</td>\n",
       "    </tr>\n",
       "    <tr>\n",
       "      <th>3976</th>\n",
       "      <td>AZ</td>\n",
       "      <td>040131092001</td>\n",
       "      <td>559928</td>\n",
       "      <td>POLYGON ((-112.14461 33.50831, -112.14290 33.5...</td>\n",
       "      <td>2022.0</td>\n",
       "      <td>Phoenix AZ</td>\n",
       "      <td>0.003611</td>\n",
       "    </tr>\n",
       "    <tr>\n",
       "      <th>3978</th>\n",
       "      <td>AZ</td>\n",
       "      <td>040131167254</td>\n",
       "      <td>1257765</td>\n",
       "      <td>POLYGON ((-112.05021 33.29714, -112.04918 33.2...</td>\n",
       "      <td>24.0</td>\n",
       "      <td>Phoenix AZ</td>\n",
       "      <td>0.000019</td>\n",
       "    </tr>\n",
       "    <tr>\n",
       "      <th>3980</th>\n",
       "      <td>AZ</td>\n",
       "      <td>040131117004</td>\n",
       "      <td>647191</td>\n",
       "      <td>POLYGON ((-112.06509 33.47661, -112.06507 33.4...</td>\n",
       "      <td>151.0</td>\n",
       "      <td>Phoenix AZ</td>\n",
       "      <td>0.000233</td>\n",
       "    </tr>\n",
       "    <tr>\n",
       "      <th>3983</th>\n",
       "      <td>AZ</td>\n",
       "      <td>040131126012</td>\n",
       "      <td>537681</td>\n",
       "      <td>POLYGON ((-112.15183 33.46375, -112.14799 33.4...</td>\n",
       "      <td>62.0</td>\n",
       "      <td>Phoenix AZ</td>\n",
       "      <td>0.000115</td>\n",
       "    </tr>\n",
       "  </tbody>\n",
       "</table>\n",
       "</div>"
      ],
      "text/plain": [
       "     state   block_group  land_area  \\\n",
       "3971    AZ  040131124021     646935   \n",
       "3976    AZ  040131092001     559928   \n",
       "3978    AZ  040131167254    1257765   \n",
       "3980    AZ  040131117004     647191   \n",
       "3983    AZ  040131126012     537681   \n",
       "\n",
       "                                               geometry  total_jobs  \\\n",
       "3971  POLYGON ((-112.18640 33.46962, -112.18640 33.4...        38.0   \n",
       "3976  POLYGON ((-112.14461 33.50831, -112.14290 33.5...      2022.0   \n",
       "3978  POLYGON ((-112.05021 33.29714, -112.04918 33.2...        24.0   \n",
       "3980  POLYGON ((-112.06509 33.47661, -112.06507 33.4...       151.0   \n",
       "3983  POLYGON ((-112.15183 33.46375, -112.14799 33.4...        62.0   \n",
       "\n",
       "            city  jobs_per_sq_meter  \n",
       "3971  Phoenix AZ           0.000059  \n",
       "3976  Phoenix AZ           0.003611  \n",
       "3978  Phoenix AZ           0.000019  \n",
       "3980  Phoenix AZ           0.000233  \n",
       "3983  Phoenix AZ           0.000115  "
      ]
     },
     "execution_count": 176,
     "metadata": {},
     "output_type": "execute_result"
    }
   ],
   "source": [
    "df_joined.head()"
   ]
  },
  {
   "cell_type": "markdown",
   "metadata": {},
   "source": [
    "### Export as geodataframe"
   ]
  },
  {
   "cell_type": "code",
   "execution_count": 177,
   "metadata": {},
   "outputs": [],
   "source": [
    "df_joined.to_file(\"C:/Users/jpg23/data/downtownrecovery/lehd_new_downtowns/cities_lehd_jobs.geojson\", driver=\"GeoJSON\")  "
   ]
  }
 ],
 "metadata": {
  "kernelspec": {
   "display_name": "Python 3",
   "language": "python",
   "name": "python3"
  },
  "language_info": {
   "codemirror_mode": {
    "name": "ipython",
    "version": 3
   },
   "file_extension": ".py",
   "mimetype": "text/x-python",
   "name": "python",
   "nbconvert_exporter": "python",
   "pygments_lexer": "ipython3",
   "version": "3.8.5"
  }
 },
 "nbformat": 4,
 "nbformat_minor": 4
}
