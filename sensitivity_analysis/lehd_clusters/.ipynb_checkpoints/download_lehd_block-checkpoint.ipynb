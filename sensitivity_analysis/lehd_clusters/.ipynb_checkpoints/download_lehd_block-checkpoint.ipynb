{
 "cells": [
  {
   "cell_type": "markdown",
   "metadata": {},
   "source": [
    "Download LEHD data at block level and join with block shapefile."
   ]
  },
  {
   "cell_type": "markdown",
   "metadata": {},
   "source": [
    "### Install / load packages"
   ]
  },
  {
   "cell_type": "code",
   "execution_count": 1,
   "metadata": {},
   "outputs": [
    {
     "name": "stdout",
     "output_type": "stream",
     "text": [
      "Requirement already satisfied: pygris in c:\\users\\jpg23\\anaconda3\\lib\\site-packages (0.1.6)\n",
      "Requirement already satisfied: geopandas>=0.9 in c:\\users\\jpg23\\anaconda3\\lib\\site-packages (from pygris) (0.13.2)\n",
      "Requirement already satisfied: appdirs in c:\\users\\jpg23\\anaconda3\\lib\\site-packages (from pygris) (1.4.4)\n",
      "Requirement already satisfied: shapely in c:\\users\\jpg23\\anaconda3\\lib\\site-packages (from pygris) (2.0.1)\n",
      "Requirement already satisfied: numpy in c:\\users\\jpg23\\anaconda3\\lib\\site-packages (from pygris) (1.19.2)\n",
      "Requirement already satisfied: rtree in c:\\users\\jpg23\\anaconda3\\lib\\site-packages (from pygris) (0.9.4)\n",
      "Requirement already satisfied: fiona in c:\\users\\jpg23\\anaconda3\\lib\\site-packages (from pygris) (1.9.4.post1)\n",
      "Requirement already satisfied: pandas in c:\\users\\jpg23\\anaconda3\\lib\\site-packages (from pygris) (1.1.3)\n",
      "Requirement already satisfied: pip in c:\\users\\jpg23\\anaconda3\\lib\\site-packages (from pygris) (20.2.4)\n",
      "Requirement already satisfied: requests in c:\\users\\jpg23\\anaconda3\\lib\\site-packages (from pygris) (2.24.0)\n",
      "Requirement already satisfied: packaging in c:\\users\\jpg23\\anaconda3\\lib\\site-packages (from geopandas>=0.9->pygris) (20.4)\n",
      "Requirement already satisfied: pyproj>=3.0.1 in c:\\users\\jpg23\\anaconda3\\lib\\site-packages (from geopandas>=0.9->pygris) (3.5.0)\n",
      "Requirement already satisfied: setuptools in c:\\users\\jpg23\\anaconda3\\lib\\site-packages (from rtree->pygris) (50.3.1.post20201107)\n",
      "Requirement already satisfied: six in c:\\users\\jpg23\\anaconda3\\lib\\site-packages (from fiona->pygris) (1.15.0)\n",
      "Requirement already satisfied: attrs>=19.2.0 in c:\\users\\jpg23\\anaconda3\\lib\\site-packages (from fiona->pygris) (20.3.0)\n",
      "Requirement already satisfied: importlib-metadata; python_version < \"3.10\" in c:\\users\\jpg23\\anaconda3\\lib\\site-packages (from fiona->pygris) (2.0.0)\n",
      "Requirement already satisfied: certifi in c:\\users\\jpg23\\anaconda3\\lib\\site-packages (from fiona->pygris) (2020.6.20)\n",
      "Requirement already satisfied: click~=8.0 in c:\\users\\jpg23\\anaconda3\\lib\\site-packages (from fiona->pygris) (8.1.7)\n",
      "Requirement already satisfied: cligj>=0.5 in c:\\users\\jpg23\\anaconda3\\lib\\site-packages (from fiona->pygris) (0.7.2)\n",
      "Requirement already satisfied: click-plugins>=1.0 in c:\\users\\jpg23\\anaconda3\\lib\\site-packages (from fiona->pygris) (1.1.1)\n",
      "Requirement already satisfied: python-dateutil>=2.7.3 in c:\\users\\jpg23\\anaconda3\\lib\\site-packages (from pandas->pygris) (2.8.1)\n",
      "Requirement already satisfied: pytz>=2017.2 in c:\\users\\jpg23\\anaconda3\\lib\\site-packages (from pandas->pygris) (2020.1)\n",
      "Requirement already satisfied: idna<3,>=2.5 in c:\\users\\jpg23\\anaconda3\\lib\\site-packages (from requests->pygris) (2.10)\n",
      "Requirement already satisfied: chardet<4,>=3.0.2 in c:\\users\\jpg23\\anaconda3\\lib\\site-packages (from requests->pygris) (3.0.4)\n",
      "Requirement already satisfied: urllib3!=1.25.0,!=1.25.1,<1.26,>=1.21.1 in c:\\users\\jpg23\\anaconda3\\lib\\site-packages (from requests->pygris) (1.25.11)\n",
      "Requirement already satisfied: pyparsing>=2.0.2 in c:\\users\\jpg23\\anaconda3\\lib\\site-packages (from packaging->geopandas>=0.9->pygris) (2.4.7)\n",
      "Requirement already satisfied: zipp>=0.5 in c:\\users\\jpg23\\anaconda3\\lib\\site-packages (from importlib-metadata; python_version < \"3.10\"->fiona->pygris) (3.4.0)\n",
      "Requirement already satisfied: colorama; platform_system == \"Windows\" in c:\\users\\jpg23\\anaconda3\\lib\\site-packages (from click~=8.0->fiona->pygris) (0.4.4)\n",
      "Note: you may need to restart the kernel to use updated packages.\n"
     ]
    }
   ],
   "source": [
    "pip install pygris"
   ]
  },
  {
   "cell_type": "code",
   "execution_count": 3,
   "metadata": {},
   "outputs": [],
   "source": [
    "from pygris.data import get_lodes\n",
    "from pygris import blocks\n",
    "from pygris import places\n",
    "import pandas as pd\n",
    "import geopandas as gpd"
   ]
  },
  {
   "cell_type": "markdown",
   "metadata": {},
   "source": [
    "### Load LEHD data using `get_lodes` function from `pygris`"
   ]
  },
  {
   "cell_type": "code",
   "execution_count": 4,
   "metadata": {},
   "outputs": [],
   "source": [
    "states = [\"AL\", \"AK\", \"AZ\", \"AR\", \"CA\", \"CO\", \"CT\", \"DE\", \"FL\", \"GA\", \"HI\", \"ID\", \"IL\", \"IN\", \"IA\", \"KS\", \"KY\", \"LA\", \"ME\", \"MD\", \"MA\", \"MI\", \"MN\", \"MS\", \"MO\", \"MT\", \"NE\", \"NV\", \"NH\", \"NJ\", \"NM\", \"NY\", \"NC\", \"ND\", \"OH\", \"OK\", \"OR\", \"PA\", \"RI\", \"SC\", \"SD\", \"TN\", \"TX\", \"UT\", \"VT\", \"VA\", \"WA\", \"WV\", \"WI\", \"WY\"]"
   ]
  },
  {
   "cell_type": "code",
   "execution_count": 5,
   "metadata": {
    "scrolled": true
   },
   "outputs": [],
   "source": [
    "lehd = []\n",
    "\n",
    "for which_state in states:\n",
    "    \n",
    "    try:\n",
    "    \n",
    "        state_lehd = get_lodes(\n",
    "            state = which_state, \n",
    "            year = 2019, \n",
    "            lodes_type = \"wac\", \n",
    "            agg_level = \"block\"\n",
    "        )\n",
    "\n",
    "        state_lehd[\"state\"] = which_state\n",
    "\n",
    "        lehd.append(state_lehd)\n",
    "    \n",
    "    except:\n",
    "        \n",
    "        pass"
   ]
  },
  {
   "cell_type": "code",
   "execution_count": 9,
   "metadata": {
    "scrolled": true
   },
   "outputs": [],
   "source": [
    "df = pd.concat(lehd)[[\"state\", \"w_geocode\", \"C000\"]]"
   ]
  },
  {
   "cell_type": "code",
   "execution_count": 10,
   "metadata": {},
   "outputs": [
    {
     "data": {
      "text/html": [
       "<div>\n",
       "<style scoped>\n",
       "    .dataframe tbody tr th:only-of-type {\n",
       "        vertical-align: middle;\n",
       "    }\n",
       "\n",
       "    .dataframe tbody tr th {\n",
       "        vertical-align: top;\n",
       "    }\n",
       "\n",
       "    .dataframe thead th {\n",
       "        text-align: right;\n",
       "    }\n",
       "</style>\n",
       "<table border=\"1\" class=\"dataframe\">\n",
       "  <thead>\n",
       "    <tr style=\"text-align: right;\">\n",
       "      <th></th>\n",
       "      <th>state</th>\n",
       "      <th>w_geocode</th>\n",
       "      <th>C000</th>\n",
       "    </tr>\n",
       "  </thead>\n",
       "  <tbody>\n",
       "    <tr>\n",
       "      <th>0</th>\n",
       "      <td>AL</td>\n",
       "      <td>010010201001000</td>\n",
       "      <td>2</td>\n",
       "    </tr>\n",
       "    <tr>\n",
       "      <th>1</th>\n",
       "      <td>AL</td>\n",
       "      <td>010010201001001</td>\n",
       "      <td>2</td>\n",
       "    </tr>\n",
       "    <tr>\n",
       "      <th>2</th>\n",
       "      <td>AL</td>\n",
       "      <td>010010201001002</td>\n",
       "      <td>1</td>\n",
       "    </tr>\n",
       "    <tr>\n",
       "      <th>3</th>\n",
       "      <td>AL</td>\n",
       "      <td>010010201001012</td>\n",
       "      <td>28</td>\n",
       "    </tr>\n",
       "    <tr>\n",
       "      <th>4</th>\n",
       "      <td>AL</td>\n",
       "      <td>010010201001019</td>\n",
       "      <td>15</td>\n",
       "    </tr>\n",
       "    <tr>\n",
       "      <th>...</th>\n",
       "      <td>...</td>\n",
       "      <td>...</td>\n",
       "      <td>...</td>\n",
       "    </tr>\n",
       "    <tr>\n",
       "      <th>8844</th>\n",
       "      <td>WY</td>\n",
       "      <td>560459513003039</td>\n",
       "      <td>3</td>\n",
       "    </tr>\n",
       "    <tr>\n",
       "      <th>8845</th>\n",
       "      <td>WY</td>\n",
       "      <td>560459513003040</td>\n",
       "      <td>1</td>\n",
       "    </tr>\n",
       "    <tr>\n",
       "      <th>8846</th>\n",
       "      <td>WY</td>\n",
       "      <td>560459513003043</td>\n",
       "      <td>5</td>\n",
       "    </tr>\n",
       "    <tr>\n",
       "      <th>8847</th>\n",
       "      <td>WY</td>\n",
       "      <td>560459513003044</td>\n",
       "      <td>67</td>\n",
       "    </tr>\n",
       "    <tr>\n",
       "      <th>8848</th>\n",
       "      <td>WY</td>\n",
       "      <td>560459513003050</td>\n",
       "      <td>4</td>\n",
       "    </tr>\n",
       "  </tbody>\n",
       "</table>\n",
       "<p>2294854 rows × 3 columns</p>\n",
       "</div>"
      ],
      "text/plain": [
       "     state        w_geocode  C000\n",
       "0       AL  010010201001000     2\n",
       "1       AL  010010201001001     2\n",
       "2       AL  010010201001002     1\n",
       "3       AL  010010201001012    28\n",
       "4       AL  010010201001019    15\n",
       "...    ...              ...   ...\n",
       "8844    WY  560459513003039     3\n",
       "8845    WY  560459513003040     1\n",
       "8846    WY  560459513003043     5\n",
       "8847    WY  560459513003044    67\n",
       "8848    WY  560459513003050     4\n",
       "\n",
       "[2294854 rows x 3 columns]"
      ]
     },
     "execution_count": 10,
     "metadata": {},
     "output_type": "execute_result"
    }
   ],
   "source": [
    "df"
   ]
  },
  {
   "cell_type": "code",
   "execution_count": 11,
   "metadata": {},
   "outputs": [
    {
     "data": {
      "text/plain": [
       "array(['AL', 'AZ', 'AR', 'CA', 'CO', 'CT', 'DE', 'FL', 'GA', 'HI', 'ID',\n",
       "       'IL', 'IN', 'IA', 'KS', 'KY', 'LA', 'ME', 'MD', 'MA', 'MI', 'MN',\n",
       "       'MO', 'MT', 'NE', 'NV', 'NH', 'NJ', 'NM', 'NY', 'NC', 'ND', 'OH',\n",
       "       'OK', 'OR', 'PA', 'RI', 'SC', 'SD', 'TN', 'TX', 'UT', 'VT', 'VA',\n",
       "       'WA', 'WV', 'WI', 'WY'], dtype=object)"
      ]
     },
     "execution_count": 11,
     "metadata": {},
     "output_type": "execute_result"
    }
   ],
   "source": [
    "df.state.unique()"
   ]
  },
  {
   "cell_type": "code",
   "execution_count": 12,
   "metadata": {
    "scrolled": true
   },
   "outputs": [
    {
     "data": {
      "text/plain": [
       "48"
      ]
     },
     "execution_count": 12,
     "metadata": {},
     "output_type": "execute_result"
    }
   ],
   "source": [
    "df.state.nunique()"
   ]
  },
  {
   "cell_type": "markdown",
   "metadata": {},
   "source": [
    "### Load block group shapefiles (and land area)"
   ]
  },
  {
   "cell_type": "code",
   "execution_count": null,
   "metadata": {},
   "outputs": [
    {
     "name": "stdout",
     "output_type": "stream",
     "text": [
      "Using FIPS code '01' for input 'AL'\n"
     ]
    }
   ],
   "source": [
    "bl = []\n",
    "\n",
    "for which_state in states:\n",
    "    \n",
    "    try:\n",
    "    \n",
    "        state_bl = blocks(state = which_state, year = 2019)\n",
    "\n",
    "        state_bl[\"state\"] = which_state\n",
    "\n",
    "        bl.append(state_bl)\n",
    "    \n",
    "    except:\n",
    "        \n",
    "        pass"
   ]
  },
  {
   "cell_type": "code",
   "execution_count": null,
   "metadata": {},
   "outputs": [],
   "source": [
    "bl.head()"
   ]
  },
  {
   "cell_type": "code",
   "execution_count": 14,
   "metadata": {},
   "outputs": [
    {
     "ename": "ValueError",
     "evalue": "No objects to concatenate",
     "output_type": "error",
     "traceback": [
      "\u001b[1;31m---------------------------------------------------------------------------\u001b[0m",
      "\u001b[1;31mValueError\u001b[0m                                Traceback (most recent call last)",
      "\u001b[1;32m<ipython-input-14-f0f583a5bd23>\u001b[0m in \u001b[0;36m<module>\u001b[1;34m\u001b[0m\n\u001b[1;32m----> 1\u001b[1;33m \u001b[0mbl_sf\u001b[0m \u001b[1;33m=\u001b[0m \u001b[0mpd\u001b[0m\u001b[1;33m.\u001b[0m\u001b[0mconcat\u001b[0m\u001b[1;33m(\u001b[0m\u001b[0mbl\u001b[0m\u001b[1;33m)\u001b[0m\u001b[1;33m[\u001b[0m\u001b[1;33m[\u001b[0m\u001b[1;34m\"state\"\u001b[0m\u001b[1;33m,\u001b[0m \u001b[1;34m\"GEOID\"\u001b[0m\u001b[1;33m,\u001b[0m \u001b[1;34m\"ALAND\"\u001b[0m\u001b[1;33m,\u001b[0m \u001b[1;34m\"geometry\"\u001b[0m\u001b[1;33m]\u001b[0m\u001b[1;33m]\u001b[0m\u001b[1;33m\u001b[0m\u001b[1;33m\u001b[0m\u001b[0m\n\u001b[0m",
      "\u001b[1;32m~\\anaconda3\\lib\\site-packages\\pandas\\core\\reshape\\concat.py\u001b[0m in \u001b[0;36mconcat\u001b[1;34m(objs, axis, join, ignore_index, keys, levels, names, verify_integrity, sort, copy)\u001b[0m\n\u001b[0;32m    272\u001b[0m     \u001b[0mValueError\u001b[0m\u001b[1;33m:\u001b[0m \u001b[0mIndexes\u001b[0m \u001b[0mhave\u001b[0m \u001b[0moverlapping\u001b[0m \u001b[0mvalues\u001b[0m\u001b[1;33m:\u001b[0m \u001b[1;33m[\u001b[0m\u001b[1;34m'a'\u001b[0m\u001b[1;33m]\u001b[0m\u001b[1;33m\u001b[0m\u001b[1;33m\u001b[0m\u001b[0m\n\u001b[0;32m    273\u001b[0m     \"\"\"\n\u001b[1;32m--> 274\u001b[1;33m     op = _Concatenator(\n\u001b[0m\u001b[0;32m    275\u001b[0m         \u001b[0mobjs\u001b[0m\u001b[1;33m,\u001b[0m\u001b[1;33m\u001b[0m\u001b[1;33m\u001b[0m\u001b[0m\n\u001b[0;32m    276\u001b[0m         \u001b[0maxis\u001b[0m\u001b[1;33m=\u001b[0m\u001b[0maxis\u001b[0m\u001b[1;33m,\u001b[0m\u001b[1;33m\u001b[0m\u001b[1;33m\u001b[0m\u001b[0m\n",
      "\u001b[1;32m~\\anaconda3\\lib\\site-packages\\pandas\\core\\reshape\\concat.py\u001b[0m in \u001b[0;36m__init__\u001b[1;34m(self, objs, axis, join, keys, levels, names, ignore_index, verify_integrity, copy, sort)\u001b[0m\n\u001b[0;32m    329\u001b[0m \u001b[1;33m\u001b[0m\u001b[0m\n\u001b[0;32m    330\u001b[0m         \u001b[1;32mif\u001b[0m \u001b[0mlen\u001b[0m\u001b[1;33m(\u001b[0m\u001b[0mobjs\u001b[0m\u001b[1;33m)\u001b[0m \u001b[1;33m==\u001b[0m \u001b[1;36m0\u001b[0m\u001b[1;33m:\u001b[0m\u001b[1;33m\u001b[0m\u001b[1;33m\u001b[0m\u001b[0m\n\u001b[1;32m--> 331\u001b[1;33m             \u001b[1;32mraise\u001b[0m \u001b[0mValueError\u001b[0m\u001b[1;33m(\u001b[0m\u001b[1;34m\"No objects to concatenate\"\u001b[0m\u001b[1;33m)\u001b[0m\u001b[1;33m\u001b[0m\u001b[1;33m\u001b[0m\u001b[0m\n\u001b[0m\u001b[0;32m    332\u001b[0m \u001b[1;33m\u001b[0m\u001b[0m\n\u001b[0;32m    333\u001b[0m         \u001b[1;32mif\u001b[0m \u001b[0mkeys\u001b[0m \u001b[1;32mis\u001b[0m \u001b[1;32mNone\u001b[0m\u001b[1;33m:\u001b[0m\u001b[1;33m\u001b[0m\u001b[1;33m\u001b[0m\u001b[0m\n",
      "\u001b[1;31mValueError\u001b[0m: No objects to concatenate"
     ]
    }
   ],
   "source": [
    "bl_sf = pd.concat(bl)[[\"state\", \"GEOID\", \"ALAND\", \"geometry\"]]"
   ]
  },
  {
   "cell_type": "code",
   "execution_count": null,
   "metadata": {
    "scrolled": true
   },
   "outputs": [],
   "source": [
    "bl_sf.head()"
   ]
  },
  {
   "cell_type": "code",
   "execution_count": null,
   "metadata": {},
   "outputs": [],
   "source": [
    "bl_sf.state.unique()"
   ]
  },
  {
   "cell_type": "code",
   "execution_count": null,
   "metadata": {},
   "outputs": [],
   "source": [
    "bl_sf.state.nunique()"
   ]
  },
  {
   "cell_type": "code",
   "execution_count": null,
   "metadata": {},
   "outputs": [],
   "source": [
    "bl_sanfran = bl_sf.loc[bl_sf.GEOID.str.contains('^06075'), :]"
   ]
  },
  {
   "cell_type": "code",
   "execution_count": null,
   "metadata": {},
   "outputs": [],
   "source": [
    "bl_sanfran.plot()"
   ]
  },
  {
   "cell_type": "markdown",
   "metadata": {},
   "source": [
    "### Join LEHD data and shapefile"
   ]
  },
  {
   "cell_type": "code",
   "execution_count": null,
   "metadata": {},
   "outputs": [],
   "source": [
    "df.dtypes"
   ]
  },
  {
   "cell_type": "code",
   "execution_count": null,
   "metadata": {},
   "outputs": [],
   "source": [
    "bl_sf.dtypes"
   ]
  },
  {
   "cell_type": "code",
   "execution_count": null,
   "metadata": {},
   "outputs": [],
   "source": [
    "df.head()"
   ]
  },
  {
   "cell_type": "code",
   "execution_count": null,
   "metadata": {
    "scrolled": false
   },
   "outputs": [],
   "source": [
    "bl_sf.head()"
   ]
  },
  {
   "cell_type": "code",
   "execution_count": null,
   "metadata": {},
   "outputs": [],
   "source": [
    "df.shape[0]"
   ]
  },
  {
   "cell_type": "code",
   "execution_count": null,
   "metadata": {},
   "outputs": [],
   "source": [
    "bl_sf.shape[0]"
   ]
  },
  {
   "cell_type": "code",
   "execution_count": null,
   "metadata": {
    "scrolled": true
   },
   "outputs": [],
   "source": [
    "df[df['state'] == 'AR']"
   ]
  },
  {
   "cell_type": "code",
   "execution_count": null,
   "metadata": {},
   "outputs": [],
   "source": [
    "bl_sf[bl_sf['state'] == 'AR'].head()"
   ]
  },
  {
   "cell_type": "code",
   "execution_count": null,
   "metadata": {},
   "outputs": [],
   "source": [
    "final_df = bl_sf.merge(df, how = 'left', left_on = ['state', 'GEOID'], right_on = ['state', 'w_geocode']).drop(columns = ['w_geocode']).rename(columns={\"C000\": \"total_jobs\", \"ALAND\": \"land_area\", \"GEOID\": \"block\"})"
   ]
  },
  {
   "cell_type": "code",
   "execution_count": null,
   "metadata": {},
   "outputs": [],
   "source": [
    "final_df.shape[0]"
   ]
  },
  {
   "cell_type": "code",
   "execution_count": null,
   "metadata": {},
   "outputs": [],
   "source": [
    "final_df.head()"
   ]
  },
  {
   "cell_type": "code",
   "execution_count": null,
   "metadata": {
    "scrolled": true
   },
   "outputs": [],
   "source": [
    "final_df.state.nunique()"
   ]
  },
  {
   "cell_type": "code",
   "execution_count": null,
   "metadata": {},
   "outputs": [],
   "source": [
    "df_states = df.state.unique().tolist()\n",
    "final_df_states = final_df.state.unique().tolist()\n",
    "\n",
    "list(set(df_states).difference(final_df_states))"
   ]
  },
  {
   "cell_type": "code",
   "execution_count": null,
   "metadata": {},
   "outputs": [],
   "source": [
    "type(final_df)"
   ]
  },
  {
   "cell_type": "markdown",
   "metadata": {},
   "source": [
    "### Subset to cities of interest"
   ]
  },
  {
   "cell_type": "code",
   "execution_count": null,
   "metadata": {},
   "outputs": [],
   "source": [
    "city_list = [\n",
    "  'Albuquerque NM',\n",
    "  'Atlanta GA',\n",
    "  'Austin TX',\n",
    "  'Bakersfield CA',\n",
    "  'Baltimore MD',\n",
    "  'Boston MA',\n",
    "  'Charlotte NC',\n",
    "  'Chicago IL',\n",
    "  'Cincinnati OH',\n",
    "  'Cleveland OH',\n",
    "  'Colorado Springs CO',\n",
    "  'Columbus OH',\n",
    "  'Dallas TX',\n",
    "  'Denver CO',\n",
    "  'Detroit MI',\n",
    "  'El Paso TX',\n",
    "  'Fort Worth TX',\n",
    "  'Fresno CA',\n",
    "  'Urban Honolulu HI',\n",
    "  'Houston TX',\n",
    "  'Indianapolis city (balance) IN',\n",
    "  'Jacksonville FL',\n",
    "  'Kansas City MO',\n",
    "  'Las Vegas NV',\n",
    "  'Los Angeles CA',\n",
    "  'Louisville KY',\n",
    "  'Memphis TN',\n",
    "  'Miami FL',\n",
    "  'Milwaukee WI',\n",
    "  'Minneapolis MN',\n",
    "  'Nashville-Davidson metropolitan government (balance) TN',\n",
    "  'New Orleans LA',\n",
    "  'New York NY',\n",
    "  'Oakland CA',\n",
    "  'Oklahoma City OK',\n",
    "  'Omaha NE',\n",
    "  'Orlando FL',\n",
    "  'Philadelphia PA',\n",
    "  'Phoenix AZ',\n",
    "  'Pittsburgh PA',\n",
    "  'Portland OR',\n",
    "  'Raleigh NC',\n",
    "  'Sacramento CA',\n",
    "  'Salt Lake City UT',\n",
    "  'San Antonio TX',\n",
    "  'San Diego CA',\n",
    "  'San Francisco CA',\n",
    "  'San Jose CA',\n",
    "  'Seattle WA',\n",
    "  'St. Louis MO',\n",
    "  'Tampa FL',\n",
    "  'Tucson AZ',\n",
    "  'Tulsa OK',\n",
    "  'Washington DC']"
   ]
  },
  {
   "cell_type": "code",
   "execution_count": null,
   "metadata": {
    "scrolled": true
   },
   "outputs": [],
   "source": [
    "all_places = places(cb = True)"
   ]
  },
  {
   "cell_type": "code",
   "execution_count": null,
   "metadata": {
    "scrolled": false
   },
   "outputs": [],
   "source": [
    "all_places.head()"
   ]
  },
  {
   "cell_type": "code",
   "execution_count": null,
   "metadata": {},
   "outputs": [],
   "source": [
    "pd.set_option('display.max_colwidth', None)\n",
    "all_places.loc[all_places.NAME.str.contains('Nashville|Indianapolis|Honolulu|St\\.? Louis'), :][['NAME', 'STUSPS']]"
   ]
  },
  {
   "cell_type": "code",
   "execution_count": null,
   "metadata": {},
   "outputs": [],
   "source": [
    "all_places['city'] = all_places.apply(lambda x: '{} {}'.format(x['NAME'], x['STUSPS']), axis=1)"
   ]
  },
  {
   "cell_type": "code",
   "execution_count": null,
   "metadata": {},
   "outputs": [],
   "source": [
    "all_places.city.head()"
   ]
  },
  {
   "cell_type": "code",
   "execution_count": null,
   "metadata": {},
   "outputs": [],
   "source": [
    "all_places_simp = all_places[['city', 'geometry']]\n",
    "the_places = all_places_simp[all_places_simp['city'].isin(city_list)]"
   ]
  },
  {
   "cell_type": "code",
   "execution_count": null,
   "metadata": {},
   "outputs": [],
   "source": [
    "pd.reset_option('^display.', silent=True)\n",
    "the_places.head()"
   ]
  },
  {
   "cell_type": "code",
   "execution_count": null,
   "metadata": {
    "scrolled": true
   },
   "outputs": [],
   "source": [
    "the_places.city.unique()"
   ]
  },
  {
   "cell_type": "code",
   "execution_count": null,
   "metadata": {},
   "outputs": [],
   "source": [
    "the_places.city.nunique()"
   ]
  },
  {
   "cell_type": "code",
   "execution_count": null,
   "metadata": {},
   "outputs": [],
   "source": [
    "in_places = the_places.city.unique().tolist()\n",
    "\n",
    "list(set(city_list).difference(in_places))"
   ]
  },
  {
   "cell_type": "code",
   "execution_count": null,
   "metadata": {},
   "outputs": [],
   "source": [
    "final_df.crs == the_places.crs"
   ]
  },
  {
   "cell_type": "code",
   "execution_count": null,
   "metadata": {},
   "outputs": [],
   "source": [
    "df_joined = gpd.sjoin(final_df, the_places, how = \"inner\").drop(columns = ['index_right'])"
   ]
  },
  {
   "cell_type": "code",
   "execution_count": null,
   "metadata": {},
   "outputs": [],
   "source": [
    "df_joined.head()"
   ]
  },
  {
   "cell_type": "code",
   "execution_count": null,
   "metadata": {},
   "outputs": [],
   "source": [
    "sf_test = df_joined[df_joined['city']=='San Francisco CA']"
   ]
  },
  {
   "cell_type": "code",
   "execution_count": null,
   "metadata": {},
   "outputs": [],
   "source": [
    "sf_test.plot()"
   ]
  },
  {
   "cell_type": "code",
   "execution_count": null,
   "metadata": {},
   "outputs": [],
   "source": [
    "sf_test2 = final_df.loc[final_df.block.str.contains('^06075'), :]"
   ]
  },
  {
   "cell_type": "code",
   "execution_count": null,
   "metadata": {},
   "outputs": [],
   "source": [
    "sf_test2.plot()"
   ]
  },
  {
   "cell_type": "code",
   "execution_count": null,
   "metadata": {},
   "outputs": [],
   "source": [
    "df_joined['jobs_per_sq_meter'] = df_joined['total_jobs']/df_joined['land_area']"
   ]
  },
  {
   "cell_type": "code",
   "execution_count": null,
   "metadata": {
    "scrolled": true
   },
   "outputs": [],
   "source": [
    "df_joined.head()"
   ]
  },
  {
   "cell_type": "code",
   "execution_count": null,
   "metadata": {},
   "outputs": [],
   "source": [
    "df_joined.land_area.mean()"
   ]
  },
  {
   "cell_type": "markdown",
   "metadata": {},
   "source": [
    "### Export as geodataframe"
   ]
  },
  {
   "cell_type": "code",
   "execution_count": null,
   "metadata": {},
   "outputs": [],
   "source": [
    "df_joined.to_file(\"C:/Users/jpg23/data/downtownrecovery/lehd_new_downtowns/cities_lehd_jobs_block.geojson\", driver=\"GeoJSON\")  "
   ]
  }
 ],
 "metadata": {
  "kernelspec": {
   "display_name": "Python 3",
   "language": "python",
   "name": "python3"
  },
  "language_info": {
   "codemirror_mode": {
    "name": "ipython",
    "version": 3
   },
   "file_extension": ".py",
   "mimetype": "text/x-python",
   "name": "python",
   "nbconvert_exporter": "python",
   "pygments_lexer": "ipython3",
   "version": "3.8.5"
  }
 },
 "nbformat": 4,
 "nbformat_minor": 4
}
