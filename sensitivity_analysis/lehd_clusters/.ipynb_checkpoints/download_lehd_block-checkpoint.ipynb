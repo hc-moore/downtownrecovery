{
 "cells": [
  {
   "cell_type": "markdown",
   "metadata": {},
   "source": [
    "Download LEHD data at block level and join with block shapefile."
   ]
  },
  {
   "cell_type": "markdown",
   "metadata": {},
   "source": [
    "### Install / load packages"
   ]
  },
  {
   "cell_type": "code",
   "execution_count": 1,
   "metadata": {
    "scrolled": true
   },
   "outputs": [],
   "source": [
    "# pip install pygris"
   ]
  },
  {
   "cell_type": "code",
   "execution_count": 2,
   "metadata": {},
   "outputs": [
    {
     "name": "stderr",
     "output_type": "stream",
     "text": [
      "C:\\Users\\jpg23\\anaconda3\\lib\\site-packages\\numpy\\_distributor_init.py:30: UserWarning: loaded more than 1 DLL from .libs:\n",
      "C:\\Users\\jpg23\\anaconda3\\lib\\site-packages\\numpy\\.libs\\libopenblas.FB5AE2TYXYH2IJRDKGDGQ3XBKLKTF43H.gfortran-win_amd64.dll\n",
      "C:\\Users\\jpg23\\anaconda3\\lib\\site-packages\\numpy\\.libs\\libopenblas.WCDJNK7YVMPZQ2ME2ZZHJJRJ3JIKNDB7.gfortran-win_amd64.dll\n",
      "  warnings.warn(\"loaded more than 1 DLL from .libs:\"\n"
     ]
    }
   ],
   "source": [
    "from pygris.data import get_lodes\n",
    "from pygris import blocks\n",
    "from pygris import places\n",
    "import pandas as pd\n",
    "import geopandas as gpd"
   ]
  },
  {
   "cell_type": "markdown",
   "metadata": {},
   "source": [
    "### Load LEHD data using `get_lodes` function from `pygris`"
   ]
  },
  {
   "cell_type": "code",
   "execution_count": 3,
   "metadata": {},
   "outputs": [],
   "source": [
    "states = [\"AL\", \"AK\", \"AZ\", \"AR\", \"CA\", \"CO\", \"CT\", \"DE\", \"FL\", \"GA\", \"HI\", \"ID\", \"IL\", \"IN\", \"IA\", \"KS\", \"KY\", \"LA\", \"ME\", \"MD\", \"MA\", \"MI\", \"MN\", \"MS\", \"MO\", \"MT\", \"NE\", \"NV\", \"NH\", \"NJ\", \"NM\", \"NY\", \"NC\", \"ND\", \"OH\", \"OK\", \"OR\", \"PA\", \"RI\", \"SC\", \"SD\", \"TN\", \"TX\", \"UT\", \"VT\", \"VA\", \"WA\", \"WV\", \"WI\", \"WY\"]"
   ]
  },
  {
   "cell_type": "code",
   "execution_count": 4,
   "metadata": {
    "scrolled": true
   },
   "outputs": [],
   "source": [
    "lehd = []\n",
    "\n",
    "for which_state in states:\n",
    "    \n",
    "    try:\n",
    "    \n",
    "        state_lehd = get_lodes(\n",
    "            state = which_state, \n",
    "            year = 2019, # data from 2019\n",
    "            version = \"LODES8\", # uses 2020 census blocks\n",
    "            lodes_type = \"wac\", \n",
    "            agg_level = \"block\"\n",
    "        )\n",
    "\n",
    "        state_lehd[\"state\"] = which_state\n",
    "\n",
    "        lehd.append(state_lehd)\n",
    "    \n",
    "    except:\n",
    "        \n",
    "        pass"
   ]
  },
  {
   "cell_type": "code",
   "execution_count": 5,
   "metadata": {
    "scrolled": true
   },
   "outputs": [],
   "source": [
    "df = pd.concat(lehd)[[\"state\", \"w_geocode\", \"C000\"]]"
   ]
  },
  {
   "cell_type": "code",
   "execution_count": 6,
   "metadata": {},
   "outputs": [
    {
     "data": {
      "text/html": [
       "<div>\n",
       "<style scoped>\n",
       "    .dataframe tbody tr th:only-of-type {\n",
       "        vertical-align: middle;\n",
       "    }\n",
       "\n",
       "    .dataframe tbody tr th {\n",
       "        vertical-align: top;\n",
       "    }\n",
       "\n",
       "    .dataframe thead th {\n",
       "        text-align: right;\n",
       "    }\n",
       "</style>\n",
       "<table border=\"1\" class=\"dataframe\">\n",
       "  <thead>\n",
       "    <tr style=\"text-align: right;\">\n",
       "      <th></th>\n",
       "      <th>state</th>\n",
       "      <th>w_geocode</th>\n",
       "      <th>C000</th>\n",
       "    </tr>\n",
       "  </thead>\n",
       "  <tbody>\n",
       "    <tr>\n",
       "      <th>0</th>\n",
       "      <td>AL</td>\n",
       "      <td>010010201001000</td>\n",
       "      <td>2</td>\n",
       "    </tr>\n",
       "    <tr>\n",
       "      <th>1</th>\n",
       "      <td>AL</td>\n",
       "      <td>010010201001001</td>\n",
       "      <td>2</td>\n",
       "    </tr>\n",
       "    <tr>\n",
       "      <th>2</th>\n",
       "      <td>AL</td>\n",
       "      <td>010010201001002</td>\n",
       "      <td>1</td>\n",
       "    </tr>\n",
       "    <tr>\n",
       "      <th>3</th>\n",
       "      <td>AL</td>\n",
       "      <td>010010201001012</td>\n",
       "      <td>28</td>\n",
       "    </tr>\n",
       "    <tr>\n",
       "      <th>4</th>\n",
       "      <td>AL</td>\n",
       "      <td>010010201001019</td>\n",
       "      <td>15</td>\n",
       "    </tr>\n",
       "    <tr>\n",
       "      <th>...</th>\n",
       "      <td>...</td>\n",
       "      <td>...</td>\n",
       "      <td>...</td>\n",
       "    </tr>\n",
       "    <tr>\n",
       "      <th>8844</th>\n",
       "      <td>WY</td>\n",
       "      <td>560459513003039</td>\n",
       "      <td>3</td>\n",
       "    </tr>\n",
       "    <tr>\n",
       "      <th>8845</th>\n",
       "      <td>WY</td>\n",
       "      <td>560459513003040</td>\n",
       "      <td>1</td>\n",
       "    </tr>\n",
       "    <tr>\n",
       "      <th>8846</th>\n",
       "      <td>WY</td>\n",
       "      <td>560459513003043</td>\n",
       "      <td>5</td>\n",
       "    </tr>\n",
       "    <tr>\n",
       "      <th>8847</th>\n",
       "      <td>WY</td>\n",
       "      <td>560459513003044</td>\n",
       "      <td>67</td>\n",
       "    </tr>\n",
       "    <tr>\n",
       "      <th>8848</th>\n",
       "      <td>WY</td>\n",
       "      <td>560459513003050</td>\n",
       "      <td>4</td>\n",
       "    </tr>\n",
       "  </tbody>\n",
       "</table>\n",
       "<p>2294854 rows × 3 columns</p>\n",
       "</div>"
      ],
      "text/plain": [
       "     state        w_geocode  C000\n",
       "0       AL  010010201001000     2\n",
       "1       AL  010010201001001     2\n",
       "2       AL  010010201001002     1\n",
       "3       AL  010010201001012    28\n",
       "4       AL  010010201001019    15\n",
       "...    ...              ...   ...\n",
       "8844    WY  560459513003039     3\n",
       "8845    WY  560459513003040     1\n",
       "8846    WY  560459513003043     5\n",
       "8847    WY  560459513003044    67\n",
       "8848    WY  560459513003050     4\n",
       "\n",
       "[2294854 rows x 3 columns]"
      ]
     },
     "execution_count": 6,
     "metadata": {},
     "output_type": "execute_result"
    }
   ],
   "source": [
    "df"
   ]
  },
  {
   "cell_type": "code",
   "execution_count": 7,
   "metadata": {},
   "outputs": [
    {
     "data": {
      "text/plain": [
       "array(['AL', 'AZ', 'AR', 'CA', 'CO', 'CT', 'DE', 'FL', 'GA', 'HI', 'ID',\n",
       "       'IL', 'IN', 'IA', 'KS', 'KY', 'LA', 'ME', 'MD', 'MA', 'MI', 'MN',\n",
       "       'MO', 'MT', 'NE', 'NV', 'NH', 'NJ', 'NM', 'NY', 'NC', 'ND', 'OH',\n",
       "       'OK', 'OR', 'PA', 'RI', 'SC', 'SD', 'TN', 'TX', 'UT', 'VT', 'VA',\n",
       "       'WA', 'WV', 'WI', 'WY'], dtype=object)"
      ]
     },
     "execution_count": 7,
     "metadata": {},
     "output_type": "execute_result"
    }
   ],
   "source": [
    "df.state.unique()"
   ]
  },
  {
   "cell_type": "code",
   "execution_count": 8,
   "metadata": {
    "scrolled": true
   },
   "outputs": [
    {
     "data": {
      "text/plain": [
       "48"
      ]
     },
     "execution_count": 8,
     "metadata": {},
     "output_type": "execute_result"
    }
   ],
   "source": [
    "df.state.nunique()"
   ]
  },
  {
   "cell_type": "markdown",
   "metadata": {},
   "source": [
    "### Load block group shapefiles (and land area)"
   ]
  },
  {
   "cell_type": "code",
   "execution_count": 9,
   "metadata": {},
   "outputs": [
    {
     "name": "stdout",
     "output_type": "stream",
     "text": [
      "Using FIPS code '01' for input 'AL'\n",
      "Using FIPS code '02' for input 'AK'\n",
      "Using FIPS code '04' for input 'AZ'\n",
      "Using FIPS code '05' for input 'AR'\n",
      "Using FIPS code '06' for input 'CA'\n",
      "Using FIPS code '08' for input 'CO'\n",
      "Using FIPS code '09' for input 'CT'\n",
      "Using FIPS code '10' for input 'DE'\n",
      "Using FIPS code '12' for input 'FL'\n",
      "Using FIPS code '13' for input 'GA'\n",
      "Using FIPS code '15' for input 'HI'\n",
      "Using FIPS code '16' for input 'ID'\n",
      "Using FIPS code '17' for input 'IL'\n",
      "Using FIPS code '18' for input 'IN'\n",
      "Using FIPS code '19' for input 'IA'\n",
      "Using FIPS code '20' for input 'KS'\n",
      "Using FIPS code '21' for input 'KY'\n",
      "Using FIPS code '22' for input 'LA'\n",
      "Using FIPS code '23' for input 'ME'\n",
      "Using FIPS code '24' for input 'MD'\n",
      "Using FIPS code '25' for input 'MA'\n",
      "Using FIPS code '26' for input 'MI'\n",
      "Using FIPS code '27' for input 'MN'\n",
      "Using FIPS code '28' for input 'MS'\n",
      "Using FIPS code '29' for input 'MO'\n",
      "Using FIPS code '30' for input 'MT'\n",
      "Using FIPS code '31' for input 'NE'\n",
      "Using FIPS code '32' for input 'NV'\n",
      "Using FIPS code '33' for input 'NH'\n",
      "Using FIPS code '34' for input 'NJ'\n",
      "Using FIPS code '35' for input 'NM'\n",
      "Using FIPS code '36' for input 'NY'\n",
      "Using FIPS code '37' for input 'NC'\n",
      "Using FIPS code '38' for input 'ND'\n",
      "Using FIPS code '39' for input 'OH'\n",
      "Using FIPS code '40' for input 'OK'\n",
      "Using FIPS code '41' for input 'OR'\n",
      "Using FIPS code '42' for input 'PA'\n",
      "Using FIPS code '44' for input 'RI'\n",
      "Using FIPS code '45' for input 'SC'\n",
      "Using FIPS code '46' for input 'SD'\n",
      "Using FIPS code '47' for input 'TN'\n",
      "Using FIPS code '48' for input 'TX'\n",
      "Using FIPS code '49' for input 'UT'\n",
      "Using FIPS code '50' for input 'VT'\n",
      "Using FIPS code '51' for input 'VA'\n",
      "Using FIPS code '53' for input 'WA'\n",
      "Using FIPS code '54' for input 'WV'\n",
      "Using FIPS code '55' for input 'WI'\n",
      "Using FIPS code '56' for input 'WY'\n"
     ]
    }
   ],
   "source": [
    "bl = []\n",
    "\n",
    "for which_state in states:\n",
    "    \n",
    "    try:\n",
    "    \n",
    "        state_bl = blocks(state = which_state, year = 2020) # load 2020 boundaries to match LODES8 boundaries\n",
    "\n",
    "        state_bl[\"state\"] = which_state\n",
    "\n",
    "        bl.append(state_bl)\n",
    "    \n",
    "    except:\n",
    "        \n",
    "        pass"
   ]
  },
  {
   "cell_type": "code",
   "execution_count": 10,
   "metadata": {},
   "outputs": [
    {
     "data": {
      "text/html": [
       "<div>\n",
       "<style scoped>\n",
       "    .dataframe tbody tr th:only-of-type {\n",
       "        vertical-align: middle;\n",
       "    }\n",
       "\n",
       "    .dataframe tbody tr th {\n",
       "        vertical-align: top;\n",
       "    }\n",
       "\n",
       "    .dataframe thead th {\n",
       "        text-align: right;\n",
       "    }\n",
       "</style>\n",
       "<table border=\"1\" class=\"dataframe\">\n",
       "  <thead>\n",
       "    <tr style=\"text-align: right;\">\n",
       "      <th></th>\n",
       "      <th>STATEFP20</th>\n",
       "      <th>COUNTYFP20</th>\n",
       "      <th>TRACTCE20</th>\n",
       "      <th>BLOCKCE20</th>\n",
       "      <th>GEOID20</th>\n",
       "      <th>NAME20</th>\n",
       "      <th>MTFCC20</th>\n",
       "      <th>UR20</th>\n",
       "      <th>UACE20</th>\n",
       "      <th>UATYPE20</th>\n",
       "      <th>FUNCSTAT20</th>\n",
       "      <th>ALAND20</th>\n",
       "      <th>AWATER20</th>\n",
       "      <th>INTPTLAT20</th>\n",
       "      <th>INTPTLON20</th>\n",
       "      <th>HOUSING20</th>\n",
       "      <th>POP20</th>\n",
       "      <th>geometry</th>\n",
       "      <th>state</th>\n",
       "    </tr>\n",
       "  </thead>\n",
       "  <tbody>\n",
       "    <tr>\n",
       "      <th>0</th>\n",
       "      <td>01</td>\n",
       "      <td>133</td>\n",
       "      <td>965700</td>\n",
       "      <td>3025</td>\n",
       "      <td>011339657003025</td>\n",
       "      <td>Block 3025</td>\n",
       "      <td>G5040</td>\n",
       "      <td>R</td>\n",
       "      <td>NaN</td>\n",
       "      <td>NaN</td>\n",
       "      <td>S</td>\n",
       "      <td>27642</td>\n",
       "      <td>0</td>\n",
       "      <td>+34.2430014</td>\n",
       "      <td>-087.6271966</td>\n",
       "      <td>5</td>\n",
       "      <td>15</td>\n",
       "      <td>POLYGON ((-87.62818 34.24378, -87.62790 34.243...</td>\n",
       "      <td>AL</td>\n",
       "    </tr>\n",
       "    <tr>\n",
       "      <th>1</th>\n",
       "      <td>01</td>\n",
       "      <td>015</td>\n",
       "      <td>001600</td>\n",
       "      <td>1026</td>\n",
       "      <td>010150016001026</td>\n",
       "      <td>Block 1026</td>\n",
       "      <td>G5040</td>\n",
       "      <td>U</td>\n",
       "      <td>02629</td>\n",
       "      <td>U</td>\n",
       "      <td>S</td>\n",
       "      <td>124157</td>\n",
       "      <td>0</td>\n",
       "      <td>+33.7081655</td>\n",
       "      <td>-085.8594188</td>\n",
       "      <td>10</td>\n",
       "      <td>20</td>\n",
       "      <td>POLYGON ((-85.86498 33.71246, -85.86495 33.712...</td>\n",
       "      <td>AL</td>\n",
       "    </tr>\n",
       "    <tr>\n",
       "      <th>2</th>\n",
       "      <td>01</td>\n",
       "      <td>015</td>\n",
       "      <td>001101</td>\n",
       "      <td>2065</td>\n",
       "      <td>010150011012065</td>\n",
       "      <td>Block 2065</td>\n",
       "      <td>G5040</td>\n",
       "      <td>R</td>\n",
       "      <td>NaN</td>\n",
       "      <td>NaN</td>\n",
       "      <td>S</td>\n",
       "      <td>242040</td>\n",
       "      <td>0</td>\n",
       "      <td>+33.5832632</td>\n",
       "      <td>-085.7919734</td>\n",
       "      <td>3</td>\n",
       "      <td>17</td>\n",
       "      <td>POLYGON ((-85.79456 33.58557, -85.79437 33.585...</td>\n",
       "      <td>AL</td>\n",
       "    </tr>\n",
       "    <tr>\n",
       "      <th>3</th>\n",
       "      <td>01</td>\n",
       "      <td>015</td>\n",
       "      <td>002502</td>\n",
       "      <td>1053</td>\n",
       "      <td>010150025021053</td>\n",
       "      <td>Block 1053</td>\n",
       "      <td>G5040</td>\n",
       "      <td>R</td>\n",
       "      <td>NaN</td>\n",
       "      <td>NaN</td>\n",
       "      <td>S</td>\n",
       "      <td>40222</td>\n",
       "      <td>0</td>\n",
       "      <td>+33.8556542</td>\n",
       "      <td>-085.9163828</td>\n",
       "      <td>1</td>\n",
       "      <td>2</td>\n",
       "      <td>POLYGON ((-85.91755 33.85641, -85.91734 33.856...</td>\n",
       "      <td>AL</td>\n",
       "    </tr>\n",
       "    <tr>\n",
       "      <th>4</th>\n",
       "      <td>01</td>\n",
       "      <td>033</td>\n",
       "      <td>020300</td>\n",
       "      <td>3003</td>\n",
       "      <td>010330203003003</td>\n",
       "      <td>Block 3003</td>\n",
       "      <td>G5040</td>\n",
       "      <td>U</td>\n",
       "      <td>29953</td>\n",
       "      <td>U</td>\n",
       "      <td>S</td>\n",
       "      <td>22668</td>\n",
       "      <td>0</td>\n",
       "      <td>+34.7611216</td>\n",
       "      <td>-087.7092484</td>\n",
       "      <td>36</td>\n",
       "      <td>68</td>\n",
       "      <td>POLYGON ((-87.71026 34.76094, -87.71001 34.761...</td>\n",
       "      <td>AL</td>\n",
       "    </tr>\n",
       "  </tbody>\n",
       "</table>\n",
       "</div>"
      ],
      "text/plain": [
       "  STATEFP20 COUNTYFP20 TRACTCE20 BLOCKCE20          GEOID20      NAME20  \\\n",
       "0        01        133    965700      3025  011339657003025  Block 3025   \n",
       "1        01        015    001600      1026  010150016001026  Block 1026   \n",
       "2        01        015    001101      2065  010150011012065  Block 2065   \n",
       "3        01        015    002502      1053  010150025021053  Block 1053   \n",
       "4        01        033    020300      3003  010330203003003  Block 3003   \n",
       "\n",
       "  MTFCC20 UR20 UACE20 UATYPE20 FUNCSTAT20  ALAND20  AWATER20   INTPTLAT20  \\\n",
       "0   G5040    R    NaN      NaN          S    27642         0  +34.2430014   \n",
       "1   G5040    U  02629        U          S   124157         0  +33.7081655   \n",
       "2   G5040    R    NaN      NaN          S   242040         0  +33.5832632   \n",
       "3   G5040    R    NaN      NaN          S    40222         0  +33.8556542   \n",
       "4   G5040    U  29953        U          S    22668         0  +34.7611216   \n",
       "\n",
       "     INTPTLON20  HOUSING20  POP20  \\\n",
       "0  -087.6271966          5     15   \n",
       "1  -085.8594188         10     20   \n",
       "2  -085.7919734          3     17   \n",
       "3  -085.9163828          1      2   \n",
       "4  -087.7092484         36     68   \n",
       "\n",
       "                                            geometry state  \n",
       "0  POLYGON ((-87.62818 34.24378, -87.62790 34.243...    AL  \n",
       "1  POLYGON ((-85.86498 33.71246, -85.86495 33.712...    AL  \n",
       "2  POLYGON ((-85.79456 33.58557, -85.79437 33.585...    AL  \n",
       "3  POLYGON ((-85.91755 33.85641, -85.91734 33.856...    AL  \n",
       "4  POLYGON ((-87.71026 34.76094, -87.71001 34.761...    AL  "
      ]
     },
     "execution_count": 10,
     "metadata": {},
     "output_type": "execute_result"
    }
   ],
   "source": [
    "bl_sf0 = pd.concat(bl)\n",
    "bl_sf0.head()"
   ]
  },
  {
   "cell_type": "code",
   "execution_count": 12,
   "metadata": {},
   "outputs": [],
   "source": [
    "bl_sf = bl_sf0[[\"state\", \"GEOID20\", \"ALAND20\", \"geometry\"]]"
   ]
  },
  {
   "cell_type": "code",
   "execution_count": 13,
   "metadata": {
    "scrolled": true
   },
   "outputs": [
    {
     "data": {
      "text/html": [
       "<div>\n",
       "<style scoped>\n",
       "    .dataframe tbody tr th:only-of-type {\n",
       "        vertical-align: middle;\n",
       "    }\n",
       "\n",
       "    .dataframe tbody tr th {\n",
       "        vertical-align: top;\n",
       "    }\n",
       "\n",
       "    .dataframe thead th {\n",
       "        text-align: right;\n",
       "    }\n",
       "</style>\n",
       "<table border=\"1\" class=\"dataframe\">\n",
       "  <thead>\n",
       "    <tr style=\"text-align: right;\">\n",
       "      <th></th>\n",
       "      <th>state</th>\n",
       "      <th>GEOID20</th>\n",
       "      <th>ALAND20</th>\n",
       "      <th>geometry</th>\n",
       "    </tr>\n",
       "  </thead>\n",
       "  <tbody>\n",
       "    <tr>\n",
       "      <th>0</th>\n",
       "      <td>AL</td>\n",
       "      <td>011339657003025</td>\n",
       "      <td>27642</td>\n",
       "      <td>POLYGON ((-87.62818 34.24378, -87.62790 34.243...</td>\n",
       "    </tr>\n",
       "    <tr>\n",
       "      <th>1</th>\n",
       "      <td>AL</td>\n",
       "      <td>010150016001026</td>\n",
       "      <td>124157</td>\n",
       "      <td>POLYGON ((-85.86498 33.71246, -85.86495 33.712...</td>\n",
       "    </tr>\n",
       "    <tr>\n",
       "      <th>2</th>\n",
       "      <td>AL</td>\n",
       "      <td>010150011012065</td>\n",
       "      <td>242040</td>\n",
       "      <td>POLYGON ((-85.79456 33.58557, -85.79437 33.585...</td>\n",
       "    </tr>\n",
       "    <tr>\n",
       "      <th>3</th>\n",
       "      <td>AL</td>\n",
       "      <td>010150025021053</td>\n",
       "      <td>40222</td>\n",
       "      <td>POLYGON ((-85.91755 33.85641, -85.91734 33.856...</td>\n",
       "    </tr>\n",
       "    <tr>\n",
       "      <th>4</th>\n",
       "      <td>AL</td>\n",
       "      <td>010330203003003</td>\n",
       "      <td>22668</td>\n",
       "      <td>POLYGON ((-87.71026 34.76094, -87.71001 34.761...</td>\n",
       "    </tr>\n",
       "  </tbody>\n",
       "</table>\n",
       "</div>"
      ],
      "text/plain": [
       "  state          GEOID20  ALAND20  \\\n",
       "0    AL  011339657003025    27642   \n",
       "1    AL  010150016001026   124157   \n",
       "2    AL  010150011012065   242040   \n",
       "3    AL  010150025021053    40222   \n",
       "4    AL  010330203003003    22668   \n",
       "\n",
       "                                            geometry  \n",
       "0  POLYGON ((-87.62818 34.24378, -87.62790 34.243...  \n",
       "1  POLYGON ((-85.86498 33.71246, -85.86495 33.712...  \n",
       "2  POLYGON ((-85.79456 33.58557, -85.79437 33.585...  \n",
       "3  POLYGON ((-85.91755 33.85641, -85.91734 33.856...  \n",
       "4  POLYGON ((-87.71026 34.76094, -87.71001 34.761...  "
      ]
     },
     "execution_count": 13,
     "metadata": {},
     "output_type": "execute_result"
    }
   ],
   "source": [
    "bl_sf.head()"
   ]
  },
  {
   "cell_type": "code",
   "execution_count": 14,
   "metadata": {},
   "outputs": [
    {
     "data": {
      "text/plain": [
       "array(['AL', 'AK', 'AZ', 'AR', 'CA', 'CO', 'CT', 'DE', 'FL', 'GA', 'HI',\n",
       "       'ID', 'IL', 'IN', 'IA', 'KS', 'KY', 'LA', 'ME', 'MD', 'MA', 'MI',\n",
       "       'MN', 'MS', 'MO', 'MT', 'NE', 'NV', 'NH', 'NJ', 'NM', 'NY', 'NC',\n",
       "       'ND', 'OH', 'OK', 'OR', 'PA', 'RI', 'SC', 'SD', 'TN', 'TX', 'UT',\n",
       "       'VT', 'VA', 'WA', 'WV', 'WI', 'WY'], dtype=object)"
      ]
     },
     "execution_count": 14,
     "metadata": {},
     "output_type": "execute_result"
    }
   ],
   "source": [
    "bl_sf.state.unique()"
   ]
  },
  {
   "cell_type": "code",
   "execution_count": 15,
   "metadata": {},
   "outputs": [
    {
     "data": {
      "text/plain": [
       "50"
      ]
     },
     "execution_count": 15,
     "metadata": {},
     "output_type": "execute_result"
    }
   ],
   "source": [
    "bl_sf.state.nunique()"
   ]
  },
  {
   "cell_type": "code",
   "execution_count": 20,
   "metadata": {},
   "outputs": [],
   "source": [
    "bl_sanfran = bl_sf.loc[bl_sf.GEOID20.str.contains('^06075'), :]"
   ]
  },
  {
   "cell_type": "code",
   "execution_count": 21,
   "metadata": {},
   "outputs": [
    {
     "data": {
      "text/plain": [
       "<AxesSubplot:>"
      ]
     },
     "execution_count": 21,
     "metadata": {},
     "output_type": "execute_result"
    },
    {
     "data": {
      "image/png": "[encoded data removed]",
      "text/plain": [
       "<Figure size 432x288 with 1 Axes>"
      ]
     },
     "metadata": {
      "needs_background": "light"
     },
     "output_type": "display_data"
    }
   ],
   "source": [
    "bl_sanfran.plot()"
   ]
  },
  {
   "cell_type": "markdown",
   "metadata": {},
   "source": [
    "### Join LEHD data and shapefile"
   ]
  },
  {
   "cell_type": "code",
   "execution_count": 22,
   "metadata": {},
   "outputs": [
    {
     "data": {
      "text/plain": [
       "state        object\n",
       "w_geocode    object\n",
       "C000          int64\n",
       "dtype: object"
      ]
     },
     "execution_count": 22,
     "metadata": {},
     "output_type": "execute_result"
    }
   ],
   "source": [
    "df.dtypes"
   ]
  },
  {
   "cell_type": "code",
   "execution_count": 23,
   "metadata": {},
   "outputs": [
    {
     "data": {
      "text/plain": [
       "state         object\n",
       "GEOID20       object\n",
       "ALAND20        int64\n",
       "geometry    geometry\n",
       "dtype: object"
      ]
     },
     "execution_count": 23,
     "metadata": {},
     "output_type": "execute_result"
    }
   ],
   "source": [
    "bl_sf.dtypes"
   ]
  },
  {
   "cell_type": "code",
   "execution_count": 24,
   "metadata": {},
   "outputs": [
    {
     "data": {
      "text/html": [
       "<div>\n",
       "<style scoped>\n",
       "    .dataframe tbody tr th:only-of-type {\n",
       "        vertical-align: middle;\n",
       "    }\n",
       "\n",
       "    .dataframe tbody tr th {\n",
       "        vertical-align: top;\n",
       "    }\n",
       "\n",
       "    .dataframe thead th {\n",
       "        text-align: right;\n",
       "    }\n",
       "</style>\n",
       "<table border=\"1\" class=\"dataframe\">\n",
       "  <thead>\n",
       "    <tr style=\"text-align: right;\">\n",
       "      <th></th>\n",
       "      <th>state</th>\n",
       "      <th>w_geocode</th>\n",
       "      <th>C000</th>\n",
       "    </tr>\n",
       "  </thead>\n",
       "  <tbody>\n",
       "    <tr>\n",
       "      <th>0</th>\n",
       "      <td>AL</td>\n",
       "      <td>010010201001000</td>\n",
       "      <td>2</td>\n",
       "    </tr>\n",
       "    <tr>\n",
       "      <th>1</th>\n",
       "      <td>AL</td>\n",
       "      <td>010010201001001</td>\n",
       "      <td>2</td>\n",
       "    </tr>\n",
       "    <tr>\n",
       "      <th>2</th>\n",
       "      <td>AL</td>\n",
       "      <td>010010201001002</td>\n",
       "      <td>1</td>\n",
       "    </tr>\n",
       "    <tr>\n",
       "      <th>3</th>\n",
       "      <td>AL</td>\n",
       "      <td>010010201001012</td>\n",
       "      <td>28</td>\n",
       "    </tr>\n",
       "    <tr>\n",
       "      <th>4</th>\n",
       "      <td>AL</td>\n",
       "      <td>010010201001019</td>\n",
       "      <td>15</td>\n",
       "    </tr>\n",
       "  </tbody>\n",
       "</table>\n",
       "</div>"
      ],
      "text/plain": [
       "  state        w_geocode  C000\n",
       "0    AL  010010201001000     2\n",
       "1    AL  010010201001001     2\n",
       "2    AL  010010201001002     1\n",
       "3    AL  010010201001012    28\n",
       "4    AL  010010201001019    15"
      ]
     },
     "execution_count": 24,
     "metadata": {},
     "output_type": "execute_result"
    }
   ],
   "source": [
    "df.head()"
   ]
  },
  {
   "cell_type": "code",
   "execution_count": 25,
   "metadata": {
    "scrolled": false
   },
   "outputs": [
    {
     "data": {
      "text/html": [
       "<div>\n",
       "<style scoped>\n",
       "    .dataframe tbody tr th:only-of-type {\n",
       "        vertical-align: middle;\n",
       "    }\n",
       "\n",
       "    .dataframe tbody tr th {\n",
       "        vertical-align: top;\n",
       "    }\n",
       "\n",
       "    .dataframe thead th {\n",
       "        text-align: right;\n",
       "    }\n",
       "</style>\n",
       "<table border=\"1\" class=\"dataframe\">\n",
       "  <thead>\n",
       "    <tr style=\"text-align: right;\">\n",
       "      <th></th>\n",
       "      <th>state</th>\n",
       "      <th>GEOID20</th>\n",
       "      <th>ALAND20</th>\n",
       "      <th>geometry</th>\n",
       "    </tr>\n",
       "  </thead>\n",
       "  <tbody>\n",
       "    <tr>\n",
       "      <th>0</th>\n",
       "      <td>AL</td>\n",
       "      <td>011339657003025</td>\n",
       "      <td>27642</td>\n",
       "      <td>POLYGON ((-87.62818 34.24378, -87.62790 34.243...</td>\n",
       "    </tr>\n",
       "    <tr>\n",
       "      <th>1</th>\n",
       "      <td>AL</td>\n",
       "      <td>010150016001026</td>\n",
       "      <td>124157</td>\n",
       "      <td>POLYGON ((-85.86498 33.71246, -85.86495 33.712...</td>\n",
       "    </tr>\n",
       "    <tr>\n",
       "      <th>2</th>\n",
       "      <td>AL</td>\n",
       "      <td>010150011012065</td>\n",
       "      <td>242040</td>\n",
       "      <td>POLYGON ((-85.79456 33.58557, -85.79437 33.585...</td>\n",
       "    </tr>\n",
       "    <tr>\n",
       "      <th>3</th>\n",
       "      <td>AL</td>\n",
       "      <td>010150025021053</td>\n",
       "      <td>40222</td>\n",
       "      <td>POLYGON ((-85.91755 33.85641, -85.91734 33.856...</td>\n",
       "    </tr>\n",
       "    <tr>\n",
       "      <th>4</th>\n",
       "      <td>AL</td>\n",
       "      <td>010330203003003</td>\n",
       "      <td>22668</td>\n",
       "      <td>POLYGON ((-87.71026 34.76094, -87.71001 34.761...</td>\n",
       "    </tr>\n",
       "  </tbody>\n",
       "</table>\n",
       "</div>"
      ],
      "text/plain": [
       "  state          GEOID20  ALAND20  \\\n",
       "0    AL  011339657003025    27642   \n",
       "1    AL  010150016001026   124157   \n",
       "2    AL  010150011012065   242040   \n",
       "3    AL  010150025021053    40222   \n",
       "4    AL  010330203003003    22668   \n",
       "\n",
       "                                            geometry  \n",
       "0  POLYGON ((-87.62818 34.24378, -87.62790 34.243...  \n",
       "1  POLYGON ((-85.86498 33.71246, -85.86495 33.712...  \n",
       "2  POLYGON ((-85.79456 33.58557, -85.79437 33.585...  \n",
       "3  POLYGON ((-85.91755 33.85641, -85.91734 33.856...  \n",
       "4  POLYGON ((-87.71026 34.76094, -87.71001 34.761...  "
      ]
     },
     "execution_count": 25,
     "metadata": {},
     "output_type": "execute_result"
    }
   ],
   "source": [
    "bl_sf.head()"
   ]
  },
  {
   "cell_type": "code",
   "execution_count": 26,
   "metadata": {},
   "outputs": [
    {
     "data": {
      "text/plain": [
       "2294854"
      ]
     },
     "execution_count": 26,
     "metadata": {},
     "output_type": "execute_result"
    }
   ],
   "source": [
    "df.shape[0]"
   ]
  },
  {
   "cell_type": "code",
   "execution_count": 27,
   "metadata": {},
   "outputs": [
    {
     "data": {
      "text/plain": [
       "8126956"
      ]
     },
     "execution_count": 27,
     "metadata": {},
     "output_type": "execute_result"
    }
   ],
   "source": [
    "bl_sf.shape[0]"
   ]
  },
  {
   "cell_type": "code",
   "execution_count": 28,
   "metadata": {
    "scrolled": true
   },
   "outputs": [
    {
     "data": {
      "text/html": [
       "<div>\n",
       "<style scoped>\n",
       "    .dataframe tbody tr th:only-of-type {\n",
       "        vertical-align: middle;\n",
       "    }\n",
       "\n",
       "    .dataframe tbody tr th {\n",
       "        vertical-align: top;\n",
       "    }\n",
       "\n",
       "    .dataframe thead th {\n",
       "        text-align: right;\n",
       "    }\n",
       "</style>\n",
       "<table border=\"1\" class=\"dataframe\">\n",
       "  <thead>\n",
       "    <tr style=\"text-align: right;\">\n",
       "      <th></th>\n",
       "      <th>state</th>\n",
       "      <th>w_geocode</th>\n",
       "      <th>C000</th>\n",
       "    </tr>\n",
       "  </thead>\n",
       "  <tbody>\n",
       "    <tr>\n",
       "      <th>0</th>\n",
       "      <td>AR</td>\n",
       "      <td>050350306021068</td>\n",
       "      <td>8</td>\n",
       "    </tr>\n",
       "    <tr>\n",
       "      <th>1</th>\n",
       "      <td>AR</td>\n",
       "      <td>050350306023086</td>\n",
       "      <td>5</td>\n",
       "    </tr>\n",
       "    <tr>\n",
       "      <th>2</th>\n",
       "      <td>AR</td>\n",
       "      <td>050350306023087</td>\n",
       "      <td>15</td>\n",
       "    </tr>\n",
       "  </tbody>\n",
       "</table>\n",
       "</div>"
      ],
      "text/plain": [
       "  state        w_geocode  C000\n",
       "0    AR  050350306021068     8\n",
       "1    AR  050350306023086     5\n",
       "2    AR  050350306023087    15"
      ]
     },
     "execution_count": 28,
     "metadata": {},
     "output_type": "execute_result"
    }
   ],
   "source": [
    "df[df['state'] == 'AR']"
   ]
  },
  {
   "cell_type": "code",
   "execution_count": 29,
   "metadata": {
    "scrolled": true
   },
   "outputs": [
    {
     "data": {
      "text/html": [
       "<div>\n",
       "<style scoped>\n",
       "    .dataframe tbody tr th:only-of-type {\n",
       "        vertical-align: middle;\n",
       "    }\n",
       "\n",
       "    .dataframe tbody tr th {\n",
       "        vertical-align: top;\n",
       "    }\n",
       "\n",
       "    .dataframe thead th {\n",
       "        text-align: right;\n",
       "    }\n",
       "</style>\n",
       "<table border=\"1\" class=\"dataframe\">\n",
       "  <thead>\n",
       "    <tr style=\"text-align: right;\">\n",
       "      <th></th>\n",
       "      <th>state</th>\n",
       "      <th>GEOID20</th>\n",
       "      <th>ALAND20</th>\n",
       "      <th>geometry</th>\n",
       "    </tr>\n",
       "  </thead>\n",
       "  <tbody>\n",
       "    <tr>\n",
       "      <th>0</th>\n",
       "      <td>AR</td>\n",
       "      <td>050879601003037</td>\n",
       "      <td>176590</td>\n",
       "      <td>POLYGON ((-93.79979 36.15195, -93.79974 36.155...</td>\n",
       "    </tr>\n",
       "    <tr>\n",
       "      <th>1</th>\n",
       "      <td>AR</td>\n",
       "      <td>050419505001040</td>\n",
       "      <td>378184</td>\n",
       "      <td>POLYGON ((-91.41833 33.66584, -91.41617 33.665...</td>\n",
       "    </tr>\n",
       "    <tr>\n",
       "      <th>2</th>\n",
       "      <td>AR</td>\n",
       "      <td>050419502001011</td>\n",
       "      <td>2939946</td>\n",
       "      <td>POLYGON ((-91.39053 33.88275, -91.39053 33.882...</td>\n",
       "    </tr>\n",
       "    <tr>\n",
       "      <th>3</th>\n",
       "      <td>AR</td>\n",
       "      <td>050419501001361</td>\n",
       "      <td>3266</td>\n",
       "      <td>POLYGON ((-91.29135 33.96857, -91.29125 33.968...</td>\n",
       "    </tr>\n",
       "    <tr>\n",
       "      <th>4</th>\n",
       "      <td>AR</td>\n",
       "      <td>050419502001095</td>\n",
       "      <td>1222542</td>\n",
       "      <td>POLYGON ((-91.40804 33.86847, -91.40804 33.868...</td>\n",
       "    </tr>\n",
       "  </tbody>\n",
       "</table>\n",
       "</div>"
      ],
      "text/plain": [
       "  state          GEOID20  ALAND20  \\\n",
       "0    AR  050879601003037   176590   \n",
       "1    AR  050419505001040   378184   \n",
       "2    AR  050419502001011  2939946   \n",
       "3    AR  050419501001361     3266   \n",
       "4    AR  050419502001095  1222542   \n",
       "\n",
       "                                            geometry  \n",
       "0  POLYGON ((-93.79979 36.15195, -93.79974 36.155...  \n",
       "1  POLYGON ((-91.41833 33.66584, -91.41617 33.665...  \n",
       "2  POLYGON ((-91.39053 33.88275, -91.39053 33.882...  \n",
       "3  POLYGON ((-91.29135 33.96857, -91.29125 33.968...  \n",
       "4  POLYGON ((-91.40804 33.86847, -91.40804 33.868...  "
      ]
     },
     "execution_count": 29,
     "metadata": {},
     "output_type": "execute_result"
    }
   ],
   "source": [
    "bl_sf[bl_sf['state'] == 'AR'].head()"
   ]
  },
  {
   "cell_type": "code",
   "execution_count": 30,
   "metadata": {},
   "outputs": [
    {
     "data": {
      "text/plain": [
       "state         object\n",
       "GEOID20       object\n",
       "ALAND20        int64\n",
       "geometry    geometry\n",
       "dtype: object"
      ]
     },
     "execution_count": 30,
     "metadata": {},
     "output_type": "execute_result"
    }
   ],
   "source": [
    "bl_sf.dtypes"
   ]
  },
  {
   "cell_type": "code",
   "execution_count": 31,
   "metadata": {},
   "outputs": [
    {
     "data": {
      "text/plain": [
       "state        object\n",
       "w_geocode    object\n",
       "C000          int64\n",
       "dtype: object"
      ]
     },
     "execution_count": 31,
     "metadata": {},
     "output_type": "execute_result"
    }
   ],
   "source": [
    "df.dtypes"
   ]
  },
  {
   "cell_type": "code",
   "execution_count": 32,
   "metadata": {},
   "outputs": [],
   "source": [
    "final_df = bl_sf.merge(df, how = 'left', left_on = ['state', 'GEOID20'], right_on = ['state', 'w_geocode']).drop(columns = ['w_geocode']).rename(columns={\"C000\": \"total_jobs\", \"ALAND20\": \"land_area\", \"GEOID20\": \"block\"})"
   ]
  },
  {
   "cell_type": "code",
   "execution_count": 33,
   "metadata": {},
   "outputs": [
    {
     "data": {
      "text/plain": [
       "8126956"
      ]
     },
     "execution_count": 33,
     "metadata": {},
     "output_type": "execute_result"
    }
   ],
   "source": [
    "final_df.shape[0]"
   ]
  },
  {
   "cell_type": "code",
   "execution_count": 34,
   "metadata": {
    "scrolled": true
   },
   "outputs": [
    {
     "data": {
      "text/html": [
       "<div>\n",
       "<style scoped>\n",
       "    .dataframe tbody tr th:only-of-type {\n",
       "        vertical-align: middle;\n",
       "    }\n",
       "\n",
       "    .dataframe tbody tr th {\n",
       "        vertical-align: top;\n",
       "    }\n",
       "\n",
       "    .dataframe thead th {\n",
       "        text-align: right;\n",
       "    }\n",
       "</style>\n",
       "<table border=\"1\" class=\"dataframe\">\n",
       "  <thead>\n",
       "    <tr style=\"text-align: right;\">\n",
       "      <th></th>\n",
       "      <th>state</th>\n",
       "      <th>block</th>\n",
       "      <th>land_area</th>\n",
       "      <th>geometry</th>\n",
       "      <th>total_jobs</th>\n",
       "    </tr>\n",
       "  </thead>\n",
       "  <tbody>\n",
       "    <tr>\n",
       "      <th>0</th>\n",
       "      <td>AL</td>\n",
       "      <td>011339657003025</td>\n",
       "      <td>27642</td>\n",
       "      <td>POLYGON ((-87.62818 34.24378, -87.62790 34.243...</td>\n",
       "      <td>NaN</td>\n",
       "    </tr>\n",
       "    <tr>\n",
       "      <th>1</th>\n",
       "      <td>AL</td>\n",
       "      <td>010150016001026</td>\n",
       "      <td>124157</td>\n",
       "      <td>POLYGON ((-85.86498 33.71246, -85.86495 33.712...</td>\n",
       "      <td>NaN</td>\n",
       "    </tr>\n",
       "    <tr>\n",
       "      <th>2</th>\n",
       "      <td>AL</td>\n",
       "      <td>010150011012065</td>\n",
       "      <td>242040</td>\n",
       "      <td>POLYGON ((-85.79456 33.58557, -85.79437 33.585...</td>\n",
       "      <td>NaN</td>\n",
       "    </tr>\n",
       "    <tr>\n",
       "      <th>3</th>\n",
       "      <td>AL</td>\n",
       "      <td>010150025021053</td>\n",
       "      <td>40222</td>\n",
       "      <td>POLYGON ((-85.91755 33.85641, -85.91734 33.856...</td>\n",
       "      <td>NaN</td>\n",
       "    </tr>\n",
       "    <tr>\n",
       "      <th>4</th>\n",
       "      <td>AL</td>\n",
       "      <td>010330203003003</td>\n",
       "      <td>22668</td>\n",
       "      <td>POLYGON ((-87.71026 34.76094, -87.71001 34.761...</td>\n",
       "      <td>NaN</td>\n",
       "    </tr>\n",
       "  </tbody>\n",
       "</table>\n",
       "</div>"
      ],
      "text/plain": [
       "  state            block  land_area  \\\n",
       "0    AL  011339657003025      27642   \n",
       "1    AL  010150016001026     124157   \n",
       "2    AL  010150011012065     242040   \n",
       "3    AL  010150025021053      40222   \n",
       "4    AL  010330203003003      22668   \n",
       "\n",
       "                                            geometry  total_jobs  \n",
       "0  POLYGON ((-87.62818 34.24378, -87.62790 34.243...         NaN  \n",
       "1  POLYGON ((-85.86498 33.71246, -85.86495 33.712...         NaN  \n",
       "2  POLYGON ((-85.79456 33.58557, -85.79437 33.585...         NaN  \n",
       "3  POLYGON ((-85.91755 33.85641, -85.91734 33.856...         NaN  \n",
       "4  POLYGON ((-87.71026 34.76094, -87.71001 34.761...         NaN  "
      ]
     },
     "execution_count": 34,
     "metadata": {},
     "output_type": "execute_result"
    }
   ],
   "source": [
    "final_df.head()"
   ]
  },
  {
   "cell_type": "code",
   "execution_count": 35,
   "metadata": {},
   "outputs": [
    {
     "data": {
      "text/html": [
       "<div>\n",
       "<style scoped>\n",
       "    .dataframe tbody tr th:only-of-type {\n",
       "        vertical-align: middle;\n",
       "    }\n",
       "\n",
       "    .dataframe tbody tr th {\n",
       "        vertical-align: top;\n",
       "    }\n",
       "\n",
       "    .dataframe thead th {\n",
       "        text-align: right;\n",
       "    }\n",
       "</style>\n",
       "<table border=\"1\" class=\"dataframe\">\n",
       "  <thead>\n",
       "    <tr style=\"text-align: right;\">\n",
       "      <th></th>\n",
       "      <th>state</th>\n",
       "      <th>block</th>\n",
       "      <th>land_area</th>\n",
       "      <th>geometry</th>\n",
       "      <th>total_jobs</th>\n",
       "    </tr>\n",
       "  </thead>\n",
       "  <tbody>\n",
       "    <tr>\n",
       "      <th>5</th>\n",
       "      <td>AL</td>\n",
       "      <td>011030051013020</td>\n",
       "      <td>31480</td>\n",
       "      <td>POLYGON ((-87.09421 34.58765, -87.09412 34.587...</td>\n",
       "      <td>17.0</td>\n",
       "    </tr>\n",
       "    <tr>\n",
       "      <th>11</th>\n",
       "      <td>AL</td>\n",
       "      <td>011339657002038</td>\n",
       "      <td>10199</td>\n",
       "      <td>POLYGON ((-87.61417 34.22864, -87.61388 34.228...</td>\n",
       "      <td>4.0</td>\n",
       "    </tr>\n",
       "    <tr>\n",
       "      <th>12</th>\n",
       "      <td>AL</td>\n",
       "      <td>011339657002045</td>\n",
       "      <td>12201</td>\n",
       "      <td>POLYGON ((-87.61606 34.22792, -87.61588 34.227...</td>\n",
       "      <td>1.0</td>\n",
       "    </tr>\n",
       "    <tr>\n",
       "      <th>13</th>\n",
       "      <td>AL</td>\n",
       "      <td>010059509001007</td>\n",
       "      <td>379331</td>\n",
       "      <td>POLYGON ((-85.16563 31.85972, -85.16544 31.860...</td>\n",
       "      <td>27.0</td>\n",
       "    </tr>\n",
       "    <tr>\n",
       "      <th>27</th>\n",
       "      <td>AL</td>\n",
       "      <td>010770112001055</td>\n",
       "      <td>13337</td>\n",
       "      <td>POLYGON ((-87.71796 34.80829, -87.71773 34.808...</td>\n",
       "      <td>5.0</td>\n",
       "    </tr>\n",
       "  </tbody>\n",
       "</table>\n",
       "</div>"
      ],
      "text/plain": [
       "   state            block  land_area  \\\n",
       "5     AL  011030051013020      31480   \n",
       "11    AL  011339657002038      10199   \n",
       "12    AL  011339657002045      12201   \n",
       "13    AL  010059509001007     379331   \n",
       "27    AL  010770112001055      13337   \n",
       "\n",
       "                                             geometry  total_jobs  \n",
       "5   POLYGON ((-87.09421 34.58765, -87.09412 34.587...        17.0  \n",
       "11  POLYGON ((-87.61417 34.22864, -87.61388 34.228...         4.0  \n",
       "12  POLYGON ((-87.61606 34.22792, -87.61588 34.227...         1.0  \n",
       "13  POLYGON ((-85.16563 31.85972, -85.16544 31.860...        27.0  \n",
       "27  POLYGON ((-87.71796 34.80829, -87.71773 34.808...         5.0  "
      ]
     },
     "execution_count": 35,
     "metadata": {},
     "output_type": "execute_result"
    }
   ],
   "source": [
    "final_df[final_df['total_jobs'].notnull()].head()"
   ]
  },
  {
   "cell_type": "code",
   "execution_count": 36,
   "metadata": {},
   "outputs": [
    {
     "data": {
      "text/plain": [
       "0.7176244094344796"
      ]
     },
     "execution_count": 36,
     "metadata": {},
     "output_type": "execute_result"
    }
   ],
   "source": [
    "final_df.total_jobs.isnull().mean()"
   ]
  },
  {
   "cell_type": "code",
   "execution_count": 37,
   "metadata": {
    "scrolled": true
   },
   "outputs": [
    {
     "data": {
      "text/plain": [
       "50"
      ]
     },
     "execution_count": 37,
     "metadata": {},
     "output_type": "execute_result"
    }
   ],
   "source": [
    "final_df.state.nunique()"
   ]
  },
  {
   "cell_type": "code",
   "execution_count": 38,
   "metadata": {},
   "outputs": [
    {
     "data": {
      "text/plain": [
       "[]"
      ]
     },
     "execution_count": 38,
     "metadata": {},
     "output_type": "execute_result"
    }
   ],
   "source": [
    "df_states = df.state.unique().tolist()\n",
    "final_df_states = final_df.state.unique().tolist()\n",
    "\n",
    "list(set(df_states).difference(final_df_states))"
   ]
  },
  {
   "cell_type": "code",
   "execution_count": 39,
   "metadata": {},
   "outputs": [
    {
     "data": {
      "text/plain": [
       "geopandas.geodataframe.GeoDataFrame"
      ]
     },
     "execution_count": 39,
     "metadata": {},
     "output_type": "execute_result"
    }
   ],
   "source": [
    "type(final_df)"
   ]
  },
  {
   "cell_type": "markdown",
   "metadata": {},
   "source": [
    "### Subset to cities of interest"
   ]
  },
  {
   "cell_type": "code",
   "execution_count": 40,
   "metadata": {},
   "outputs": [],
   "source": [
    "city_list = [\n",
    "  'Albuquerque NM',\n",
    "  'Atlanta GA',\n",
    "  'Austin TX',\n",
    "  'Bakersfield CA',\n",
    "  'Baltimore MD',\n",
    "  'Boston MA',\n",
    "  'Charlotte NC',\n",
    "  'Chicago IL',\n",
    "  'Cincinnati OH',\n",
    "  'Cleveland OH',\n",
    "  'Colorado Springs CO',\n",
    "  'Columbus OH',\n",
    "  'Dallas TX',\n",
    "  'Denver CO',\n",
    "  'Detroit MI',\n",
    "  'El Paso TX',\n",
    "  'Fort Worth TX',\n",
    "  'Fresno CA',\n",
    "  'Urban Honolulu HI',\n",
    "  'Houston TX',\n",
    "  'Indianapolis city (balance) IN',\n",
    "  'Jacksonville FL',\n",
    "  'Kansas City MO',\n",
    "  'Las Vegas NV',\n",
    "  'Los Angeles CA',\n",
    "  'Louisville KY',\n",
    "  'Memphis TN',\n",
    "  'Miami FL',\n",
    "  'Milwaukee WI',\n",
    "  'Minneapolis MN',\n",
    "  'Nashville-Davidson metropolitan government (balance) TN',\n",
    "  'New Orleans LA',\n",
    "  'New York NY',\n",
    "  'Oakland CA',\n",
    "  'Oklahoma City OK',\n",
    "  'Omaha NE',\n",
    "  'Orlando FL',\n",
    "  'Philadelphia PA',\n",
    "  'Phoenix AZ',\n",
    "  'Pittsburgh PA',\n",
    "  'Portland OR',\n",
    "  'Raleigh NC',\n",
    "  'Sacramento CA',\n",
    "  'Salt Lake City UT',\n",
    "  'San Antonio TX',\n",
    "  'San Diego CA',\n",
    "  'San Francisco CA',\n",
    "  'San Jose CA',\n",
    "  'Seattle WA',\n",
    "  'St. Louis MO',\n",
    "  'Tampa FL',\n",
    "  'Tucson AZ',\n",
    "  'Tulsa OK',\n",
    "  'Washington DC']"
   ]
  },
  {
   "cell_type": "code",
   "execution_count": null,
   "metadata": {
    "scrolled": true
   },
   "outputs": [
    {
     "name": "stdout",
     "output_type": "stream",
     "text": [
      "Using the default year of 2021\n",
      "Retrieving Census-designated places for the entire United States\n"
     ]
    }
   ],
   "source": [
    "all_places = places(cb = True)"
   ]
  },
  {
   "cell_type": "code",
   "execution_count": null,
   "metadata": {
    "scrolled": false
   },
   "outputs": [],
   "source": [
    "all_places.head()"
   ]
  },
  {
   "cell_type": "code",
   "execution_count": null,
   "metadata": {},
   "outputs": [],
   "source": [
    "pd.set_option('display.max_colwidth', None)\n",
    "all_places.loc[all_places.NAME.str.contains('Nashville|Indianapolis|Honolulu|St\\.? Louis'), :][['NAME', 'STUSPS']]"
   ]
  },
  {
   "cell_type": "code",
   "execution_count": null,
   "metadata": {},
   "outputs": [],
   "source": [
    "all_places['city'] = all_places.apply(lambda x: '{} {}'.format(x['NAME'], x['STUSPS']), axis=1)"
   ]
  },
  {
   "cell_type": "code",
   "execution_count": null,
   "metadata": {},
   "outputs": [],
   "source": [
    "all_places.city.head()"
   ]
  },
  {
   "cell_type": "code",
   "execution_count": null,
   "metadata": {},
   "outputs": [],
   "source": [
    "all_places_simp = all_places[['city', 'geometry']]\n",
    "the_places = all_places_simp[all_places_simp['city'].isin(city_list)]"
   ]
  },
  {
   "cell_type": "code",
   "execution_count": null,
   "metadata": {},
   "outputs": [],
   "source": [
    "pd.reset_option('^display.', silent=True)\n",
    "the_places.head()"
   ]
  },
  {
   "cell_type": "code",
   "execution_count": null,
   "metadata": {
    "scrolled": true
   },
   "outputs": [],
   "source": [
    "the_places.city.unique()"
   ]
  },
  {
   "cell_type": "code",
   "execution_count": null,
   "metadata": {},
   "outputs": [],
   "source": [
    "the_places.city.nunique()"
   ]
  },
  {
   "cell_type": "code",
   "execution_count": null,
   "metadata": {},
   "outputs": [],
   "source": [
    "in_places = the_places.city.unique().tolist()\n",
    "\n",
    "list(set(city_list).difference(in_places))"
   ]
  },
  {
   "cell_type": "code",
   "execution_count": null,
   "metadata": {},
   "outputs": [],
   "source": [
    "final_df.crs == the_places.crs"
   ]
  },
  {
   "cell_type": "code",
   "execution_count": null,
   "metadata": {},
   "outputs": [],
   "source": [
    "df_joined = gpd.sjoin(final_df, the_places, how = \"inner\").drop(columns = ['index_right'])"
   ]
  },
  {
   "cell_type": "code",
   "execution_count": null,
   "metadata": {},
   "outputs": [],
   "source": [
    "df_joined.head()"
   ]
  },
  {
   "cell_type": "code",
   "execution_count": null,
   "metadata": {},
   "outputs": [],
   "source": [
    "sf_test = df_joined[df_joined['city']=='San Francisco CA']"
   ]
  },
  {
   "cell_type": "code",
   "execution_count": null,
   "metadata": {},
   "outputs": [],
   "source": [
    "sf_test.plot()"
   ]
  },
  {
   "cell_type": "code",
   "execution_count": null,
   "metadata": {},
   "outputs": [],
   "source": [
    "sf_test2 = final_df.loc[final_df.block.str.contains('^06075'), :]"
   ]
  },
  {
   "cell_type": "code",
   "execution_count": null,
   "metadata": {},
   "outputs": [],
   "source": [
    "sf_test2.plot()"
   ]
  },
  {
   "cell_type": "code",
   "execution_count": null,
   "metadata": {},
   "outputs": [],
   "source": [
    "df_joined['jobs_per_sq_meter'] = df_joined['total_jobs']/df_joined['land_area']"
   ]
  },
  {
   "cell_type": "code",
   "execution_count": null,
   "metadata": {
    "scrolled": false
   },
   "outputs": [],
   "source": [
    "df_joined.head()"
   ]
  },
  {
   "cell_type": "code",
   "execution_count": null,
   "metadata": {},
   "outputs": [],
   "source": [
    "df_joined.land_area.mean()"
   ]
  },
  {
   "cell_type": "code",
   "execution_count": null,
   "metadata": {},
   "outputs": [],
   "source": [
    "sanfran_chor = df_joined[df_joined['city']=='San Francisco CA']\n",
    "sanfran_chor.head()"
   ]
  },
  {
   "cell_type": "code",
   "execution_count": null,
   "metadata": {},
   "outputs": [],
   "source": [
    "sanfran_chor.explore(\n",
    "    column=\"total_jobs\",\n",
    "    tooltip=\"total_jobs\",\n",
    "    tiles=\"CartoDB positron\",\n",
    "    style_kwds=dict(alpha=.5)\n",
    ")"
   ]
  },
  {
   "cell_type": "markdown",
   "metadata": {},
   "source": [
    "### Export as geodataframe"
   ]
  },
  {
   "cell_type": "code",
   "execution_count": null,
   "metadata": {},
   "outputs": [],
   "source": [
    "df_joined.to_file(\"C:/Users/jpg23/data/downtownrecovery/lehd_new_downtowns/cities_lehd_jobs_block.geojson\", driver=\"GeoJSON\")  "
   ]
  }
 ],
 "metadata": {
  "kernelspec": {
   "display_name": "Python 3",
   "language": "python",
   "name": "python3"
  },
  "language_info": {
   "codemirror_mode": {
    "name": "ipython",
    "version": 3
   },
   "file_extension": ".py",
   "mimetype": "text/x-python",
   "name": "python",
   "nbconvert_exporter": "python",
   "pygments_lexer": "ipython3",
   "version": "3.8.5"
  }
 },
 "nbformat": 4,
 "nbformat_minor": 4
}
