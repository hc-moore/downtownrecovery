{
 "cells": [
  {
   "cell_type": "markdown",
   "metadata": {},
   "source": [
    "Download LEHD data at block level and join with block shapefile."
   ]
  },
  {
   "cell_type": "markdown",
   "metadata": {},
   "source": [
    "### Install / load packages"
   ]
  },
  {
   "cell_type": "code",
   "execution_count": 1,
   "metadata": {},
   "outputs": [
    {
     "name": "stdout",
     "output_type": "stream",
     "text": [
      "Requirement already satisfied: pygris in c:\\users\\jpg23\\anaconda3\\lib\\site-packages (0.1.6)\n",
      "Requirement already satisfied: geopandas>=0.9 in c:\\users\\jpg23\\anaconda3\\lib\\site-packages (from pygris) (0.13.2)\n",
      "Requirement already satisfied: appdirs in c:\\users\\jpg23\\anaconda3\\lib\\site-packages (from pygris) (1.4.4)\n",
      "Requirement already satisfied: shapely in c:\\users\\jpg23\\anaconda3\\lib\\site-packages (from pygris) (2.0.1)\n",
      "Requirement already satisfied: numpy in c:\\users\\jpg23\\anaconda3\\lib\\site-packages (from pygris) (1.19.2)\n",
      "Requirement already satisfied: rtree in c:\\users\\jpg23\\anaconda3\\lib\\site-packages (from pygris) (0.9.4)\n",
      "Requirement already satisfied: fiona in c:\\users\\jpg23\\anaconda3\\lib\\site-packages (from pygris) (1.9.4.post1)\n",
      "Requirement already satisfied: pandas in c:\\users\\jpg23\\anaconda3\\lib\\site-packages (from pygris) (1.1.3)\n",
      "Requirement already satisfied: pip in c:\\users\\jpg23\\anaconda3\\lib\\site-packages (from pygris) (20.2.4)\n",
      "Requirement already satisfied: requests in c:\\users\\jpg23\\anaconda3\\lib\\site-packages (from pygris) (2.24.0)\n",
      "Requirement already satisfied: packaging in c:\\users\\jpg23\\anaconda3\\lib\\site-packages (from geopandas>=0.9->pygris) (20.4)\n",
      "Requirement already satisfied: pyproj>=3.0.1 in c:\\users\\jpg23\\anaconda3\\lib\\site-packages (from geopandas>=0.9->pygris) (3.5.0)\n",
      "Requirement already satisfied: setuptools in c:\\users\\jpg23\\anaconda3\\lib\\site-packages (from rtree->pygris) (50.3.1.post20201107)\n",
      "Requirement already satisfied: six in c:\\users\\jpg23\\anaconda3\\lib\\site-packages (from fiona->pygris) (1.15.0)\n",
      "Requirement already satisfied: attrs>=19.2.0 in c:\\users\\jpg23\\anaconda3\\lib\\site-packages (from fiona->pygris) (20.3.0)\n",
      "Requirement already satisfied: importlib-metadata; python_version < \"3.10\" in c:\\users\\jpg23\\anaconda3\\lib\\site-packages (from fiona->pygris) (2.0.0)\n",
      "Requirement already satisfied: certifi in c:\\users\\jpg23\\anaconda3\\lib\\site-packages (from fiona->pygris) (2020.6.20)\n",
      "Requirement already satisfied: click~=8.0 in c:\\users\\jpg23\\anaconda3\\lib\\site-packages (from fiona->pygris) (8.1.7)\n",
      "Requirement already satisfied: cligj>=0.5 in c:\\users\\jpg23\\anaconda3\\lib\\site-packages (from fiona->pygris) (0.7.2)\n",
      "Requirement already satisfied: click-plugins>=1.0 in c:\\users\\jpg23\\anaconda3\\lib\\site-packages (from fiona->pygris) (1.1.1)\n",
      "Requirement already satisfied: python-dateutil>=2.7.3 in c:\\users\\jpg23\\anaconda3\\lib\\site-packages (from pandas->pygris) (2.8.1)\n",
      "Requirement already satisfied: pytz>=2017.2 in c:\\users\\jpg23\\anaconda3\\lib\\site-packages (from pandas->pygris) (2020.1)\n",
      "Requirement already satisfied: idna<3,>=2.5 in c:\\users\\jpg23\\anaconda3\\lib\\site-packages (from requests->pygris) (2.10)\n",
      "Requirement already satisfied: chardet<4,>=3.0.2 in c:\\users\\jpg23\\anaconda3\\lib\\site-packages (from requests->pygris) (3.0.4)\n",
      "Requirement already satisfied: urllib3!=1.25.0,!=1.25.1,<1.26,>=1.21.1 in c:\\users\\jpg23\\anaconda3\\lib\\site-packages (from requests->pygris) (1.25.11)\n",
      "Requirement already satisfied: pyparsing>=2.0.2 in c:\\users\\jpg23\\anaconda3\\lib\\site-packages (from packaging->geopandas>=0.9->pygris) (2.4.7)\n",
      "Requirement already satisfied: zipp>=0.5 in c:\\users\\jpg23\\anaconda3\\lib\\site-packages (from importlib-metadata; python_version < \"3.10\"->fiona->pygris) (3.4.0)\n",
      "Requirement already satisfied: colorama; platform_system == \"Windows\" in c:\\users\\jpg23\\anaconda3\\lib\\site-packages (from click~=8.0->fiona->pygris) (0.4.4)\n",
      "Note: you may need to restart the kernel to use updated packages.\n"
     ]
    }
   ],
   "source": [
    "pip install pygris"
   ]
  },
  {
   "cell_type": "code",
   "execution_count": 70,
   "metadata": {},
   "outputs": [],
   "source": [
    "from pygris.data import get_lodes\n",
    "from pygris import blocks\n",
    "from pygris import places\n",
    "import pandas as pd\n",
    "import geopandas as gpd"
   ]
  },
  {
   "cell_type": "markdown",
   "metadata": {},
   "source": [
    "### Load LEHD data using `get_lodes` function from `pygris`"
   ]
  },
  {
   "cell_type": "code",
   "execution_count": 4,
   "metadata": {},
   "outputs": [],
   "source": [
    "states = [\"AL\", \"AK\", \"AZ\", \"AR\", \"CA\", \"CO\", \"CT\", \"DE\", \"FL\", \"GA\", \"HI\", \"ID\", \"IL\", \"IN\", \"IA\", \"KS\", \"KY\", \"LA\", \"ME\", \"MD\", \"MA\", \"MI\", \"MN\", \"MS\", \"MO\", \"MT\", \"NE\", \"NV\", \"NH\", \"NJ\", \"NM\", \"NY\", \"NC\", \"ND\", \"OH\", \"OK\", \"OR\", \"PA\", \"RI\", \"SC\", \"SD\", \"TN\", \"TX\", \"UT\", \"VT\", \"VA\", \"WA\", \"WV\", \"WI\", \"WY\"]"
   ]
  },
  {
   "cell_type": "code",
   "execution_count": 5,
   "metadata": {
    "scrolled": true
   },
   "outputs": [],
   "source": [
    "lehd = []\n",
    "\n",
    "for which_state in states:\n",
    "    \n",
    "    try:\n",
    "    \n",
    "        state_lehd = get_lodes(\n",
    "            state = which_state, \n",
    "            year = 2019, \n",
    "            lodes_type = \"wac\", \n",
    "            agg_level = \"block\"\n",
    "        )\n",
    "\n",
    "        state_lehd[\"state\"] = which_state\n",
    "\n",
    "        lehd.append(state_lehd)\n",
    "    \n",
    "    except:\n",
    "        \n",
    "        pass"
   ]
  },
  {
   "cell_type": "code",
   "execution_count": 9,
   "metadata": {
    "scrolled": true
   },
   "outputs": [],
   "source": [
    "df = pd.concat(lehd)[[\"state\", \"w_geocode\", \"C000\"]]"
   ]
  },
  {
   "cell_type": "code",
   "execution_count": 10,
   "metadata": {},
   "outputs": [
    {
     "data": {
      "text/html": [
       "<div>\n",
       "<style scoped>\n",
       "    .dataframe tbody tr th:only-of-type {\n",
       "        vertical-align: middle;\n",
       "    }\n",
       "\n",
       "    .dataframe tbody tr th {\n",
       "        vertical-align: top;\n",
       "    }\n",
       "\n",
       "    .dataframe thead th {\n",
       "        text-align: right;\n",
       "    }\n",
       "</style>\n",
       "<table border=\"1\" class=\"dataframe\">\n",
       "  <thead>\n",
       "    <tr style=\"text-align: right;\">\n",
       "      <th></th>\n",
       "      <th>state</th>\n",
       "      <th>w_geocode</th>\n",
       "      <th>C000</th>\n",
       "    </tr>\n",
       "  </thead>\n",
       "  <tbody>\n",
       "    <tr>\n",
       "      <th>0</th>\n",
       "      <td>AL</td>\n",
       "      <td>010010201001000</td>\n",
       "      <td>2</td>\n",
       "    </tr>\n",
       "    <tr>\n",
       "      <th>1</th>\n",
       "      <td>AL</td>\n",
       "      <td>010010201001001</td>\n",
       "      <td>2</td>\n",
       "    </tr>\n",
       "    <tr>\n",
       "      <th>2</th>\n",
       "      <td>AL</td>\n",
       "      <td>010010201001002</td>\n",
       "      <td>1</td>\n",
       "    </tr>\n",
       "    <tr>\n",
       "      <th>3</th>\n",
       "      <td>AL</td>\n",
       "      <td>010010201001012</td>\n",
       "      <td>28</td>\n",
       "    </tr>\n",
       "    <tr>\n",
       "      <th>4</th>\n",
       "      <td>AL</td>\n",
       "      <td>010010201001019</td>\n",
       "      <td>15</td>\n",
       "    </tr>\n",
       "    <tr>\n",
       "      <th>...</th>\n",
       "      <td>...</td>\n",
       "      <td>...</td>\n",
       "      <td>...</td>\n",
       "    </tr>\n",
       "    <tr>\n",
       "      <th>8844</th>\n",
       "      <td>WY</td>\n",
       "      <td>560459513003039</td>\n",
       "      <td>3</td>\n",
       "    </tr>\n",
       "    <tr>\n",
       "      <th>8845</th>\n",
       "      <td>WY</td>\n",
       "      <td>560459513003040</td>\n",
       "      <td>1</td>\n",
       "    </tr>\n",
       "    <tr>\n",
       "      <th>8846</th>\n",
       "      <td>WY</td>\n",
       "      <td>560459513003043</td>\n",
       "      <td>5</td>\n",
       "    </tr>\n",
       "    <tr>\n",
       "      <th>8847</th>\n",
       "      <td>WY</td>\n",
       "      <td>560459513003044</td>\n",
       "      <td>67</td>\n",
       "    </tr>\n",
       "    <tr>\n",
       "      <th>8848</th>\n",
       "      <td>WY</td>\n",
       "      <td>560459513003050</td>\n",
       "      <td>4</td>\n",
       "    </tr>\n",
       "  </tbody>\n",
       "</table>\n",
       "<p>2294854 rows × 3 columns</p>\n",
       "</div>"
      ],
      "text/plain": [
       "     state        w_geocode  C000\n",
       "0       AL  010010201001000     2\n",
       "1       AL  010010201001001     2\n",
       "2       AL  010010201001002     1\n",
       "3       AL  010010201001012    28\n",
       "4       AL  010010201001019    15\n",
       "...    ...              ...   ...\n",
       "8844    WY  560459513003039     3\n",
       "8845    WY  560459513003040     1\n",
       "8846    WY  560459513003043     5\n",
       "8847    WY  560459513003044    67\n",
       "8848    WY  560459513003050     4\n",
       "\n",
       "[2294854 rows x 3 columns]"
      ]
     },
     "execution_count": 10,
     "metadata": {},
     "output_type": "execute_result"
    }
   ],
   "source": [
    "df"
   ]
  },
  {
   "cell_type": "code",
   "execution_count": 11,
   "metadata": {},
   "outputs": [
    {
     "data": {
      "text/plain": [
       "array(['AL', 'AZ', 'AR', 'CA', 'CO', 'CT', 'DE', 'FL', 'GA', 'HI', 'ID',\n",
       "       'IL', 'IN', 'IA', 'KS', 'KY', 'LA', 'ME', 'MD', 'MA', 'MI', 'MN',\n",
       "       'MO', 'MT', 'NE', 'NV', 'NH', 'NJ', 'NM', 'NY', 'NC', 'ND', 'OH',\n",
       "       'OK', 'OR', 'PA', 'RI', 'SC', 'SD', 'TN', 'TX', 'UT', 'VT', 'VA',\n",
       "       'WA', 'WV', 'WI', 'WY'], dtype=object)"
      ]
     },
     "execution_count": 11,
     "metadata": {},
     "output_type": "execute_result"
    }
   ],
   "source": [
    "df.state.unique()"
   ]
  },
  {
   "cell_type": "code",
   "execution_count": 12,
   "metadata": {
    "scrolled": true
   },
   "outputs": [
    {
     "data": {
      "text/plain": [
       "48"
      ]
     },
     "execution_count": 12,
     "metadata": {},
     "output_type": "execute_result"
    }
   ],
   "source": [
    "df.state.nunique()"
   ]
  },
  {
   "cell_type": "markdown",
   "metadata": {},
   "source": [
    "### Load block group shapefiles (and land area)"
   ]
  },
  {
   "cell_type": "code",
   "execution_count": 19,
   "metadata": {},
   "outputs": [
    {
     "name": "stdout",
     "output_type": "stream",
     "text": [
      "Using FIPS code '01' for input 'AL'\n",
      "Using FIPS code '02' for input 'AK'\n",
      "Using FIPS code '04' for input 'AZ'\n",
      "Using FIPS code '05' for input 'AR'\n",
      "Using FIPS code '06' for input 'CA'\n",
      "Using FIPS code '08' for input 'CO'\n",
      "Using FIPS code '09' for input 'CT'\n",
      "Using FIPS code '10' for input 'DE'\n",
      "Using FIPS code '12' for input 'FL'\n",
      "Using FIPS code '13' for input 'GA'\n",
      "Using FIPS code '15' for input 'HI'\n",
      "Using FIPS code '16' for input 'ID'\n",
      "Using FIPS code '17' for input 'IL'\n",
      "Using FIPS code '18' for input 'IN'\n",
      "Using FIPS code '19' for input 'IA'\n",
      "Using FIPS code '20' for input 'KS'\n",
      "Using FIPS code '21' for input 'KY'\n",
      "Using FIPS code '22' for input 'LA'\n",
      "Using FIPS code '23' for input 'ME'\n",
      "Using FIPS code '24' for input 'MD'\n",
      "Using FIPS code '25' for input 'MA'\n",
      "Using FIPS code '26' for input 'MI'\n",
      "Using FIPS code '27' for input 'MN'\n",
      "Using FIPS code '28' for input 'MS'\n",
      "Using FIPS code '29' for input 'MO'\n",
      "Using FIPS code '30' for input 'MT'\n",
      "Using FIPS code '31' for input 'NE'\n",
      "Using FIPS code '32' for input 'NV'\n",
      "Using FIPS code '33' for input 'NH'\n",
      "Using FIPS code '34' for input 'NJ'\n",
      "Using FIPS code '35' for input 'NM'\n",
      "Using FIPS code '36' for input 'NY'\n",
      "Using FIPS code '37' for input 'NC'\n",
      "Using FIPS code '38' for input 'ND'\n",
      "Using FIPS code '39' for input 'OH'\n",
      "Using FIPS code '40' for input 'OK'\n",
      "Using FIPS code '41' for input 'OR'\n",
      "Using FIPS code '42' for input 'PA'\n",
      "Using FIPS code '44' for input 'RI'\n",
      "Using FIPS code '45' for input 'SC'\n",
      "Using FIPS code '46' for input 'SD'\n",
      "Using FIPS code '47' for input 'TN'\n",
      "Using FIPS code '48' for input 'TX'\n",
      "Using FIPS code '49' for input 'UT'\n",
      "Using FIPS code '50' for input 'VT'\n",
      "Using FIPS code '51' for input 'VA'\n",
      "Using FIPS code '53' for input 'WA'\n",
      "Using FIPS code '54' for input 'WV'\n",
      "Using FIPS code '55' for input 'WI'\n",
      "Using FIPS code '56' for input 'WY'\n"
     ]
    }
   ],
   "source": [
    "bl = []\n",
    "\n",
    "for which_state in states:\n",
    "    \n",
    "    try:\n",
    "    \n",
    "        state_bl = blocks(state = which_state, year = 2019)\n",
    "\n",
    "        state_bl[\"state\"] = which_state\n",
    "\n",
    "        bl.append(state_bl)\n",
    "    \n",
    "    except:\n",
    "        \n",
    "        pass"
   ]
  },
  {
   "cell_type": "code",
   "execution_count": 22,
   "metadata": {},
   "outputs": [
    {
     "data": {
      "text/html": [
       "<div>\n",
       "<style scoped>\n",
       "    .dataframe tbody tr th:only-of-type {\n",
       "        vertical-align: middle;\n",
       "    }\n",
       "\n",
       "    .dataframe tbody tr th {\n",
       "        vertical-align: top;\n",
       "    }\n",
       "\n",
       "    .dataframe thead th {\n",
       "        text-align: right;\n",
       "    }\n",
       "</style>\n",
       "<table border=\"1\" class=\"dataframe\">\n",
       "  <thead>\n",
       "    <tr style=\"text-align: right;\">\n",
       "      <th></th>\n",
       "      <th>STATEFP10</th>\n",
       "      <th>COUNTYFP10</th>\n",
       "      <th>TRACTCE10</th>\n",
       "      <th>BLOCKCE10</th>\n",
       "      <th>GEOID10</th>\n",
       "      <th>NAME10</th>\n",
       "      <th>MTFCC10</th>\n",
       "      <th>UR10</th>\n",
       "      <th>UACE10</th>\n",
       "      <th>UATYPE</th>\n",
       "      <th>FUNCSTAT10</th>\n",
       "      <th>ALAND10</th>\n",
       "      <th>AWATER10</th>\n",
       "      <th>INTPTLAT10</th>\n",
       "      <th>INTPTLON10</th>\n",
       "      <th>geometry</th>\n",
       "      <th>state</th>\n",
       "    </tr>\n",
       "  </thead>\n",
       "  <tbody>\n",
       "    <tr>\n",
       "      <th>0</th>\n",
       "      <td>01</td>\n",
       "      <td>103</td>\n",
       "      <td>005200</td>\n",
       "      <td>4027</td>\n",
       "      <td>011030052004027</td>\n",
       "      <td>Block 4027</td>\n",
       "      <td>G5040</td>\n",
       "      <td>R</td>\n",
       "      <td>NaN</td>\n",
       "      <td>NaN</td>\n",
       "      <td>S</td>\n",
       "      <td>1580188</td>\n",
       "      <td>5375</td>\n",
       "      <td>+34.3683598</td>\n",
       "      <td>-087.0459147</td>\n",
       "      <td>POLYGON ((-87.06277 34.36357, -87.06268 34.363...</td>\n",
       "      <td>AL</td>\n",
       "    </tr>\n",
       "    <tr>\n",
       "      <th>1</th>\n",
       "      <td>01</td>\n",
       "      <td>103</td>\n",
       "      <td>005301</td>\n",
       "      <td>3058</td>\n",
       "      <td>011030053013058</td>\n",
       "      <td>Block 3058</td>\n",
       "      <td>G5040</td>\n",
       "      <td>R</td>\n",
       "      <td>NaN</td>\n",
       "      <td>NaN</td>\n",
       "      <td>S</td>\n",
       "      <td>84280</td>\n",
       "      <td>0</td>\n",
       "      <td>+34.5020451</td>\n",
       "      <td>-086.9271519</td>\n",
       "      <td>POLYGON ((-86.92914 34.50124, -86.92912 34.502...</td>\n",
       "      <td>AL</td>\n",
       "    </tr>\n",
       "    <tr>\n",
       "      <th>2</th>\n",
       "      <td>01</td>\n",
       "      <td>103</td>\n",
       "      <td>000100</td>\n",
       "      <td>1145</td>\n",
       "      <td>011030001001145</td>\n",
       "      <td>Block 1145</td>\n",
       "      <td>G5040</td>\n",
       "      <td>U</td>\n",
       "      <td>22690</td>\n",
       "      <td>U</td>\n",
       "      <td>S</td>\n",
       "      <td>10395</td>\n",
       "      <td>0</td>\n",
       "      <td>+34.5894230</td>\n",
       "      <td>-086.9549271</td>\n",
       "      <td>POLYGON ((-86.95598 34.58955, -86.95598 34.589...</td>\n",
       "      <td>AL</td>\n",
       "    </tr>\n",
       "    <tr>\n",
       "      <th>3</th>\n",
       "      <td>01</td>\n",
       "      <td>103</td>\n",
       "      <td>005600</td>\n",
       "      <td>4027</td>\n",
       "      <td>011030056004027</td>\n",
       "      <td>Block 4027</td>\n",
       "      <td>G5040</td>\n",
       "      <td>R</td>\n",
       "      <td>NaN</td>\n",
       "      <td>NaN</td>\n",
       "      <td>S</td>\n",
       "      <td>3545</td>\n",
       "      <td>0</td>\n",
       "      <td>+34.3326702</td>\n",
       "      <td>-086.7586892</td>\n",
       "      <td>POLYGON ((-86.75900 34.33266, -86.75889 34.333...</td>\n",
       "      <td>AL</td>\n",
       "    </tr>\n",
       "    <tr>\n",
       "      <th>4</th>\n",
       "      <td>01</td>\n",
       "      <td>103</td>\n",
       "      <td>005600</td>\n",
       "      <td>4021</td>\n",
       "      <td>011030056004021</td>\n",
       "      <td>Block 4021</td>\n",
       "      <td>G5040</td>\n",
       "      <td>R</td>\n",
       "      <td>NaN</td>\n",
       "      <td>NaN</td>\n",
       "      <td>S</td>\n",
       "      <td>167359</td>\n",
       "      <td>0</td>\n",
       "      <td>+34.3419812</td>\n",
       "      <td>-086.7688416</td>\n",
       "      <td>POLYGON ((-86.77084 34.34073, -86.77083 34.344...</td>\n",
       "      <td>AL</td>\n",
       "    </tr>\n",
       "  </tbody>\n",
       "</table>\n",
       "</div>"
      ],
      "text/plain": [
       "  STATEFP10 COUNTYFP10 TRACTCE10 BLOCKCE10          GEOID10      NAME10  \\\n",
       "0        01        103    005200      4027  011030052004027  Block 4027   \n",
       "1        01        103    005301      3058  011030053013058  Block 3058   \n",
       "2        01        103    000100      1145  011030001001145  Block 1145   \n",
       "3        01        103    005600      4027  011030056004027  Block 4027   \n",
       "4        01        103    005600      4021  011030056004021  Block 4021   \n",
       "\n",
       "  MTFCC10 UR10 UACE10 UATYPE FUNCSTAT10  ALAND10  AWATER10   INTPTLAT10  \\\n",
       "0   G5040    R    NaN    NaN          S  1580188      5375  +34.3683598   \n",
       "1   G5040    R    NaN    NaN          S    84280         0  +34.5020451   \n",
       "2   G5040    U  22690      U          S    10395         0  +34.5894230   \n",
       "3   G5040    R    NaN    NaN          S     3545         0  +34.3326702   \n",
       "4   G5040    R    NaN    NaN          S   167359         0  +34.3419812   \n",
       "\n",
       "     INTPTLON10                                           geometry state  \n",
       "0  -087.0459147  POLYGON ((-87.06277 34.36357, -87.06268 34.363...    AL  \n",
       "1  -086.9271519  POLYGON ((-86.92914 34.50124, -86.92912 34.502...    AL  \n",
       "2  -086.9549271  POLYGON ((-86.95598 34.58955, -86.95598 34.589...    AL  \n",
       "3  -086.7586892  POLYGON ((-86.75900 34.33266, -86.75889 34.333...    AL  \n",
       "4  -086.7688416  POLYGON ((-86.77084 34.34073, -86.77083 34.344...    AL  "
      ]
     },
     "execution_count": 22,
     "metadata": {},
     "output_type": "execute_result"
    }
   ],
   "source": [
    "bl_sf0 = pd.concat(bl)\n",
    "bl_sf0.head()"
   ]
  },
  {
   "cell_type": "code",
   "execution_count": 23,
   "metadata": {},
   "outputs": [],
   "source": [
    "bl_sf = bl_sf0[[\"state\", \"GEOID10\", \"ALAND10\", \"geometry\"]]"
   ]
  },
  {
   "cell_type": "code",
   "execution_count": 24,
   "metadata": {
    "scrolled": true
   },
   "outputs": [
    {
     "data": {
      "text/html": [
       "<div>\n",
       "<style scoped>\n",
       "    .dataframe tbody tr th:only-of-type {\n",
       "        vertical-align: middle;\n",
       "    }\n",
       "\n",
       "    .dataframe tbody tr th {\n",
       "        vertical-align: top;\n",
       "    }\n",
       "\n",
       "    .dataframe thead th {\n",
       "        text-align: right;\n",
       "    }\n",
       "</style>\n",
       "<table border=\"1\" class=\"dataframe\">\n",
       "  <thead>\n",
       "    <tr style=\"text-align: right;\">\n",
       "      <th></th>\n",
       "      <th>state</th>\n",
       "      <th>GEOID10</th>\n",
       "      <th>ALAND10</th>\n",
       "      <th>geometry</th>\n",
       "    </tr>\n",
       "  </thead>\n",
       "  <tbody>\n",
       "    <tr>\n",
       "      <th>0</th>\n",
       "      <td>AL</td>\n",
       "      <td>011030052004027</td>\n",
       "      <td>1580188</td>\n",
       "      <td>POLYGON ((-87.06277 34.36357, -87.06268 34.363...</td>\n",
       "    </tr>\n",
       "    <tr>\n",
       "      <th>1</th>\n",
       "      <td>AL</td>\n",
       "      <td>011030053013058</td>\n",
       "      <td>84280</td>\n",
       "      <td>POLYGON ((-86.92914 34.50124, -86.92912 34.502...</td>\n",
       "    </tr>\n",
       "    <tr>\n",
       "      <th>2</th>\n",
       "      <td>AL</td>\n",
       "      <td>011030001001145</td>\n",
       "      <td>10395</td>\n",
       "      <td>POLYGON ((-86.95598 34.58955, -86.95598 34.589...</td>\n",
       "    </tr>\n",
       "    <tr>\n",
       "      <th>3</th>\n",
       "      <td>AL</td>\n",
       "      <td>011030056004027</td>\n",
       "      <td>3545</td>\n",
       "      <td>POLYGON ((-86.75900 34.33266, -86.75889 34.333...</td>\n",
       "    </tr>\n",
       "    <tr>\n",
       "      <th>4</th>\n",
       "      <td>AL</td>\n",
       "      <td>011030056004021</td>\n",
       "      <td>167359</td>\n",
       "      <td>POLYGON ((-86.77084 34.34073, -86.77083 34.344...</td>\n",
       "    </tr>\n",
       "  </tbody>\n",
       "</table>\n",
       "</div>"
      ],
      "text/plain": [
       "  state          GEOID10  ALAND10  \\\n",
       "0    AL  011030052004027  1580188   \n",
       "1    AL  011030053013058    84280   \n",
       "2    AL  011030001001145    10395   \n",
       "3    AL  011030056004027     3545   \n",
       "4    AL  011030056004021   167359   \n",
       "\n",
       "                                            geometry  \n",
       "0  POLYGON ((-87.06277 34.36357, -87.06268 34.363...  \n",
       "1  POLYGON ((-86.92914 34.50124, -86.92912 34.502...  \n",
       "2  POLYGON ((-86.95598 34.58955, -86.95598 34.589...  \n",
       "3  POLYGON ((-86.75900 34.33266, -86.75889 34.333...  \n",
       "4  POLYGON ((-86.77084 34.34073, -86.77083 34.344...  "
      ]
     },
     "execution_count": 24,
     "metadata": {},
     "output_type": "execute_result"
    }
   ],
   "source": [
    "bl_sf.head()"
   ]
  },
  {
   "cell_type": "code",
   "execution_count": 25,
   "metadata": {},
   "outputs": [
    {
     "data": {
      "text/plain": [
       "array(['AL', 'AK', 'AZ', 'AR', 'CA', 'CO', 'CT', 'DE', 'FL', 'GA', 'HI',\n",
       "       'ID', 'IL', 'IN', 'IA', 'KS', 'KY', 'LA', 'ME', 'MD', 'MA', 'MI',\n",
       "       'MN', 'MS', 'MO', 'MT', 'NE', 'NV', 'NH', 'NJ', 'NM', 'NY', 'NC',\n",
       "       'ND', 'OH', 'OK', 'OR', 'PA', 'RI', 'SC', 'SD', 'TN', 'TX', 'UT',\n",
       "       'VT', 'VA', 'WA', 'WV', 'WI', 'WY'], dtype=object)"
      ]
     },
     "execution_count": 25,
     "metadata": {},
     "output_type": "execute_result"
    }
   ],
   "source": [
    "bl_sf.state.unique()"
   ]
  },
  {
   "cell_type": "code",
   "execution_count": 26,
   "metadata": {},
   "outputs": [
    {
     "data": {
      "text/plain": [
       "50"
      ]
     },
     "execution_count": 26,
     "metadata": {},
     "output_type": "execute_result"
    }
   ],
   "source": [
    "bl_sf.state.nunique()"
   ]
  },
  {
   "cell_type": "code",
   "execution_count": 29,
   "metadata": {},
   "outputs": [],
   "source": [
    "bl_sanfran = bl_sf.loc[bl_sf.GEOID10.str.contains('^06075'), :]"
   ]
  },
  {
   "cell_type": "code",
   "execution_count": 30,
   "metadata": {},
   "outputs": [
    {
     "data": {
      "text/plain": [
       "<AxesSubplot:>"
      ]
     },
     "execution_count": 30,
     "metadata": {},
     "output_type": "execute_result"
    },
    {
     "data": {
      "image/png": "[encoded data removed]",
      "text/plain": [
       "<Figure size 432x288 with 1 Axes>"
      ]
     },
     "metadata": {
      "needs_background": "light"
     },
     "output_type": "display_data"
    }
   ],
   "source": [
    "bl_sanfran.plot()"
   ]
  },
  {
   "cell_type": "markdown",
   "metadata": {},
   "source": [
    "### Join LEHD data and shapefile"
   ]
  },
  {
   "cell_type": "code",
   "execution_count": 31,
   "metadata": {},
   "outputs": [
    {
     "data": {
      "text/plain": [
       "state        object\n",
       "w_geocode    object\n",
       "C000          int64\n",
       "dtype: object"
      ]
     },
     "execution_count": 31,
     "metadata": {},
     "output_type": "execute_result"
    }
   ],
   "source": [
    "df.dtypes"
   ]
  },
  {
   "cell_type": "code",
   "execution_count": 32,
   "metadata": {},
   "outputs": [
    {
     "data": {
      "text/plain": [
       "state         object\n",
       "GEOID10       object\n",
       "ALAND10        int64\n",
       "geometry    geometry\n",
       "dtype: object"
      ]
     },
     "execution_count": 32,
     "metadata": {},
     "output_type": "execute_result"
    }
   ],
   "source": [
    "bl_sf.dtypes"
   ]
  },
  {
   "cell_type": "code",
   "execution_count": 33,
   "metadata": {},
   "outputs": [
    {
     "data": {
      "text/html": [
       "<div>\n",
       "<style scoped>\n",
       "    .dataframe tbody tr th:only-of-type {\n",
       "        vertical-align: middle;\n",
       "    }\n",
       "\n",
       "    .dataframe tbody tr th {\n",
       "        vertical-align: top;\n",
       "    }\n",
       "\n",
       "    .dataframe thead th {\n",
       "        text-align: right;\n",
       "    }\n",
       "</style>\n",
       "<table border=\"1\" class=\"dataframe\">\n",
       "  <thead>\n",
       "    <tr style=\"text-align: right;\">\n",
       "      <th></th>\n",
       "      <th>state</th>\n",
       "      <th>w_geocode</th>\n",
       "      <th>C000</th>\n",
       "    </tr>\n",
       "  </thead>\n",
       "  <tbody>\n",
       "    <tr>\n",
       "      <th>0</th>\n",
       "      <td>AL</td>\n",
       "      <td>010010201001000</td>\n",
       "      <td>2</td>\n",
       "    </tr>\n",
       "    <tr>\n",
       "      <th>1</th>\n",
       "      <td>AL</td>\n",
       "      <td>010010201001001</td>\n",
       "      <td>2</td>\n",
       "    </tr>\n",
       "    <tr>\n",
       "      <th>2</th>\n",
       "      <td>AL</td>\n",
       "      <td>010010201001002</td>\n",
       "      <td>1</td>\n",
       "    </tr>\n",
       "    <tr>\n",
       "      <th>3</th>\n",
       "      <td>AL</td>\n",
       "      <td>010010201001012</td>\n",
       "      <td>28</td>\n",
       "    </tr>\n",
       "    <tr>\n",
       "      <th>4</th>\n",
       "      <td>AL</td>\n",
       "      <td>010010201001019</td>\n",
       "      <td>15</td>\n",
       "    </tr>\n",
       "  </tbody>\n",
       "</table>\n",
       "</div>"
      ],
      "text/plain": [
       "  state        w_geocode  C000\n",
       "0    AL  010010201001000     2\n",
       "1    AL  010010201001001     2\n",
       "2    AL  010010201001002     1\n",
       "3    AL  010010201001012    28\n",
       "4    AL  010010201001019    15"
      ]
     },
     "execution_count": 33,
     "metadata": {},
     "output_type": "execute_result"
    }
   ],
   "source": [
    "df.head()"
   ]
  },
  {
   "cell_type": "code",
   "execution_count": 34,
   "metadata": {
    "scrolled": false
   },
   "outputs": [
    {
     "data": {
      "text/html": [
       "<div>\n",
       "<style scoped>\n",
       "    .dataframe tbody tr th:only-of-type {\n",
       "        vertical-align: middle;\n",
       "    }\n",
       "\n",
       "    .dataframe tbody tr th {\n",
       "        vertical-align: top;\n",
       "    }\n",
       "\n",
       "    .dataframe thead th {\n",
       "        text-align: right;\n",
       "    }\n",
       "</style>\n",
       "<table border=\"1\" class=\"dataframe\">\n",
       "  <thead>\n",
       "    <tr style=\"text-align: right;\">\n",
       "      <th></th>\n",
       "      <th>state</th>\n",
       "      <th>GEOID10</th>\n",
       "      <th>ALAND10</th>\n",
       "      <th>geometry</th>\n",
       "    </tr>\n",
       "  </thead>\n",
       "  <tbody>\n",
       "    <tr>\n",
       "      <th>0</th>\n",
       "      <td>AL</td>\n",
       "      <td>011030052004027</td>\n",
       "      <td>1580188</td>\n",
       "      <td>POLYGON ((-87.06277 34.36357, -87.06268 34.363...</td>\n",
       "    </tr>\n",
       "    <tr>\n",
       "      <th>1</th>\n",
       "      <td>AL</td>\n",
       "      <td>011030053013058</td>\n",
       "      <td>84280</td>\n",
       "      <td>POLYGON ((-86.92914 34.50124, -86.92912 34.502...</td>\n",
       "    </tr>\n",
       "    <tr>\n",
       "      <th>2</th>\n",
       "      <td>AL</td>\n",
       "      <td>011030001001145</td>\n",
       "      <td>10395</td>\n",
       "      <td>POLYGON ((-86.95598 34.58955, -86.95598 34.589...</td>\n",
       "    </tr>\n",
       "    <tr>\n",
       "      <th>3</th>\n",
       "      <td>AL</td>\n",
       "      <td>011030056004027</td>\n",
       "      <td>3545</td>\n",
       "      <td>POLYGON ((-86.75900 34.33266, -86.75889 34.333...</td>\n",
       "    </tr>\n",
       "    <tr>\n",
       "      <th>4</th>\n",
       "      <td>AL</td>\n",
       "      <td>011030056004021</td>\n",
       "      <td>167359</td>\n",
       "      <td>POLYGON ((-86.77084 34.34073, -86.77083 34.344...</td>\n",
       "    </tr>\n",
       "  </tbody>\n",
       "</table>\n",
       "</div>"
      ],
      "text/plain": [
       "  state          GEOID10  ALAND10  \\\n",
       "0    AL  011030052004027  1580188   \n",
       "1    AL  011030053013058    84280   \n",
       "2    AL  011030001001145    10395   \n",
       "3    AL  011030056004027     3545   \n",
       "4    AL  011030056004021   167359   \n",
       "\n",
       "                                            geometry  \n",
       "0  POLYGON ((-87.06277 34.36357, -87.06268 34.363...  \n",
       "1  POLYGON ((-86.92914 34.50124, -86.92912 34.502...  \n",
       "2  POLYGON ((-86.95598 34.58955, -86.95598 34.589...  \n",
       "3  POLYGON ((-86.75900 34.33266, -86.75889 34.333...  \n",
       "4  POLYGON ((-86.77084 34.34073, -86.77083 34.344...  "
      ]
     },
     "execution_count": 34,
     "metadata": {},
     "output_type": "execute_result"
    }
   ],
   "source": [
    "bl_sf.head()"
   ]
  },
  {
   "cell_type": "code",
   "execution_count": 35,
   "metadata": {},
   "outputs": [
    {
     "data": {
      "text/plain": [
       "2294854"
      ]
     },
     "execution_count": 35,
     "metadata": {},
     "output_type": "execute_result"
    }
   ],
   "source": [
    "df.shape[0]"
   ]
  },
  {
   "cell_type": "code",
   "execution_count": 36,
   "metadata": {},
   "outputs": [
    {
     "data": {
      "text/plain": [
       "11071790"
      ]
     },
     "execution_count": 36,
     "metadata": {},
     "output_type": "execute_result"
    }
   ],
   "source": [
    "bl_sf.shape[0]"
   ]
  },
  {
   "cell_type": "code",
   "execution_count": 37,
   "metadata": {
    "scrolled": true
   },
   "outputs": [
    {
     "data": {
      "text/html": [
       "<div>\n",
       "<style scoped>\n",
       "    .dataframe tbody tr th:only-of-type {\n",
       "        vertical-align: middle;\n",
       "    }\n",
       "\n",
       "    .dataframe tbody tr th {\n",
       "        vertical-align: top;\n",
       "    }\n",
       "\n",
       "    .dataframe thead th {\n",
       "        text-align: right;\n",
       "    }\n",
       "</style>\n",
       "<table border=\"1\" class=\"dataframe\">\n",
       "  <thead>\n",
       "    <tr style=\"text-align: right;\">\n",
       "      <th></th>\n",
       "      <th>state</th>\n",
       "      <th>w_geocode</th>\n",
       "      <th>C000</th>\n",
       "    </tr>\n",
       "  </thead>\n",
       "  <tbody>\n",
       "    <tr>\n",
       "      <th>0</th>\n",
       "      <td>AR</td>\n",
       "      <td>050350306021068</td>\n",
       "      <td>8</td>\n",
       "    </tr>\n",
       "    <tr>\n",
       "      <th>1</th>\n",
       "      <td>AR</td>\n",
       "      <td>050350306023086</td>\n",
       "      <td>5</td>\n",
       "    </tr>\n",
       "    <tr>\n",
       "      <th>2</th>\n",
       "      <td>AR</td>\n",
       "      <td>050350306023087</td>\n",
       "      <td>15</td>\n",
       "    </tr>\n",
       "  </tbody>\n",
       "</table>\n",
       "</div>"
      ],
      "text/plain": [
       "  state        w_geocode  C000\n",
       "0    AR  050350306021068     8\n",
       "1    AR  050350306023086     5\n",
       "2    AR  050350306023087    15"
      ]
     },
     "execution_count": 37,
     "metadata": {},
     "output_type": "execute_result"
    }
   ],
   "source": [
    "df[df['state'] == 'AR']"
   ]
  },
  {
   "cell_type": "code",
   "execution_count": 38,
   "metadata": {
    "scrolled": true
   },
   "outputs": [
    {
     "data": {
      "text/html": [
       "<div>\n",
       "<style scoped>\n",
       "    .dataframe tbody tr th:only-of-type {\n",
       "        vertical-align: middle;\n",
       "    }\n",
       "\n",
       "    .dataframe tbody tr th {\n",
       "        vertical-align: top;\n",
       "    }\n",
       "\n",
       "    .dataframe thead th {\n",
       "        text-align: right;\n",
       "    }\n",
       "</style>\n",
       "<table border=\"1\" class=\"dataframe\">\n",
       "  <thead>\n",
       "    <tr style=\"text-align: right;\">\n",
       "      <th></th>\n",
       "      <th>state</th>\n",
       "      <th>GEOID10</th>\n",
       "      <th>ALAND10</th>\n",
       "      <th>geometry</th>\n",
       "    </tr>\n",
       "  </thead>\n",
       "  <tbody>\n",
       "    <tr>\n",
       "      <th>0</th>\n",
       "      <td>AR</td>\n",
       "      <td>051414602001075</td>\n",
       "      <td>37731</td>\n",
       "      <td>POLYGON ((-92.61490 35.52670, -92.61475 35.526...</td>\n",
       "    </tr>\n",
       "    <tr>\n",
       "      <th>1</th>\n",
       "      <td>AR</td>\n",
       "      <td>051414602001074</td>\n",
       "      <td>113590</td>\n",
       "      <td>POLYGON ((-92.61574 35.52644, -92.61570 35.526...</td>\n",
       "    </tr>\n",
       "    <tr>\n",
       "      <th>2</th>\n",
       "      <td>AR</td>\n",
       "      <td>051414602003057</td>\n",
       "      <td>156088</td>\n",
       "      <td>POLYGON ((-92.52093 35.51300, -92.52090 35.513...</td>\n",
       "    </tr>\n",
       "    <tr>\n",
       "      <th>3</th>\n",
       "      <td>AR</td>\n",
       "      <td>051414602003053</td>\n",
       "      <td>35937</td>\n",
       "      <td>POLYGON ((-92.54190 35.51783, -92.54126 35.517...</td>\n",
       "    </tr>\n",
       "    <tr>\n",
       "      <th>4</th>\n",
       "      <td>AR</td>\n",
       "      <td>051414602003071</td>\n",
       "      <td>90045</td>\n",
       "      <td>POLYGON ((-92.52104 35.50903, -92.52104 35.509...</td>\n",
       "    </tr>\n",
       "  </tbody>\n",
       "</table>\n",
       "</div>"
      ],
      "text/plain": [
       "  state          GEOID10  ALAND10  \\\n",
       "0    AR  051414602001075    37731   \n",
       "1    AR  051414602001074   113590   \n",
       "2    AR  051414602003057   156088   \n",
       "3    AR  051414602003053    35937   \n",
       "4    AR  051414602003071    90045   \n",
       "\n",
       "                                            geometry  \n",
       "0  POLYGON ((-92.61490 35.52670, -92.61475 35.526...  \n",
       "1  POLYGON ((-92.61574 35.52644, -92.61570 35.526...  \n",
       "2  POLYGON ((-92.52093 35.51300, -92.52090 35.513...  \n",
       "3  POLYGON ((-92.54190 35.51783, -92.54126 35.517...  \n",
       "4  POLYGON ((-92.52104 35.50903, -92.52104 35.509...  "
      ]
     },
     "execution_count": 38,
     "metadata": {},
     "output_type": "execute_result"
    }
   ],
   "source": [
    "bl_sf[bl_sf['state'] == 'AR'].head()"
   ]
  },
  {
   "cell_type": "code",
   "execution_count": 43,
   "metadata": {},
   "outputs": [
    {
     "data": {
      "text/plain": [
       "state         object\n",
       "GEOID10       object\n",
       "ALAND10        int64\n",
       "geometry    geometry\n",
       "dtype: object"
      ]
     },
     "execution_count": 43,
     "metadata": {},
     "output_type": "execute_result"
    }
   ],
   "source": [
    "bl_sf.dtypes"
   ]
  },
  {
   "cell_type": "code",
   "execution_count": 44,
   "metadata": {},
   "outputs": [
    {
     "data": {
      "text/plain": [
       "state        object\n",
       "w_geocode    object\n",
       "C000          int64\n",
       "dtype: object"
      ]
     },
     "execution_count": 44,
     "metadata": {},
     "output_type": "execute_result"
    }
   ],
   "source": [
    "df.dtypes"
   ]
  },
  {
   "cell_type": "code",
   "execution_count": 39,
   "metadata": {},
   "outputs": [],
   "source": [
    "final_df = bl_sf.merge(df, how = 'left', left_on = ['state', 'GEOID10'], right_on = ['state', 'w_geocode']).drop(columns = ['w_geocode']).rename(columns={\"C000\": \"total_jobs\", \"ALAND10\": \"land_area\", \"GEOID10\": \"block\"})"
   ]
  },
  {
   "cell_type": "code",
   "execution_count": 40,
   "metadata": {},
   "outputs": [
    {
     "data": {
      "text/plain": [
       "11071790"
      ]
     },
     "execution_count": 40,
     "metadata": {},
     "output_type": "execute_result"
    }
   ],
   "source": [
    "final_df.shape[0]"
   ]
  },
  {
   "cell_type": "code",
   "execution_count": 41,
   "metadata": {
    "scrolled": true
   },
   "outputs": [
    {
     "data": {
      "text/html": [
       "<div>\n",
       "<style scoped>\n",
       "    .dataframe tbody tr th:only-of-type {\n",
       "        vertical-align: middle;\n",
       "    }\n",
       "\n",
       "    .dataframe tbody tr th {\n",
       "        vertical-align: top;\n",
       "    }\n",
       "\n",
       "    .dataframe thead th {\n",
       "        text-align: right;\n",
       "    }\n",
       "</style>\n",
       "<table border=\"1\" class=\"dataframe\">\n",
       "  <thead>\n",
       "    <tr style=\"text-align: right;\">\n",
       "      <th></th>\n",
       "      <th>state</th>\n",
       "      <th>block</th>\n",
       "      <th>land_area</th>\n",
       "      <th>geometry</th>\n",
       "      <th>total_jobs</th>\n",
       "    </tr>\n",
       "  </thead>\n",
       "  <tbody>\n",
       "    <tr>\n",
       "      <th>0</th>\n",
       "      <td>AL</td>\n",
       "      <td>011030052004027</td>\n",
       "      <td>1580188</td>\n",
       "      <td>POLYGON ((-87.06277 34.36357, -87.06268 34.363...</td>\n",
       "      <td>NaN</td>\n",
       "    </tr>\n",
       "    <tr>\n",
       "      <th>1</th>\n",
       "      <td>AL</td>\n",
       "      <td>011030053013058</td>\n",
       "      <td>84280</td>\n",
       "      <td>POLYGON ((-86.92914 34.50124, -86.92912 34.502...</td>\n",
       "      <td>NaN</td>\n",
       "    </tr>\n",
       "    <tr>\n",
       "      <th>2</th>\n",
       "      <td>AL</td>\n",
       "      <td>011030001001145</td>\n",
       "      <td>10395</td>\n",
       "      <td>POLYGON ((-86.95598 34.58955, -86.95598 34.589...</td>\n",
       "      <td>NaN</td>\n",
       "    </tr>\n",
       "    <tr>\n",
       "      <th>3</th>\n",
       "      <td>AL</td>\n",
       "      <td>011030056004027</td>\n",
       "      <td>3545</td>\n",
       "      <td>POLYGON ((-86.75900 34.33266, -86.75889 34.333...</td>\n",
       "      <td>NaN</td>\n",
       "    </tr>\n",
       "    <tr>\n",
       "      <th>4</th>\n",
       "      <td>AL</td>\n",
       "      <td>011030056004021</td>\n",
       "      <td>167359</td>\n",
       "      <td>POLYGON ((-86.77084 34.34073, -86.77083 34.344...</td>\n",
       "      <td>NaN</td>\n",
       "    </tr>\n",
       "  </tbody>\n",
       "</table>\n",
       "</div>"
      ],
      "text/plain": [
       "  state            block  land_area  \\\n",
       "0    AL  011030052004027    1580188   \n",
       "1    AL  011030053013058      84280   \n",
       "2    AL  011030001001145      10395   \n",
       "3    AL  011030056004027       3545   \n",
       "4    AL  011030056004021     167359   \n",
       "\n",
       "                                            geometry  total_jobs  \n",
       "0  POLYGON ((-87.06277 34.36357, -87.06268 34.363...         NaN  \n",
       "1  POLYGON ((-86.92914 34.50124, -86.92912 34.502...         NaN  \n",
       "2  POLYGON ((-86.95598 34.58955, -86.95598 34.589...         NaN  \n",
       "3  POLYGON ((-86.75900 34.33266, -86.75889 34.333...         NaN  \n",
       "4  POLYGON ((-86.77084 34.34073, -86.77083 34.344...         NaN  "
      ]
     },
     "execution_count": 41,
     "metadata": {},
     "output_type": "execute_result"
    }
   ],
   "source": [
    "final_df.head()"
   ]
  },
  {
   "cell_type": "code",
   "execution_count": 46,
   "metadata": {},
   "outputs": [
    {
     "data": {
      "text/html": [
       "<div>\n",
       "<style scoped>\n",
       "    .dataframe tbody tr th:only-of-type {\n",
       "        vertical-align: middle;\n",
       "    }\n",
       "\n",
       "    .dataframe tbody tr th {\n",
       "        vertical-align: top;\n",
       "    }\n",
       "\n",
       "    .dataframe thead th {\n",
       "        text-align: right;\n",
       "    }\n",
       "</style>\n",
       "<table border=\"1\" class=\"dataframe\">\n",
       "  <thead>\n",
       "    <tr style=\"text-align: right;\">\n",
       "      <th></th>\n",
       "      <th>state</th>\n",
       "      <th>block</th>\n",
       "      <th>land_area</th>\n",
       "      <th>geometry</th>\n",
       "      <th>total_jobs</th>\n",
       "    </tr>\n",
       "  </thead>\n",
       "  <tbody>\n",
       "    <tr>\n",
       "      <th>10</th>\n",
       "      <td>AL</td>\n",
       "      <td>011030057011016</td>\n",
       "      <td>7019105</td>\n",
       "      <td>POLYGON ((-86.62089 34.46920, -86.62047 34.469...</td>\n",
       "      <td>5.0</td>\n",
       "    </tr>\n",
       "    <tr>\n",
       "      <th>13</th>\n",
       "      <td>AL</td>\n",
       "      <td>011030054042005</td>\n",
       "      <td>890</td>\n",
       "      <td>POLYGON ((-86.83664 34.50346, -86.83632 34.503...</td>\n",
       "      <td>37.0</td>\n",
       "    </tr>\n",
       "    <tr>\n",
       "      <th>18</th>\n",
       "      <td>AL</td>\n",
       "      <td>011030054051060</td>\n",
       "      <td>76853</td>\n",
       "      <td>POLYGON ((-86.79024 34.46917, -86.78983 34.469...</td>\n",
       "      <td>3.0</td>\n",
       "    </tr>\n",
       "    <tr>\n",
       "      <th>20</th>\n",
       "      <td>AL</td>\n",
       "      <td>011030054053072</td>\n",
       "      <td>7807668</td>\n",
       "      <td>POLYGON ((-86.81578 34.41246, -86.81578 34.412...</td>\n",
       "      <td>21.0</td>\n",
       "    </tr>\n",
       "    <tr>\n",
       "      <th>23</th>\n",
       "      <td>AL</td>\n",
       "      <td>011030053032014</td>\n",
       "      <td>1962</td>\n",
       "      <td>POLYGON ((-86.94244 34.44262, -86.94222 34.442...</td>\n",
       "      <td>360.0</td>\n",
       "    </tr>\n",
       "  </tbody>\n",
       "</table>\n",
       "</div>"
      ],
      "text/plain": [
       "   state            block  land_area  \\\n",
       "10    AL  011030057011016    7019105   \n",
       "13    AL  011030054042005        890   \n",
       "18    AL  011030054051060      76853   \n",
       "20    AL  011030054053072    7807668   \n",
       "23    AL  011030053032014       1962   \n",
       "\n",
       "                                             geometry  total_jobs  \n",
       "10  POLYGON ((-86.62089 34.46920, -86.62047 34.469...         5.0  \n",
       "13  POLYGON ((-86.83664 34.50346, -86.83632 34.503...        37.0  \n",
       "18  POLYGON ((-86.79024 34.46917, -86.78983 34.469...         3.0  \n",
       "20  POLYGON ((-86.81578 34.41246, -86.81578 34.412...        21.0  \n",
       "23  POLYGON ((-86.94244 34.44262, -86.94222 34.442...       360.0  "
      ]
     },
     "execution_count": 46,
     "metadata": {},
     "output_type": "execute_result"
    }
   ],
   "source": [
    "final_df[final_df['total_jobs'].notnull()].head()"
   ]
  },
  {
   "cell_type": "code",
   "execution_count": 48,
   "metadata": {},
   "outputs": [
    {
     "data": {
      "text/plain": [
       "0.857610919282248"
      ]
     },
     "execution_count": 48,
     "metadata": {},
     "output_type": "execute_result"
    }
   ],
   "source": [
    "final_df.total_jobs.isnull().mean()"
   ]
  },
  {
   "cell_type": "code",
   "execution_count": 49,
   "metadata": {
    "scrolled": true
   },
   "outputs": [
    {
     "data": {
      "text/plain": [
       "50"
      ]
     },
     "execution_count": 49,
     "metadata": {},
     "output_type": "execute_result"
    }
   ],
   "source": [
    "final_df.state.nunique()"
   ]
  },
  {
   "cell_type": "code",
   "execution_count": 50,
   "metadata": {},
   "outputs": [
    {
     "data": {
      "text/plain": [
       "[]"
      ]
     },
     "execution_count": 50,
     "metadata": {},
     "output_type": "execute_result"
    }
   ],
   "source": [
    "df_states = df.state.unique().tolist()\n",
    "final_df_states = final_df.state.unique().tolist()\n",
    "\n",
    "list(set(df_states).difference(final_df_states))"
   ]
  },
  {
   "cell_type": "code",
   "execution_count": 51,
   "metadata": {},
   "outputs": [
    {
     "data": {
      "text/plain": [
       "geopandas.geodataframe.GeoDataFrame"
      ]
     },
     "execution_count": 51,
     "metadata": {},
     "output_type": "execute_result"
    }
   ],
   "source": [
    "type(final_df)"
   ]
  },
  {
   "cell_type": "markdown",
   "metadata": {},
   "source": [
    "### Subset to cities of interest"
   ]
  },
  {
   "cell_type": "code",
   "execution_count": 52,
   "metadata": {},
   "outputs": [],
   "source": [
    "city_list = [\n",
    "  'Albuquerque NM',\n",
    "  'Atlanta GA',\n",
    "  'Austin TX',\n",
    "  'Bakersfield CA',\n",
    "  'Baltimore MD',\n",
    "  'Boston MA',\n",
    "  'Charlotte NC',\n",
    "  'Chicago IL',\n",
    "  'Cincinnati OH',\n",
    "  'Cleveland OH',\n",
    "  'Colorado Springs CO',\n",
    "  'Columbus OH',\n",
    "  'Dallas TX',\n",
    "  'Denver CO',\n",
    "  'Detroit MI',\n",
    "  'El Paso TX',\n",
    "  'Fort Worth TX',\n",
    "  'Fresno CA',\n",
    "  'Urban Honolulu HI',\n",
    "  'Houston TX',\n",
    "  'Indianapolis city (balance) IN',\n",
    "  'Jacksonville FL',\n",
    "  'Kansas City MO',\n",
    "  'Las Vegas NV',\n",
    "  'Los Angeles CA',\n",
    "  'Louisville KY',\n",
    "  'Memphis TN',\n",
    "  'Miami FL',\n",
    "  'Milwaukee WI',\n",
    "  'Minneapolis MN',\n",
    "  'Nashville-Davidson metropolitan government (balance) TN',\n",
    "  'New Orleans LA',\n",
    "  'New York NY',\n",
    "  'Oakland CA',\n",
    "  'Oklahoma City OK',\n",
    "  'Omaha NE',\n",
    "  'Orlando FL',\n",
    "  'Philadelphia PA',\n",
    "  'Phoenix AZ',\n",
    "  'Pittsburgh PA',\n",
    "  'Portland OR',\n",
    "  'Raleigh NC',\n",
    "  'Sacramento CA',\n",
    "  'Salt Lake City UT',\n",
    "  'San Antonio TX',\n",
    "  'San Diego CA',\n",
    "  'San Francisco CA',\n",
    "  'San Jose CA',\n",
    "  'Seattle WA',\n",
    "  'St. Louis MO',\n",
    "  'Tampa FL',\n",
    "  'Tucson AZ',\n",
    "  'Tulsa OK',\n",
    "  'Washington DC']"
   ]
  },
  {
   "cell_type": "code",
   "execution_count": 53,
   "metadata": {
    "scrolled": true
   },
   "outputs": [
    {
     "name": "stdout",
     "output_type": "stream",
     "text": [
      "Using the default year of 2021\n",
      "Retrieving Census-designated places for the entire United States\n"
     ]
    }
   ],
   "source": [
    "all_places = places(cb = True)"
   ]
  },
  {
   "cell_type": "code",
   "execution_count": 54,
   "metadata": {
    "scrolled": false
   },
   "outputs": [
    {
     "data": {
      "text/html": [
       "<div>\n",
       "<style scoped>\n",
       "    .dataframe tbody tr th:only-of-type {\n",
       "        vertical-align: middle;\n",
       "    }\n",
       "\n",
       "    .dataframe tbody tr th {\n",
       "        vertical-align: top;\n",
       "    }\n",
       "\n",
       "    .dataframe thead th {\n",
       "        text-align: right;\n",
       "    }\n",
       "</style>\n",
       "<table border=\"1\" class=\"dataframe\">\n",
       "  <thead>\n",
       "    <tr style=\"text-align: right;\">\n",
       "      <th></th>\n",
       "      <th>STATEFP</th>\n",
       "      <th>PLACEFP</th>\n",
       "      <th>PLACENS</th>\n",
       "      <th>AFFGEOID</th>\n",
       "      <th>GEOID</th>\n",
       "      <th>NAME</th>\n",
       "      <th>NAMELSAD</th>\n",
       "      <th>STUSPS</th>\n",
       "      <th>STATE_NAME</th>\n",
       "      <th>LSAD</th>\n",
       "      <th>ALAND</th>\n",
       "      <th>AWATER</th>\n",
       "      <th>geometry</th>\n",
       "    </tr>\n",
       "  </thead>\n",
       "  <tbody>\n",
       "    <tr>\n",
       "      <th>0</th>\n",
       "      <td>12</td>\n",
       "      <td>35000</td>\n",
       "      <td>02404783</td>\n",
       "      <td>1600000US1235000</td>\n",
       "      <td>1235000</td>\n",
       "      <td>Jacksonville</td>\n",
       "      <td>Jacksonville city</td>\n",
       "      <td>FL</td>\n",
       "      <td>Florida</td>\n",
       "      <td>25</td>\n",
       "      <td>1935492088</td>\n",
       "      <td>329347337</td>\n",
       "      <td>POLYGON ((-82.04933 30.27334, -82.04924 30.273...</td>\n",
       "    </tr>\n",
       "    <tr>\n",
       "      <th>1</th>\n",
       "      <td>01</td>\n",
       "      <td>32416</td>\n",
       "      <td>02403774</td>\n",
       "      <td>1600000US0132416</td>\n",
       "      <td>0132416</td>\n",
       "      <td>Guntersville</td>\n",
       "      <td>Guntersville city</td>\n",
       "      <td>AL</td>\n",
       "      <td>Alabama</td>\n",
       "      <td>25</td>\n",
       "      <td>66393352</td>\n",
       "      <td>44192114</td>\n",
       "      <td>MULTIPOLYGON (((-86.24300 34.36247, -86.23766 ...</td>\n",
       "    </tr>\n",
       "    <tr>\n",
       "      <th>2</th>\n",
       "      <td>01</td>\n",
       "      <td>81504</td>\n",
       "      <td>02406871</td>\n",
       "      <td>1600000US0181504</td>\n",
       "      <td>0181504</td>\n",
       "      <td>Westover</td>\n",
       "      <td>Westover town</td>\n",
       "      <td>AL</td>\n",
       "      <td>Alabama</td>\n",
       "      <td>43</td>\n",
       "      <td>51094431</td>\n",
       "      <td>382665</td>\n",
       "      <td>MULTIPOLYGON (((-86.54358 33.35226, -86.54074 ...</td>\n",
       "    </tr>\n",
       "    <tr>\n",
       "      <th>3</th>\n",
       "      <td>01</td>\n",
       "      <td>26896</td>\n",
       "      <td>02403619</td>\n",
       "      <td>1600000US0126896</td>\n",
       "      <td>0126896</td>\n",
       "      <td>Florence</td>\n",
       "      <td>Florence city</td>\n",
       "      <td>AL</td>\n",
       "      <td>Alabama</td>\n",
       "      <td>25</td>\n",
       "      <td>68681105</td>\n",
       "      <td>546506</td>\n",
       "      <td>POLYGON ((-87.72248 34.81723, -87.71904 34.821...</td>\n",
       "    </tr>\n",
       "    <tr>\n",
       "      <th>4</th>\n",
       "      <td>20</td>\n",
       "      <td>47350</td>\n",
       "      <td>00485624</td>\n",
       "      <td>1600000US2047350</td>\n",
       "      <td>2047350</td>\n",
       "      <td>Mission Hills</td>\n",
       "      <td>Mission Hills city</td>\n",
       "      <td>KS</td>\n",
       "      <td>Kansas</td>\n",
       "      <td>25</td>\n",
       "      <td>5276389</td>\n",
       "      <td>2474</td>\n",
       "      <td>POLYGON ((-94.63043 39.00964, -94.63043 39.015...</td>\n",
       "    </tr>\n",
       "  </tbody>\n",
       "</table>\n",
       "</div>"
      ],
      "text/plain": [
       "  STATEFP PLACEFP   PLACENS          AFFGEOID    GEOID           NAME  \\\n",
       "0      12   35000  02404783  1600000US1235000  1235000   Jacksonville   \n",
       "1      01   32416  02403774  1600000US0132416  0132416   Guntersville   \n",
       "2      01   81504  02406871  1600000US0181504  0181504       Westover   \n",
       "3      01   26896  02403619  1600000US0126896  0126896       Florence   \n",
       "4      20   47350  00485624  1600000US2047350  2047350  Mission Hills   \n",
       "\n",
       "             NAMELSAD STUSPS STATE_NAME LSAD       ALAND     AWATER  \\\n",
       "0   Jacksonville city     FL    Florida   25  1935492088  329347337   \n",
       "1   Guntersville city     AL    Alabama   25    66393352   44192114   \n",
       "2       Westover town     AL    Alabama   43    51094431     382665   \n",
       "3       Florence city     AL    Alabama   25    68681105     546506   \n",
       "4  Mission Hills city     KS     Kansas   25     5276389       2474   \n",
       "\n",
       "                                            geometry  \n",
       "0  POLYGON ((-82.04933 30.27334, -82.04924 30.273...  \n",
       "1  MULTIPOLYGON (((-86.24300 34.36247, -86.23766 ...  \n",
       "2  MULTIPOLYGON (((-86.54358 33.35226, -86.54074 ...  \n",
       "3  POLYGON ((-87.72248 34.81723, -87.71904 34.821...  \n",
       "4  POLYGON ((-94.63043 39.00964, -94.63043 39.015...  "
      ]
     },
     "execution_count": 54,
     "metadata": {},
     "output_type": "execute_result"
    }
   ],
   "source": [
    "all_places.head()"
   ]
  },
  {
   "cell_type": "code",
   "execution_count": 55,
   "metadata": {},
   "outputs": [
    {
     "data": {
      "text/html": [
       "<div>\n",
       "<style scoped>\n",
       "    .dataframe tbody tr th:only-of-type {\n",
       "        vertical-align: middle;\n",
       "    }\n",
       "\n",
       "    .dataframe tbody tr th {\n",
       "        vertical-align: top;\n",
       "    }\n",
       "\n",
       "    .dataframe thead th {\n",
       "        text-align: right;\n",
       "    }\n",
       "</style>\n",
       "<table border=\"1\" class=\"dataframe\">\n",
       "  <thead>\n",
       "    <tr style=\"text-align: right;\">\n",
       "      <th></th>\n",
       "      <th>NAME</th>\n",
       "      <th>STUSPS</th>\n",
       "    </tr>\n",
       "  </thead>\n",
       "  <tbody>\n",
       "    <tr>\n",
       "      <th>868</th>\n",
       "      <td>Nashville</td>\n",
       "      <td>OH</td>\n",
       "    </tr>\n",
       "    <tr>\n",
       "      <th>1075</th>\n",
       "      <td>Nashville-Davidson metropolitan government (balance)</td>\n",
       "      <td>TN</td>\n",
       "    </tr>\n",
       "    <tr>\n",
       "      <th>5468</th>\n",
       "      <td>Nashville</td>\n",
       "      <td>KS</td>\n",
       "    </tr>\n",
       "    <tr>\n",
       "      <th>7767</th>\n",
       "      <td>Indianapolis city (balance)</td>\n",
       "      <td>IN</td>\n",
       "    </tr>\n",
       "    <tr>\n",
       "      <th>7907</th>\n",
       "      <td>St. Louisville</td>\n",
       "      <td>OH</td>\n",
       "    </tr>\n",
       "    <tr>\n",
       "      <th>10770</th>\n",
       "      <td>Nashville</td>\n",
       "      <td>GA</td>\n",
       "    </tr>\n",
       "    <tr>\n",
       "      <th>11519</th>\n",
       "      <td>Nashville</td>\n",
       "      <td>MI</td>\n",
       "    </tr>\n",
       "    <tr>\n",
       "      <th>11684</th>\n",
       "      <td>St. Louis</td>\n",
       "      <td>OK</td>\n",
       "    </tr>\n",
       "    <tr>\n",
       "      <th>13505</th>\n",
       "      <td>Nashville</td>\n",
       "      <td>IN</td>\n",
       "    </tr>\n",
       "    <tr>\n",
       "      <th>13872</th>\n",
       "      <td>Urban Honolulu</td>\n",
       "      <td>HI</td>\n",
       "    </tr>\n",
       "    <tr>\n",
       "      <th>14952</th>\n",
       "      <td>St. Louis</td>\n",
       "      <td>MO</td>\n",
       "    </tr>\n",
       "    <tr>\n",
       "      <th>15797</th>\n",
       "      <td>St. Louis</td>\n",
       "      <td>MI</td>\n",
       "    </tr>\n",
       "    <tr>\n",
       "      <th>16291</th>\n",
       "      <td>Nashville</td>\n",
       "      <td>AR</td>\n",
       "    </tr>\n",
       "    <tr>\n",
       "      <th>16438</th>\n",
       "      <td>East St. Louis</td>\n",
       "      <td>IL</td>\n",
       "    </tr>\n",
       "    <tr>\n",
       "      <th>16535</th>\n",
       "      <td>St. Louis Park</td>\n",
       "      <td>MN</td>\n",
       "    </tr>\n",
       "    <tr>\n",
       "      <th>17398</th>\n",
       "      <td>Bay St. Louis</td>\n",
       "      <td>MS</td>\n",
       "    </tr>\n",
       "    <tr>\n",
       "      <th>21484</th>\n",
       "      <td>Nashville</td>\n",
       "      <td>IL</td>\n",
       "    </tr>\n",
       "    <tr>\n",
       "      <th>28365</th>\n",
       "      <td>Nashville</td>\n",
       "      <td>NC</td>\n",
       "    </tr>\n",
       "    <tr>\n",
       "      <th>29095</th>\n",
       "      <td>East Honolulu</td>\n",
       "      <td>HI</td>\n",
       "    </tr>\n",
       "    <tr>\n",
       "      <th>31322</th>\n",
       "      <td>Lake St. Louis</td>\n",
       "      <td>MO</td>\n",
       "    </tr>\n",
       "  </tbody>\n",
       "</table>\n",
       "</div>"
      ],
      "text/plain": [
       "                                                       NAME STUSPS\n",
       "868                                               Nashville     OH\n",
       "1075   Nashville-Davidson metropolitan government (balance)     TN\n",
       "5468                                              Nashville     KS\n",
       "7767                            Indianapolis city (balance)     IN\n",
       "7907                                         St. Louisville     OH\n",
       "10770                                             Nashville     GA\n",
       "11519                                             Nashville     MI\n",
       "11684                                             St. Louis     OK\n",
       "13505                                             Nashville     IN\n",
       "13872                                        Urban Honolulu     HI\n",
       "14952                                             St. Louis     MO\n",
       "15797                                             St. Louis     MI\n",
       "16291                                             Nashville     AR\n",
       "16438                                        East St. Louis     IL\n",
       "16535                                        St. Louis Park     MN\n",
       "17398                                         Bay St. Louis     MS\n",
       "21484                                             Nashville     IL\n",
       "28365                                             Nashville     NC\n",
       "29095                                         East Honolulu     HI\n",
       "31322                                        Lake St. Louis     MO"
      ]
     },
     "execution_count": 55,
     "metadata": {},
     "output_type": "execute_result"
    }
   ],
   "source": [
    "pd.set_option('display.max_colwidth', None)\n",
    "all_places.loc[all_places.NAME.str.contains('Nashville|Indianapolis|Honolulu|St\\.? Louis'), :][['NAME', 'STUSPS']]"
   ]
  },
  {
   "cell_type": "code",
   "execution_count": 71,
   "metadata": {},
   "outputs": [],
   "source": [
    "all_places['city'] = all_places.apply(lambda x: '{} {}'.format(x['NAME'], x['STUSPS']), axis=1)"
   ]
  },
  {
   "cell_type": "code",
   "execution_count": 72,
   "metadata": {},
   "outputs": [
    {
     "data": {
      "text/plain": [
       "0     Jacksonville FL\n",
       "1     Guntersville AL\n",
       "2         Westover AL\n",
       "3         Florence AL\n",
       "4    Mission Hills KS\n",
       "Name: city, dtype: object"
      ]
     },
     "execution_count": 72,
     "metadata": {},
     "output_type": "execute_result"
    }
   ],
   "source": [
    "all_places.city.head()"
   ]
  },
  {
   "cell_type": "code",
   "execution_count": 73,
   "metadata": {},
   "outputs": [],
   "source": [
    "all_places_simp = all_places[['city', 'geometry']]\n",
    "the_places = all_places_simp[all_places_simp['city'].isin(city_list)]"
   ]
  },
  {
   "cell_type": "code",
   "execution_count": 74,
   "metadata": {},
   "outputs": [
    {
     "data": {
      "text/html": [
       "<div>\n",
       "<style scoped>\n",
       "    .dataframe tbody tr th:only-of-type {\n",
       "        vertical-align: middle;\n",
       "    }\n",
       "\n",
       "    .dataframe tbody tr th {\n",
       "        vertical-align: top;\n",
       "    }\n",
       "\n",
       "    .dataframe thead th {\n",
       "        text-align: right;\n",
       "    }\n",
       "</style>\n",
       "<table border=\"1\" class=\"dataframe\">\n",
       "  <thead>\n",
       "    <tr style=\"text-align: right;\">\n",
       "      <th></th>\n",
       "      <th>city</th>\n",
       "      <th>geometry</th>\n",
       "    </tr>\n",
       "  </thead>\n",
       "  <tbody>\n",
       "    <tr>\n",
       "      <th>0</th>\n",
       "      <td>Jacksonville FL</td>\n",
       "      <td>POLYGON ((-82.04933 30.27334, -82.04924 30.273...</td>\n",
       "    </tr>\n",
       "    <tr>\n",
       "      <th>120</th>\n",
       "      <td>Oklahoma City OK</td>\n",
       "      <td>POLYGON ((-97.83367 35.33536, -97.83119 35.335...</td>\n",
       "    </tr>\n",
       "    <tr>\n",
       "      <th>192</th>\n",
       "      <td>San Diego CA</td>\n",
       "      <td>MULTIPOLYGON (((-116.93264 32.64913, -116.9319...</td>\n",
       "    </tr>\n",
       "    <tr>\n",
       "      <th>567</th>\n",
       "      <td>Oakland CA</td>\n",
       "      <td>POLYGON ((-122.34225 37.80556, -122.33412 37.8...</td>\n",
       "    </tr>\n",
       "    <tr>\n",
       "      <th>761</th>\n",
       "      <td>Tucson AZ</td>\n",
       "      <td>POLYGON ((-111.05873 32.20679, -111.05446 32.2...</td>\n",
       "    </tr>\n",
       "  </tbody>\n",
       "</table>\n",
       "</div>"
      ],
      "text/plain": [
       "                 city                                           geometry\n",
       "0     Jacksonville FL  POLYGON ((-82.04933 30.27334, -82.04924 30.273...\n",
       "120  Oklahoma City OK  POLYGON ((-97.83367 35.33536, -97.83119 35.335...\n",
       "192      San Diego CA  MULTIPOLYGON (((-116.93264 32.64913, -116.9319...\n",
       "567        Oakland CA  POLYGON ((-122.34225 37.80556, -122.33412 37.8...\n",
       "761         Tucson AZ  POLYGON ((-111.05873 32.20679, -111.05446 32.2..."
      ]
     },
     "execution_count": 74,
     "metadata": {},
     "output_type": "execute_result"
    }
   ],
   "source": [
    "pd.reset_option('^display.', silent=True)\n",
    "the_places.head()"
   ]
  },
  {
   "cell_type": "code",
   "execution_count": 75,
   "metadata": {
    "scrolled": true
   },
   "outputs": [
    {
     "data": {
      "text/plain": [
       "array(['Jacksonville FL', 'Oklahoma City OK', 'San Diego CA',\n",
       "       'Oakland CA', 'Tucson AZ', 'Louisville KY',\n",
       "       'Nashville-Davidson metropolitan government (balance) TN',\n",
       "       'Memphis TN', 'Sacramento CA', 'Fort Worth TX', 'Portland OR',\n",
       "       'Chicago IL', 'Colorado Springs CO', 'Denver CO', 'New Orleans LA',\n",
       "       'Detroit MI', 'Philadelphia PA', 'Tulsa OK', 'Cleveland OH',\n",
       "       'Dallas TX', 'El Paso TX', 'Omaha NE', 'Washington DC',\n",
       "       'Bakersfield CA', 'Tampa FL', 'Milwaukee WI', 'Los Angeles CA',\n",
       "       'Seattle WA', 'Indianapolis city (balance) IN', 'Pittsburgh PA',\n",
       "       'Albuquerque NM', 'Boston MA', 'New York NY', 'Atlanta GA',\n",
       "       'San Jose CA', 'Columbus OH', 'Miami FL', 'Minneapolis MN',\n",
       "       'Salt Lake City UT', 'Orlando FL', 'Urban Honolulu HI',\n",
       "       'St. Louis MO', 'Houston TX', 'Fresno CA', 'Las Vegas NV',\n",
       "       'Cincinnati OH', 'San Francisco CA', 'San Antonio TX',\n",
       "       'Baltimore MD', 'Phoenix AZ', 'Kansas City MO', 'Charlotte NC',\n",
       "       'Austin TX', 'Raleigh NC'], dtype=object)"
      ]
     },
     "execution_count": 75,
     "metadata": {},
     "output_type": "execute_result"
    }
   ],
   "source": [
    "the_places.city.unique()"
   ]
  },
  {
   "cell_type": "code",
   "execution_count": 76,
   "metadata": {},
   "outputs": [
    {
     "data": {
      "text/plain": [
       "54"
      ]
     },
     "execution_count": 76,
     "metadata": {},
     "output_type": "execute_result"
    }
   ],
   "source": [
    "the_places.city.nunique()"
   ]
  },
  {
   "cell_type": "code",
   "execution_count": 77,
   "metadata": {},
   "outputs": [
    {
     "data": {
      "text/plain": [
       "[]"
      ]
     },
     "execution_count": 77,
     "metadata": {},
     "output_type": "execute_result"
    }
   ],
   "source": [
    "in_places = the_places.city.unique().tolist()\n",
    "\n",
    "list(set(city_list).difference(in_places))"
   ]
  },
  {
   "cell_type": "code",
   "execution_count": 78,
   "metadata": {},
   "outputs": [
    {
     "data": {
      "text/plain": [
       "True"
      ]
     },
     "execution_count": 78,
     "metadata": {},
     "output_type": "execute_result"
    }
   ],
   "source": [
    "final_df.crs == the_places.crs"
   ]
  },
  {
   "cell_type": "code",
   "execution_count": 79,
   "metadata": {},
   "outputs": [],
   "source": [
    "df_joined = gpd.sjoin(final_df, the_places, how = \"inner\").drop(columns = ['index_right'])"
   ]
  },
  {
   "cell_type": "code",
   "execution_count": 80,
   "metadata": {},
   "outputs": [
    {
     "data": {
      "text/html": [
       "<div>\n",
       "<style scoped>\n",
       "    .dataframe tbody tr th:only-of-type {\n",
       "        vertical-align: middle;\n",
       "    }\n",
       "\n",
       "    .dataframe tbody tr th {\n",
       "        vertical-align: top;\n",
       "    }\n",
       "\n",
       "    .dataframe thead th {\n",
       "        text-align: right;\n",
       "    }\n",
       "</style>\n",
       "<table border=\"1\" class=\"dataframe\">\n",
       "  <thead>\n",
       "    <tr style=\"text-align: right;\">\n",
       "      <th></th>\n",
       "      <th>state</th>\n",
       "      <th>block</th>\n",
       "      <th>land_area</th>\n",
       "      <th>geometry</th>\n",
       "      <th>total_jobs</th>\n",
       "      <th>city</th>\n",
       "    </tr>\n",
       "  </thead>\n",
       "  <tbody>\n",
       "    <tr>\n",
       "      <th>298044</th>\n",
       "      <td>AZ</td>\n",
       "      <td>040136106003016</td>\n",
       "      <td>59011</td>\n",
       "      <td>POLYGON ((-112.11816 33.79876, -112.11815 33.7...</td>\n",
       "      <td>NaN</td>\n",
       "      <td>Phoenix AZ</td>\n",
       "    </tr>\n",
       "    <tr>\n",
       "      <th>298046</th>\n",
       "      <td>AZ</td>\n",
       "      <td>040136100004003</td>\n",
       "      <td>33982</td>\n",
       "      <td>POLYGON ((-112.15895 33.87251, -112.15861 33.8...</td>\n",
       "      <td>NaN</td>\n",
       "      <td>Phoenix AZ</td>\n",
       "    </tr>\n",
       "    <tr>\n",
       "      <th>298047</th>\n",
       "      <td>AZ</td>\n",
       "      <td>040136150003003</td>\n",
       "      <td>12054</td>\n",
       "      <td>POLYGON ((-111.98321 33.67313, -111.98252 33.6...</td>\n",
       "      <td>NaN</td>\n",
       "      <td>Phoenix AZ</td>\n",
       "    </tr>\n",
       "    <tr>\n",
       "      <th>298048</th>\n",
       "      <td>AZ</td>\n",
       "      <td>040136150003005</td>\n",
       "      <td>51585</td>\n",
       "      <td>POLYGON ((-111.99561 33.67204, -111.99561 33.6...</td>\n",
       "      <td>NaN</td>\n",
       "      <td>Phoenix AZ</td>\n",
       "    </tr>\n",
       "    <tr>\n",
       "      <th>298049</th>\n",
       "      <td>AZ</td>\n",
       "      <td>040136147001056</td>\n",
       "      <td>11431</td>\n",
       "      <td>POLYGON ((-112.09312 33.67722, -112.09286 33.6...</td>\n",
       "      <td>449.0</td>\n",
       "      <td>Phoenix AZ</td>\n",
       "    </tr>\n",
       "  </tbody>\n",
       "</table>\n",
       "</div>"
      ],
      "text/plain": [
       "       state            block  land_area  \\\n",
       "298044    AZ  040136106003016      59011   \n",
       "298046    AZ  040136100004003      33982   \n",
       "298047    AZ  040136150003003      12054   \n",
       "298048    AZ  040136150003005      51585   \n",
       "298049    AZ  040136147001056      11431   \n",
       "\n",
       "                                                 geometry  total_jobs  \\\n",
       "298044  POLYGON ((-112.11816 33.79876, -112.11815 33.7...         NaN   \n",
       "298046  POLYGON ((-112.15895 33.87251, -112.15861 33.8...         NaN   \n",
       "298047  POLYGON ((-111.98321 33.67313, -111.98252 33.6...         NaN   \n",
       "298048  POLYGON ((-111.99561 33.67204, -111.99561 33.6...         NaN   \n",
       "298049  POLYGON ((-112.09312 33.67722, -112.09286 33.6...       449.0   \n",
       "\n",
       "              city  \n",
       "298044  Phoenix AZ  \n",
       "298046  Phoenix AZ  \n",
       "298047  Phoenix AZ  \n",
       "298048  Phoenix AZ  \n",
       "298049  Phoenix AZ  "
      ]
     },
     "execution_count": 80,
     "metadata": {},
     "output_type": "execute_result"
    }
   ],
   "source": [
    "df_joined.head()"
   ]
  },
  {
   "cell_type": "code",
   "execution_count": 81,
   "metadata": {},
   "outputs": [],
   "source": [
    "sf_test = df_joined[df_joined['city']=='San Francisco CA']"
   ]
  },
  {
   "cell_type": "code",
   "execution_count": 82,
   "metadata": {},
   "outputs": [
    {
     "data": {
      "text/plain": [
       "<AxesSubplot:>"
      ]
     },
     "execution_count": 82,
     "metadata": {},
     "output_type": "execute_result"
    },
    {
     "data": {
      "image/png": "[encoded data removed]",
      "text/plain": [
       "<Figure size 432x288 with 1 Axes>"
      ]
     },
     "metadata": {
      "needs_background": "light"
     },
     "output_type": "display_data"
    }
   ],
   "source": [
    "sf_test.plot()"
   ]
  },
  {
   "cell_type": "code",
   "execution_count": 83,
   "metadata": {},
   "outputs": [],
   "source": [
    "sf_test2 = final_df.loc[final_df.block.str.contains('^06075'), :]"
   ]
  },
  {
   "cell_type": "code",
   "execution_count": 84,
   "metadata": {},
   "outputs": [
    {
     "data": {
      "text/plain": [
       "<AxesSubplot:>"
      ]
     },
     "execution_count": 84,
     "metadata": {},
     "output_type": "execute_result"
    },
    {
     "data": {
      "image/png": "[encoded data removed]",
      "text/plain": [
       "<Figure size 432x288 with 1 Axes>"
      ]
     },
     "metadata": {
      "needs_background": "light"
     },
     "output_type": "display_data"
    }
   ],
   "source": [
    "sf_test2.plot()"
   ]
  },
  {
   "cell_type": "code",
   "execution_count": 85,
   "metadata": {},
   "outputs": [],
   "source": [
    "df_joined['jobs_per_sq_meter'] = df_joined['total_jobs']/df_joined['land_area']"
   ]
  },
  {
   "cell_type": "code",
   "execution_count": 86,
   "metadata": {
    "scrolled": true
   },
   "outputs": [
    {
     "data": {
      "text/html": [
       "<div>\n",
       "<style scoped>\n",
       "    .dataframe tbody tr th:only-of-type {\n",
       "        vertical-align: middle;\n",
       "    }\n",
       "\n",
       "    .dataframe tbody tr th {\n",
       "        vertical-align: top;\n",
       "    }\n",
       "\n",
       "    .dataframe thead th {\n",
       "        text-align: right;\n",
       "    }\n",
       "</style>\n",
       "<table border=\"1\" class=\"dataframe\">\n",
       "  <thead>\n",
       "    <tr style=\"text-align: right;\">\n",
       "      <th></th>\n",
       "      <th>state</th>\n",
       "      <th>block</th>\n",
       "      <th>land_area</th>\n",
       "      <th>geometry</th>\n",
       "      <th>total_jobs</th>\n",
       "      <th>city</th>\n",
       "      <th>jobs_per_sq_meter</th>\n",
       "    </tr>\n",
       "  </thead>\n",
       "  <tbody>\n",
       "    <tr>\n",
       "      <th>298044</th>\n",
       "      <td>AZ</td>\n",
       "      <td>040136106003016</td>\n",
       "      <td>59011</td>\n",
       "      <td>POLYGON ((-112.11816 33.79876, -112.11815 33.7...</td>\n",
       "      <td>NaN</td>\n",
       "      <td>Phoenix AZ</td>\n",
       "      <td>NaN</td>\n",
       "    </tr>\n",
       "    <tr>\n",
       "      <th>298046</th>\n",
       "      <td>AZ</td>\n",
       "      <td>040136100004003</td>\n",
       "      <td>33982</td>\n",
       "      <td>POLYGON ((-112.15895 33.87251, -112.15861 33.8...</td>\n",
       "      <td>NaN</td>\n",
       "      <td>Phoenix AZ</td>\n",
       "      <td>NaN</td>\n",
       "    </tr>\n",
       "    <tr>\n",
       "      <th>298047</th>\n",
       "      <td>AZ</td>\n",
       "      <td>040136150003003</td>\n",
       "      <td>12054</td>\n",
       "      <td>POLYGON ((-111.98321 33.67313, -111.98252 33.6...</td>\n",
       "      <td>NaN</td>\n",
       "      <td>Phoenix AZ</td>\n",
       "      <td>NaN</td>\n",
       "    </tr>\n",
       "    <tr>\n",
       "      <th>298048</th>\n",
       "      <td>AZ</td>\n",
       "      <td>040136150003005</td>\n",
       "      <td>51585</td>\n",
       "      <td>POLYGON ((-111.99561 33.67204, -111.99561 33.6...</td>\n",
       "      <td>NaN</td>\n",
       "      <td>Phoenix AZ</td>\n",
       "      <td>NaN</td>\n",
       "    </tr>\n",
       "    <tr>\n",
       "      <th>298049</th>\n",
       "      <td>AZ</td>\n",
       "      <td>040136147001056</td>\n",
       "      <td>11431</td>\n",
       "      <td>POLYGON ((-112.09312 33.67722, -112.09286 33.6...</td>\n",
       "      <td>449.0</td>\n",
       "      <td>Phoenix AZ</td>\n",
       "      <td>0.039279</td>\n",
       "    </tr>\n",
       "  </tbody>\n",
       "</table>\n",
       "</div>"
      ],
      "text/plain": [
       "       state            block  land_area  \\\n",
       "298044    AZ  040136106003016      59011   \n",
       "298046    AZ  040136100004003      33982   \n",
       "298047    AZ  040136150003003      12054   \n",
       "298048    AZ  040136150003005      51585   \n",
       "298049    AZ  040136147001056      11431   \n",
       "\n",
       "                                                 geometry  total_jobs  \\\n",
       "298044  POLYGON ((-112.11816 33.79876, -112.11815 33.7...         NaN   \n",
       "298046  POLYGON ((-112.15895 33.87251, -112.15861 33.8...         NaN   \n",
       "298047  POLYGON ((-111.98321 33.67313, -111.98252 33.6...         NaN   \n",
       "298048  POLYGON ((-111.99561 33.67204, -111.99561 33.6...         NaN   \n",
       "298049  POLYGON ((-112.09312 33.67722, -112.09286 33.6...       449.0   \n",
       "\n",
       "              city  jobs_per_sq_meter  \n",
       "298044  Phoenix AZ                NaN  \n",
       "298046  Phoenix AZ                NaN  \n",
       "298047  Phoenix AZ                NaN  \n",
       "298048  Phoenix AZ                NaN  \n",
       "298049  Phoenix AZ           0.039279  "
      ]
     },
     "execution_count": 86,
     "metadata": {},
     "output_type": "execute_result"
    }
   ],
   "source": [
    "df_joined.head()"
   ]
  },
  {
   "cell_type": "code",
   "execution_count": 87,
   "metadata": {},
   "outputs": [
    {
     "data": {
      "text/plain": [
       "56574.665737056406"
      ]
     },
     "execution_count": 87,
     "metadata": {},
     "output_type": "execute_result"
    }
   ],
   "source": [
    "df_joined.land_area.mean()"
   ]
  },
  {
   "cell_type": "markdown",
   "metadata": {},
   "source": [
    "### Export as geodataframe"
   ]
  },
  {
   "cell_type": "code",
   "execution_count": null,
   "metadata": {},
   "outputs": [],
   "source": [
    "df_joined.to_file(\"C:/Users/jpg23/data/downtownrecovery/lehd_new_downtowns/cities_lehd_jobs_block.geojson\", driver=\"GeoJSON\")  "
   ]
  }
 ],
 "metadata": {
  "kernelspec": {
   "display_name": "Python 3",
   "language": "python",
   "name": "python3"
  },
  "language_info": {
   "codemirror_mode": {
    "name": "ipython",
    "version": 3
   },
   "file_extension": ".py",
   "mimetype": "text/x-python",
   "name": "python",
   "nbconvert_exporter": "python",
   "pygments_lexer": "ipython3",
   "version": "3.8.5"
  }
 },
 "nbformat": 4,
 "nbformat_minor": 4
}
