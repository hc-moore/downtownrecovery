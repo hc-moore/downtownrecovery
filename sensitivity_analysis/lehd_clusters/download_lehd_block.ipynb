{
 "cells": [
  {
   "cell_type": "markdown",
   "metadata": {},
   "source": [
    "Download LEHD data at block level and join with block shapefile."
   ]
  },
  {
   "cell_type": "markdown",
   "metadata": {},
   "source": [
    "### Install / load packages"
   ]
  },
  {
   "cell_type": "code",
   "execution_count": 1,
   "metadata": {
    "scrolled": true
   },
   "outputs": [],
   "source": [
    "# pip install pygris"
   ]
  },
  {
   "cell_type": "code",
   "execution_count": 2,
   "metadata": {},
   "outputs": [
    {
     "name": "stderr",
     "output_type": "stream",
     "text": [
      "C:\\Users\\jpg23\\anaconda3\\lib\\site-packages\\numpy\\_distributor_init.py:30: UserWarning: loaded more than 1 DLL from .libs:\n",
      "C:\\Users\\jpg23\\anaconda3\\lib\\site-packages\\numpy\\.libs\\libopenblas.FB5AE2TYXYH2IJRDKGDGQ3XBKLKTF43H.gfortran-win_amd64.dll\n",
      "C:\\Users\\jpg23\\anaconda3\\lib\\site-packages\\numpy\\.libs\\libopenblas.WCDJNK7YVMPZQ2ME2ZZHJJRJ3JIKNDB7.gfortran-win_amd64.dll\n",
      "  warnings.warn(\"loaded more than 1 DLL from .libs:\"\n"
     ]
    }
   ],
   "source": [
    "from pygris.data import get_lodes\n",
    "from pygris import blocks\n",
    "from pygris import places\n",
    "import pandas as pd\n",
    "import geopandas as gpd"
   ]
  },
  {
   "cell_type": "markdown",
   "metadata": {},
   "source": [
    "### Load LEHD data using `get_lodes` function from `pygris`"
   ]
  },
  {
   "cell_type": "code",
   "execution_count": 3,
   "metadata": {},
   "outputs": [],
   "source": [
    "states = [\"AL\", \"AK\", \"AZ\", \"AR\", \"CA\", \"CO\", \"CT\", \"DE\", \"FL\", \"GA\", \"HI\", \"ID\", \"IL\", \"IN\", \"IA\", \"KS\", \"KY\", \"LA\", \"ME\", \"MD\", \"MA\", \"MI\", \"MN\", \"MS\", \"MO\", \"MT\", \"NE\", \"NV\", \"NH\", \"NJ\", \"NM\", \"NY\", \"NC\", \"ND\", \"OH\", \"OK\", \"OR\", \"PA\", \"RI\", \"SC\", \"SD\", \"TN\", \"TX\", \"UT\", \"VT\", \"VA\", \"WA\", \"WV\", \"WI\", \"WY\"]"
   ]
  },
  {
   "cell_type": "code",
   "execution_count": 4,
   "metadata": {
    "scrolled": true
   },
   "outputs": [],
   "source": [
    "lehd = []\n",
    "\n",
    "for which_state in states:\n",
    "    \n",
    "    try:\n",
    "    \n",
    "        state_lehd = get_lodes(\n",
    "            state = which_state, \n",
    "            year = 2019, # data from 2019\n",
    "            version = \"LODES8\", # uses 2020 census blocks\n",
    "            lodes_type = \"wac\", \n",
    "            agg_level = \"block\"\n",
    "        )\n",
    "\n",
    "        state_lehd[\"state\"] = which_state\n",
    "\n",
    "        lehd.append(state_lehd)\n",
    "    \n",
    "    except:\n",
    "        \n",
    "        pass"
   ]
  },
  {
   "cell_type": "code",
   "execution_count": 5,
   "metadata": {
    "scrolled": true
   },
   "outputs": [],
   "source": [
    "df = pd.concat(lehd)[[\"state\", \"w_geocode\", \"C000\"]]"
   ]
  },
  {
   "cell_type": "code",
   "execution_count": 6,
   "metadata": {},
   "outputs": [
    {
     "data": {
      "text/html": [
       "<div>\n",
       "<style scoped>\n",
       "    .dataframe tbody tr th:only-of-type {\n",
       "        vertical-align: middle;\n",
       "    }\n",
       "\n",
       "    .dataframe tbody tr th {\n",
       "        vertical-align: top;\n",
       "    }\n",
       "\n",
       "    .dataframe thead th {\n",
       "        text-align: right;\n",
       "    }\n",
       "</style>\n",
       "<table border=\"1\" class=\"dataframe\">\n",
       "  <thead>\n",
       "    <tr style=\"text-align: right;\">\n",
       "      <th></th>\n",
       "      <th>state</th>\n",
       "      <th>w_geocode</th>\n",
       "      <th>C000</th>\n",
       "    </tr>\n",
       "  </thead>\n",
       "  <tbody>\n",
       "    <tr>\n",
       "      <th>0</th>\n",
       "      <td>AL</td>\n",
       "      <td>010010201001000</td>\n",
       "      <td>2</td>\n",
       "    </tr>\n",
       "    <tr>\n",
       "      <th>1</th>\n",
       "      <td>AL</td>\n",
       "      <td>010010201001001</td>\n",
       "      <td>2</td>\n",
       "    </tr>\n",
       "    <tr>\n",
       "      <th>2</th>\n",
       "      <td>AL</td>\n",
       "      <td>010010201001002</td>\n",
       "      <td>1</td>\n",
       "    </tr>\n",
       "    <tr>\n",
       "      <th>3</th>\n",
       "      <td>AL</td>\n",
       "      <td>010010201001012</td>\n",
       "      <td>28</td>\n",
       "    </tr>\n",
       "    <tr>\n",
       "      <th>4</th>\n",
       "      <td>AL</td>\n",
       "      <td>010010201001019</td>\n",
       "      <td>15</td>\n",
       "    </tr>\n",
       "    <tr>\n",
       "      <th>...</th>\n",
       "      <td>...</td>\n",
       "      <td>...</td>\n",
       "      <td>...</td>\n",
       "    </tr>\n",
       "    <tr>\n",
       "      <th>8844</th>\n",
       "      <td>WY</td>\n",
       "      <td>560459513003039</td>\n",
       "      <td>3</td>\n",
       "    </tr>\n",
       "    <tr>\n",
       "      <th>8845</th>\n",
       "      <td>WY</td>\n",
       "      <td>560459513003040</td>\n",
       "      <td>1</td>\n",
       "    </tr>\n",
       "    <tr>\n",
       "      <th>8846</th>\n",
       "      <td>WY</td>\n",
       "      <td>560459513003043</td>\n",
       "      <td>5</td>\n",
       "    </tr>\n",
       "    <tr>\n",
       "      <th>8847</th>\n",
       "      <td>WY</td>\n",
       "      <td>560459513003044</td>\n",
       "      <td>67</td>\n",
       "    </tr>\n",
       "    <tr>\n",
       "      <th>8848</th>\n",
       "      <td>WY</td>\n",
       "      <td>560459513003050</td>\n",
       "      <td>4</td>\n",
       "    </tr>\n",
       "  </tbody>\n",
       "</table>\n",
       "<p>2294854 rows × 3 columns</p>\n",
       "</div>"
      ],
      "text/plain": [
       "     state        w_geocode  C000\n",
       "0       AL  010010201001000     2\n",
       "1       AL  010010201001001     2\n",
       "2       AL  010010201001002     1\n",
       "3       AL  010010201001012    28\n",
       "4       AL  010010201001019    15\n",
       "...    ...              ...   ...\n",
       "8844    WY  560459513003039     3\n",
       "8845    WY  560459513003040     1\n",
       "8846    WY  560459513003043     5\n",
       "8847    WY  560459513003044    67\n",
       "8848    WY  560459513003050     4\n",
       "\n",
       "[2294854 rows x 3 columns]"
      ]
     },
     "execution_count": 6,
     "metadata": {},
     "output_type": "execute_result"
    }
   ],
   "source": [
    "df"
   ]
  },
  {
   "cell_type": "code",
   "execution_count": 7,
   "metadata": {},
   "outputs": [
    {
     "data": {
      "text/plain": [
       "array(['AL', 'AZ', 'AR', 'CA', 'CO', 'CT', 'DE', 'FL', 'GA', 'HI', 'ID',\n",
       "       'IL', 'IN', 'IA', 'KS', 'KY', 'LA', 'ME', 'MD', 'MA', 'MI', 'MN',\n",
       "       'MO', 'MT', 'NE', 'NV', 'NH', 'NJ', 'NM', 'NY', 'NC', 'ND', 'OH',\n",
       "       'OK', 'OR', 'PA', 'RI', 'SC', 'SD', 'TN', 'TX', 'UT', 'VT', 'VA',\n",
       "       'WA', 'WV', 'WI', 'WY'], dtype=object)"
      ]
     },
     "execution_count": 7,
     "metadata": {},
     "output_type": "execute_result"
    }
   ],
   "source": [
    "df.state.unique()"
   ]
  },
  {
   "cell_type": "code",
   "execution_count": 8,
   "metadata": {
    "scrolled": true
   },
   "outputs": [
    {
     "data": {
      "text/plain": [
       "48"
      ]
     },
     "execution_count": 8,
     "metadata": {},
     "output_type": "execute_result"
    }
   ],
   "source": [
    "df.state.nunique()"
   ]
  },
  {
   "cell_type": "markdown",
   "metadata": {},
   "source": [
    "### Load block group shapefiles (and land area)"
   ]
  },
  {
   "cell_type": "code",
   "execution_count": null,
   "metadata": {},
   "outputs": [
    {
     "name": "stdout",
     "output_type": "stream",
     "text": [
      "Using FIPS code '01' for input 'AL'\n",
      "Using FIPS code '02' for input 'AK'\n",
      "Using FIPS code '04' for input 'AZ'\n",
      "Using FIPS code '05' for input 'AR'\n",
      "Using FIPS code '06' for input 'CA'\n",
      "Using FIPS code '08' for input 'CO'\n",
      "Using FIPS code '09' for input 'CT'\n",
      "Using FIPS code '10' for input 'DE'\n",
      "Using FIPS code '12' for input 'FL'\n",
      "Using FIPS code '13' for input 'GA'\n",
      "Using FIPS code '15' for input 'HI'\n",
      "Using FIPS code '16' for input 'ID'\n",
      "Using FIPS code '17' for input 'IL'\n",
      "Using FIPS code '18' for input 'IN'\n",
      "Using FIPS code '19' for input 'IA'\n",
      "Using FIPS code '20' for input 'KS'\n",
      "Using FIPS code '21' for input 'KY'\n",
      "Using FIPS code '22' for input 'LA'\n"
     ]
    }
   ],
   "source": [
    "bl = []\n",
    "\n",
    "for which_state in states:\n",
    "    \n",
    "    try:\n",
    "    \n",
    "        state_bl = blocks(state = which_state, year = 2020) # load 2020 boundaries to match LODES8 boundaries\n",
    "\n",
    "        state_bl[\"state\"] = which_state\n",
    "\n",
    "        bl.append(state_bl)\n",
    "    \n",
    "    except:\n",
    "        \n",
    "        pass"
   ]
  },
  {
   "cell_type": "code",
   "execution_count": null,
   "metadata": {},
   "outputs": [],
   "source": [
    "bl_sf0 = pd.concat(bl)\n",
    "bl_sf0.head()"
   ]
  },
  {
   "cell_type": "code",
   "execution_count": null,
   "metadata": {},
   "outputs": [],
   "source": [
    "bl_sf = bl_sf0[[\"state\", \"GEOID10\", \"ALAND10\", \"geometry\"]]"
   ]
  },
  {
   "cell_type": "code",
   "execution_count": null,
   "metadata": {
    "scrolled": true
   },
   "outputs": [],
   "source": [
    "bl_sf.head()"
   ]
  },
  {
   "cell_type": "code",
   "execution_count": null,
   "metadata": {},
   "outputs": [],
   "source": [
    "bl_sf.state.unique()"
   ]
  },
  {
   "cell_type": "code",
   "execution_count": null,
   "metadata": {},
   "outputs": [],
   "source": [
    "bl_sf.state.nunique()"
   ]
  },
  {
   "cell_type": "code",
   "execution_count": null,
   "metadata": {},
   "outputs": [],
   "source": [
    "bl_sanfran = bl_sf.loc[bl_sf.GEOID10.str.contains('^06075'), :]"
   ]
  },
  {
   "cell_type": "code",
   "execution_count": null,
   "metadata": {},
   "outputs": [],
   "source": [
    "bl_sanfran.plot()"
   ]
  },
  {
   "cell_type": "markdown",
   "metadata": {},
   "source": [
    "### Join LEHD data and shapefile"
   ]
  },
  {
   "cell_type": "code",
   "execution_count": null,
   "metadata": {},
   "outputs": [],
   "source": [
    "df.dtypes"
   ]
  },
  {
   "cell_type": "code",
   "execution_count": null,
   "metadata": {},
   "outputs": [],
   "source": [
    "bl_sf.dtypes"
   ]
  },
  {
   "cell_type": "code",
   "execution_count": null,
   "metadata": {},
   "outputs": [],
   "source": [
    "df.head()"
   ]
  },
  {
   "cell_type": "code",
   "execution_count": null,
   "metadata": {
    "scrolled": false
   },
   "outputs": [],
   "source": [
    "bl_sf.head()"
   ]
  },
  {
   "cell_type": "code",
   "execution_count": null,
   "metadata": {},
   "outputs": [],
   "source": [
    "df.shape[0]"
   ]
  },
  {
   "cell_type": "code",
   "execution_count": null,
   "metadata": {},
   "outputs": [],
   "source": [
    "bl_sf.shape[0]"
   ]
  },
  {
   "cell_type": "code",
   "execution_count": null,
   "metadata": {
    "scrolled": true
   },
   "outputs": [],
   "source": [
    "df[df['state'] == 'AR']"
   ]
  },
  {
   "cell_type": "code",
   "execution_count": null,
   "metadata": {
    "scrolled": true
   },
   "outputs": [],
   "source": [
    "bl_sf[bl_sf['state'] == 'AR'].head()"
   ]
  },
  {
   "cell_type": "code",
   "execution_count": null,
   "metadata": {},
   "outputs": [],
   "source": [
    "bl_sf.dtypes"
   ]
  },
  {
   "cell_type": "code",
   "execution_count": null,
   "metadata": {},
   "outputs": [],
   "source": [
    "df.dtypes"
   ]
  },
  {
   "cell_type": "code",
   "execution_count": null,
   "metadata": {},
   "outputs": [],
   "source": [
    "final_df = bl_sf.merge(df, how = 'left', left_on = ['state', 'GEOID10'], right_on = ['state', 'w_geocode']).drop(columns = ['w_geocode']).rename(columns={\"C000\": \"total_jobs\", \"ALAND10\": \"land_area\", \"GEOID10\": \"block\"})"
   ]
  },
  {
   "cell_type": "code",
   "execution_count": null,
   "metadata": {},
   "outputs": [],
   "source": [
    "final_df.shape[0]"
   ]
  },
  {
   "cell_type": "code",
   "execution_count": null,
   "metadata": {
    "scrolled": true
   },
   "outputs": [],
   "source": [
    "final_df.head()"
   ]
  },
  {
   "cell_type": "code",
   "execution_count": null,
   "metadata": {},
   "outputs": [],
   "source": [
    "final_df[final_df['total_jobs'].notnull()].head()"
   ]
  },
  {
   "cell_type": "code",
   "execution_count": null,
   "metadata": {},
   "outputs": [],
   "source": [
    "final_df.total_jobs.isnull().mean()"
   ]
  },
  {
   "cell_type": "code",
   "execution_count": null,
   "metadata": {
    "scrolled": true
   },
   "outputs": [],
   "source": [
    "final_df.state.nunique()"
   ]
  },
  {
   "cell_type": "code",
   "execution_count": null,
   "metadata": {},
   "outputs": [],
   "source": [
    "df_states = df.state.unique().tolist()\n",
    "final_df_states = final_df.state.unique().tolist()\n",
    "\n",
    "list(set(df_states).difference(final_df_states))"
   ]
  },
  {
   "cell_type": "code",
   "execution_count": null,
   "metadata": {},
   "outputs": [],
   "source": [
    "type(final_df)"
   ]
  },
  {
   "cell_type": "markdown",
   "metadata": {},
   "source": [
    "### Subset to cities of interest"
   ]
  },
  {
   "cell_type": "code",
   "execution_count": null,
   "metadata": {},
   "outputs": [],
   "source": [
    "city_list = [\n",
    "  'Albuquerque NM',\n",
    "  'Atlanta GA',\n",
    "  'Austin TX',\n",
    "  'Bakersfield CA',\n",
    "  'Baltimore MD',\n",
    "  'Boston MA',\n",
    "  'Charlotte NC',\n",
    "  'Chicago IL',\n",
    "  'Cincinnati OH',\n",
    "  'Cleveland OH',\n",
    "  'Colorado Springs CO',\n",
    "  'Columbus OH',\n",
    "  'Dallas TX',\n",
    "  'Denver CO',\n",
    "  'Detroit MI',\n",
    "  'El Paso TX',\n",
    "  'Fort Worth TX',\n",
    "  'Fresno CA',\n",
    "  'Urban Honolulu HI',\n",
    "  'Houston TX',\n",
    "  'Indianapolis city (balance) IN',\n",
    "  'Jacksonville FL',\n",
    "  'Kansas City MO',\n",
    "  'Las Vegas NV',\n",
    "  'Los Angeles CA',\n",
    "  'Louisville KY',\n",
    "  'Memphis TN',\n",
    "  'Miami FL',\n",
    "  'Milwaukee WI',\n",
    "  'Minneapolis MN',\n",
    "  'Nashville-Davidson metropolitan government (balance) TN',\n",
    "  'New Orleans LA',\n",
    "  'New York NY',\n",
    "  'Oakland CA',\n",
    "  'Oklahoma City OK',\n",
    "  'Omaha NE',\n",
    "  'Orlando FL',\n",
    "  'Philadelphia PA',\n",
    "  'Phoenix AZ',\n",
    "  'Pittsburgh PA',\n",
    "  'Portland OR',\n",
    "  'Raleigh NC',\n",
    "  'Sacramento CA',\n",
    "  'Salt Lake City UT',\n",
    "  'San Antonio TX',\n",
    "  'San Diego CA',\n",
    "  'San Francisco CA',\n",
    "  'San Jose CA',\n",
    "  'Seattle WA',\n",
    "  'St. Louis MO',\n",
    "  'Tampa FL',\n",
    "  'Tucson AZ',\n",
    "  'Tulsa OK',\n",
    "  'Washington DC']"
   ]
  },
  {
   "cell_type": "code",
   "execution_count": null,
   "metadata": {
    "scrolled": true
   },
   "outputs": [],
   "source": [
    "all_places = places(cb = True)"
   ]
  },
  {
   "cell_type": "code",
   "execution_count": null,
   "metadata": {
    "scrolled": false
   },
   "outputs": [],
   "source": [
    "all_places.head()"
   ]
  },
  {
   "cell_type": "code",
   "execution_count": null,
   "metadata": {},
   "outputs": [],
   "source": [
    "pd.set_option('display.max_colwidth', None)\n",
    "all_places.loc[all_places.NAME.str.contains('Nashville|Indianapolis|Honolulu|St\\.? Louis'), :][['NAME', 'STUSPS']]"
   ]
  },
  {
   "cell_type": "code",
   "execution_count": null,
   "metadata": {},
   "outputs": [],
   "source": [
    "all_places['city'] = all_places.apply(lambda x: '{} {}'.format(x['NAME'], x['STUSPS']), axis=1)"
   ]
  },
  {
   "cell_type": "code",
   "execution_count": null,
   "metadata": {},
   "outputs": [],
   "source": [
    "all_places.city.head()"
   ]
  },
  {
   "cell_type": "code",
   "execution_count": null,
   "metadata": {},
   "outputs": [],
   "source": [
    "all_places_simp = all_places[['city', 'geometry']]\n",
    "the_places = all_places_simp[all_places_simp['city'].isin(city_list)]"
   ]
  },
  {
   "cell_type": "code",
   "execution_count": null,
   "metadata": {},
   "outputs": [],
   "source": [
    "pd.reset_option('^display.', silent=True)\n",
    "the_places.head()"
   ]
  },
  {
   "cell_type": "code",
   "execution_count": null,
   "metadata": {
    "scrolled": true
   },
   "outputs": [],
   "source": [
    "the_places.city.unique()"
   ]
  },
  {
   "cell_type": "code",
   "execution_count": null,
   "metadata": {},
   "outputs": [],
   "source": [
    "the_places.city.nunique()"
   ]
  },
  {
   "cell_type": "code",
   "execution_count": null,
   "metadata": {},
   "outputs": [],
   "source": [
    "in_places = the_places.city.unique().tolist()\n",
    "\n",
    "list(set(city_list).difference(in_places))"
   ]
  },
  {
   "cell_type": "code",
   "execution_count": null,
   "metadata": {},
   "outputs": [],
   "source": [
    "final_df.crs == the_places.crs"
   ]
  },
  {
   "cell_type": "code",
   "execution_count": null,
   "metadata": {},
   "outputs": [],
   "source": [
    "df_joined = gpd.sjoin(final_df, the_places, how = \"inner\").drop(columns = ['index_right'])"
   ]
  },
  {
   "cell_type": "code",
   "execution_count": null,
   "metadata": {},
   "outputs": [],
   "source": [
    "df_joined.head()"
   ]
  },
  {
   "cell_type": "code",
   "execution_count": null,
   "metadata": {},
   "outputs": [],
   "source": [
    "sf_test = df_joined[df_joined['city']=='San Francisco CA']"
   ]
  },
  {
   "cell_type": "code",
   "execution_count": null,
   "metadata": {},
   "outputs": [],
   "source": [
    "sf_test.plot()"
   ]
  },
  {
   "cell_type": "code",
   "execution_count": null,
   "metadata": {},
   "outputs": [],
   "source": [
    "sf_test2 = final_df.loc[final_df.block.str.contains('^06075'), :]"
   ]
  },
  {
   "cell_type": "code",
   "execution_count": null,
   "metadata": {},
   "outputs": [],
   "source": [
    "sf_test2.plot()"
   ]
  },
  {
   "cell_type": "code",
   "execution_count": null,
   "metadata": {},
   "outputs": [],
   "source": [
    "df_joined['jobs_per_sq_meter'] = df_joined['total_jobs']/df_joined['land_area']"
   ]
  },
  {
   "cell_type": "code",
   "execution_count": null,
   "metadata": {
    "scrolled": false
   },
   "outputs": [],
   "source": [
    "df_joined.head()"
   ]
  },
  {
   "cell_type": "code",
   "execution_count": null,
   "metadata": {},
   "outputs": [],
   "source": [
    "df_joined.land_area.mean()"
   ]
  },
  {
   "cell_type": "code",
   "execution_count": null,
   "metadata": {},
   "outputs": [],
   "source": [
    "sanfran_chor = df_joined[df_joined['city']=='San Francisco CA']\n",
    "sanfran_chor.head()"
   ]
  },
  {
   "cell_type": "code",
   "execution_count": null,
   "metadata": {},
   "outputs": [],
   "source": [
    "sanfran_chor.explore(\n",
    "    column=\"total_jobs\",\n",
    "    tooltip=\"total_jobs\",\n",
    "    tiles=\"CartoDB positron\",\n",
    "    style_kwds=dict(alpha=.5)\n",
    ")"
   ]
  },
  {
   "cell_type": "markdown",
   "metadata": {},
   "source": [
    "### Export as geodataframe"
   ]
  },
  {
   "cell_type": "code",
   "execution_count": null,
   "metadata": {},
   "outputs": [],
   "source": [
    "df_joined.to_file(\"C:/Users/jpg23/data/downtownrecovery/lehd_new_downtowns/cities_lehd_jobs_block.geojson\", driver=\"GeoJSON\")  "
   ]
  }
 ],
 "metadata": {
  "kernelspec": {
   "display_name": "Python 3",
   "language": "python",
   "name": "python3"
  },
  "language_info": {
   "codemirror_mode": {
    "name": "ipython",
    "version": 3
   },
   "file_extension": ".py",
   "mimetype": "text/x-python",
   "name": "python",
   "nbconvert_exporter": "python",
   "pygments_lexer": "ipython3",
   "version": "3.8.5"
  }
 },
 "nbformat": 4,
 "nbformat_minor": 4
}
