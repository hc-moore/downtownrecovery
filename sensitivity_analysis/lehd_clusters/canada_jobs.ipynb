{
 "cells": [
  {
   "cell_type": "markdown",
   "metadata": {},
   "source": [
    "Create spatial file of Canadian jobs by dissemination area using jobs data from [this website](http://odesi2.scholarsportal.info/documentation/CENSUS/2016/cen16labour.html), dissemination area shapefile from [Stats Canada](https://www12.statcan.gc.ca/census-recensement/2011/geo/bound-limit/bound-limit-2016-eng.cfm) and metropolitan areas shapefile from [Stats Canada](https://www12.statcan.gc.ca/census-recensement/2021/geo/sip-pis/boundary-limites/index2021-eng.cfm?year=21)."
   ]
  },
  {
   "cell_type": "markdown",
   "metadata": {},
   "source": [
    "### Install/load packages"
   ]
  },
  {
   "cell_type": "code",
   "execution_count": 1,
   "metadata": {},
   "outputs": [],
   "source": [
    "import pandas as pd\n",
    "import geopandas as gpd\n",
    "import glob\n",
    "import os"
   ]
  },
  {
   "cell_type": "markdown",
   "metadata": {},
   "source": [
    "### Load jobs data"
   ]
  },
  {
   "cell_type": "code",
   "execution_count": 26,
   "metadata": {},
   "outputs": [],
   "source": [
    "path = \"C:/Users/jpg23/data/downtownrecovery/lehd_new_downtowns/provinces/\"\n",
    "all_files = glob.glob(os.path.join(path , \"*.csv\"))\n",
    "\n",
    "li = []\n",
    "\n",
    "for file in all_files:\n",
    "    file_name = os.path.splitext(os.path.basename(file))[0]\n",
    "    # print(file_name)\n",
    "    dfn = pd.read_csv(file)\n",
    "    dfn['province'] = file_name.replace('_jobs', '')\n",
    "    li.append(dfn)\n",
    "\n",
    "all_jobs = pd.concat(li, axis=0, ignore_index=True)\n",
    "all_jobs = all_jobs[all_jobs['id'].str.contains('CSD')==False]"
   ]
  },
  {
   "cell_type": "code",
   "execution_count": 27,
   "metadata": {
    "scrolled": false
   },
   "outputs": [
    {
     "data": {
      "text/html": [
       "<div>\n",
       "<style scoped>\n",
       "    .dataframe tbody tr th:only-of-type {\n",
       "        vertical-align: middle;\n",
       "    }\n",
       "\n",
       "    .dataframe tbody tr th {\n",
       "        vertical-align: top;\n",
       "    }\n",
       "\n",
       "    .dataframe thead th {\n",
       "        text-align: right;\n",
       "    }\n",
       "</style>\n",
       "<table border=\"1\" class=\"dataframe\">\n",
       "  <thead>\n",
       "    <tr style=\"text-align: right;\">\n",
       "      <th></th>\n",
       "      <th>id</th>\n",
       "      <th>total_jobs</th>\n",
       "      <th>province</th>\n",
       "    </tr>\n",
       "  </thead>\n",
       "  <tbody>\n",
       "    <tr>\n",
       "      <th>1</th>\n",
       "      <td>48010135</td>\n",
       "      <td>160</td>\n",
       "      <td>alberta</td>\n",
       "    </tr>\n",
       "    <tr>\n",
       "      <th>2</th>\n",
       "      <td>48010136</td>\n",
       "      <td>675</td>\n",
       "      <td>alberta</td>\n",
       "    </tr>\n",
       "    <tr>\n",
       "      <th>3</th>\n",
       "      <td>48010217</td>\n",
       "      <td>145</td>\n",
       "      <td>alberta</td>\n",
       "    </tr>\n",
       "    <tr>\n",
       "      <th>4</th>\n",
       "      <td>48010218</td>\n",
       "      <td>160</td>\n",
       "      <td>alberta</td>\n",
       "    </tr>\n",
       "    <tr>\n",
       "      <th>5</th>\n",
       "      <td>48010220</td>\n",
       "      <td>235</td>\n",
       "      <td>alberta</td>\n",
       "    </tr>\n",
       "  </tbody>\n",
       "</table>\n",
       "</div>"
      ],
      "text/plain": [
       "         id total_jobs province\n",
       "1  48010135        160  alberta\n",
       "2  48010136        675  alberta\n",
       "3  48010217        145  alberta\n",
       "4  48010218        160  alberta\n",
       "5  48010220        235  alberta"
      ]
     },
     "execution_count": 27,
     "metadata": {},
     "output_type": "execute_result"
    }
   ],
   "source": [
    "all_jobs.head()"
   ]
  },
  {
   "cell_type": "code",
   "execution_count": 28,
   "metadata": {},
   "outputs": [
    {
     "data": {
      "text/plain": [
       "array(['alberta', 'british_columbia', 'manitoba', 'nova_scotia',\n",
       "       'ontario', 'quebec'], dtype=object)"
      ]
     },
     "execution_count": 28,
     "metadata": {},
     "output_type": "execute_result"
    }
   ],
   "source": [
    "all_jobs.province.unique()"
   ]
  },
  {
   "cell_type": "markdown",
   "metadata": {},
   "source": [
    "### Load 2016 dissemination area boundaries shapefile"
   ]
  },
  {
   "cell_type": "code",
   "execution_count": 29,
   "metadata": {},
   "outputs": [],
   "source": [
    "da = gpd.read_file(\"C:/Users/jpg23/data/downtownrecovery/lehd_new_downtowns/canada_2016_DAs/lda_000b16a_e.shp\")"
   ]
  },
  {
   "cell_type": "code",
   "execution_count": 62,
   "metadata": {
    "scrolled": true
   },
   "outputs": [
    {
     "data": {
      "text/html": [
       "<div>\n",
       "<style scoped>\n",
       "    .dataframe tbody tr th:only-of-type {\n",
       "        vertical-align: middle;\n",
       "    }\n",
       "\n",
       "    .dataframe tbody tr th {\n",
       "        vertical-align: top;\n",
       "    }\n",
       "\n",
       "    .dataframe thead th {\n",
       "        text-align: right;\n",
       "    }\n",
       "</style>\n",
       "<table border=\"1\" class=\"dataframe\">\n",
       "  <thead>\n",
       "    <tr style=\"text-align: right;\">\n",
       "      <th></th>\n",
       "      <th>DAUID</th>\n",
       "      <th>PRUID</th>\n",
       "      <th>PRNAME</th>\n",
       "      <th>CDUID</th>\n",
       "      <th>CDNAME</th>\n",
       "      <th>CDTYPE</th>\n",
       "      <th>CCSUID</th>\n",
       "      <th>CCSNAME</th>\n",
       "      <th>CSDUID</th>\n",
       "      <th>CSDNAME</th>\n",
       "      <th>...</th>\n",
       "      <th>SACCODE</th>\n",
       "      <th>SACTYPE</th>\n",
       "      <th>CMAUID</th>\n",
       "      <th>CMAPUID</th>\n",
       "      <th>CMANAME</th>\n",
       "      <th>CMATYPE</th>\n",
       "      <th>CTUID</th>\n",
       "      <th>CTNAME</th>\n",
       "      <th>ADAUID</th>\n",
       "      <th>geometry</th>\n",
       "    </tr>\n",
       "  </thead>\n",
       "  <tbody>\n",
       "    <tr>\n",
       "      <th>0</th>\n",
       "      <td>10010244</td>\n",
       "      <td>10</td>\n",
       "      <td>Newfoundland and Labrador / Terre-Neuve-et-Lab...</td>\n",
       "      <td>1001</td>\n",
       "      <td>Division No.  1</td>\n",
       "      <td>CDR</td>\n",
       "      <td>1001519</td>\n",
       "      <td>St. John's</td>\n",
       "      <td>1001519</td>\n",
       "      <td>St. John's</td>\n",
       "      <td>...</td>\n",
       "      <td>001</td>\n",
       "      <td>1</td>\n",
       "      <td>001</td>\n",
       "      <td>10001</td>\n",
       "      <td>St. John's</td>\n",
       "      <td>B</td>\n",
       "      <td>0010004.00</td>\n",
       "      <td>0004.00</td>\n",
       "      <td>10010014</td>\n",
       "      <td>POLYGON ((8976851.149 2149576.543, 8976818.149...</td>\n",
       "    </tr>\n",
       "    <tr>\n",
       "      <th>1</th>\n",
       "      <td>10010245</td>\n",
       "      <td>10</td>\n",
       "      <td>Newfoundland and Labrador / Terre-Neuve-et-Lab...</td>\n",
       "      <td>1001</td>\n",
       "      <td>Division No.  1</td>\n",
       "      <td>CDR</td>\n",
       "      <td>1001519</td>\n",
       "      <td>St. John's</td>\n",
       "      <td>1001519</td>\n",
       "      <td>St. John's</td>\n",
       "      <td>...</td>\n",
       "      <td>001</td>\n",
       "      <td>1</td>\n",
       "      <td>001</td>\n",
       "      <td>10001</td>\n",
       "      <td>St. John's</td>\n",
       "      <td>B</td>\n",
       "      <td>0010016.02</td>\n",
       "      <td>0016.02</td>\n",
       "      <td>10010010</td>\n",
       "      <td>POLYGON ((8977202.180 2150836.794, 8977136.277...</td>\n",
       "    </tr>\n",
       "    <tr>\n",
       "      <th>2</th>\n",
       "      <td>10010246</td>\n",
       "      <td>10</td>\n",
       "      <td>Newfoundland and Labrador / Terre-Neuve-et-Lab...</td>\n",
       "      <td>1001</td>\n",
       "      <td>Division No.  1</td>\n",
       "      <td>CDR</td>\n",
       "      <td>1001519</td>\n",
       "      <td>St. John's</td>\n",
       "      <td>1001519</td>\n",
       "      <td>St. John's</td>\n",
       "      <td>...</td>\n",
       "      <td>001</td>\n",
       "      <td>1</td>\n",
       "      <td>001</td>\n",
       "      <td>10001</td>\n",
       "      <td>St. John's</td>\n",
       "      <td>B</td>\n",
       "      <td>0010016.02</td>\n",
       "      <td>0016.02</td>\n",
       "      <td>10010010</td>\n",
       "      <td>POLYGON ((8977549.383 2150892.566, 8977492.269...</td>\n",
       "    </tr>\n",
       "    <tr>\n",
       "      <th>3</th>\n",
       "      <td>10010247</td>\n",
       "      <td>10</td>\n",
       "      <td>Newfoundland and Labrador / Terre-Neuve-et-Lab...</td>\n",
       "      <td>1001</td>\n",
       "      <td>Division No.  1</td>\n",
       "      <td>CDR</td>\n",
       "      <td>1001519</td>\n",
       "      <td>St. John's</td>\n",
       "      <td>1001519</td>\n",
       "      <td>St. John's</td>\n",
       "      <td>...</td>\n",
       "      <td>001</td>\n",
       "      <td>1</td>\n",
       "      <td>001</td>\n",
       "      <td>10001</td>\n",
       "      <td>St. John's</td>\n",
       "      <td>B</td>\n",
       "      <td>0010016.02</td>\n",
       "      <td>0016.02</td>\n",
       "      <td>10010010</td>\n",
       "      <td>POLYGON ((8977682.314 2151083.183, 8977689.440...</td>\n",
       "    </tr>\n",
       "    <tr>\n",
       "      <th>4</th>\n",
       "      <td>10010248</td>\n",
       "      <td>10</td>\n",
       "      <td>Newfoundland and Labrador / Terre-Neuve-et-Lab...</td>\n",
       "      <td>1001</td>\n",
       "      <td>Division No.  1</td>\n",
       "      <td>CDR</td>\n",
       "      <td>1001519</td>\n",
       "      <td>St. John's</td>\n",
       "      <td>1001519</td>\n",
       "      <td>St. John's</td>\n",
       "      <td>...</td>\n",
       "      <td>001</td>\n",
       "      <td>1</td>\n",
       "      <td>001</td>\n",
       "      <td>10001</td>\n",
       "      <td>St. John's</td>\n",
       "      <td>B</td>\n",
       "      <td>0010004.00</td>\n",
       "      <td>0004.00</td>\n",
       "      <td>10010014</td>\n",
       "      <td>POLYGON ((8978152.474 2151142.586, 8978040.654...</td>\n",
       "    </tr>\n",
       "  </tbody>\n",
       "</table>\n",
       "<p>5 rows × 23 columns</p>\n",
       "</div>"
      ],
      "text/plain": [
       "      DAUID PRUID                                             PRNAME CDUID  \\\n",
       "0  10010244    10  Newfoundland and Labrador / Terre-Neuve-et-Lab...  1001   \n",
       "1  10010245    10  Newfoundland and Labrador / Terre-Neuve-et-Lab...  1001   \n",
       "2  10010246    10  Newfoundland and Labrador / Terre-Neuve-et-Lab...  1001   \n",
       "3  10010247    10  Newfoundland and Labrador / Terre-Neuve-et-Lab...  1001   \n",
       "4  10010248    10  Newfoundland and Labrador / Terre-Neuve-et-Lab...  1001   \n",
       "\n",
       "            CDNAME CDTYPE   CCSUID     CCSNAME   CSDUID     CSDNAME  ...  \\\n",
       "0  Division No.  1    CDR  1001519  St. John's  1001519  St. John's  ...   \n",
       "1  Division No.  1    CDR  1001519  St. John's  1001519  St. John's  ...   \n",
       "2  Division No.  1    CDR  1001519  St. John's  1001519  St. John's  ...   \n",
       "3  Division No.  1    CDR  1001519  St. John's  1001519  St. John's  ...   \n",
       "4  Division No.  1    CDR  1001519  St. John's  1001519  St. John's  ...   \n",
       "\n",
       "  SACCODE SACTYPE CMAUID CMAPUID     CMANAME CMATYPE       CTUID   CTNAME  \\\n",
       "0     001       1    001   10001  St. John's       B  0010004.00  0004.00   \n",
       "1     001       1    001   10001  St. John's       B  0010016.02  0016.02   \n",
       "2     001       1    001   10001  St. John's       B  0010016.02  0016.02   \n",
       "3     001       1    001   10001  St. John's       B  0010016.02  0016.02   \n",
       "4     001       1    001   10001  St. John's       B  0010004.00  0004.00   \n",
       "\n",
       "     ADAUID                                           geometry  \n",
       "0  10010014  POLYGON ((8976851.149 2149576.543, 8976818.149...  \n",
       "1  10010010  POLYGON ((8977202.180 2150836.794, 8977136.277...  \n",
       "2  10010010  POLYGON ((8977549.383 2150892.566, 8977492.269...  \n",
       "3  10010010  POLYGON ((8977682.314 2151083.183, 8977689.440...  \n",
       "4  10010014  POLYGON ((8978152.474 2151142.586, 8978040.654...  \n",
       "\n",
       "[5 rows x 23 columns]"
      ]
     },
     "execution_count": 62,
     "metadata": {},
     "output_type": "execute_result"
    }
   ],
   "source": [
    "da.head()"
   ]
  },
  {
   "cell_type": "code",
   "execution_count": 63,
   "metadata": {},
   "outputs": [
    {
     "data": {
      "text/plain": [
       "['DAUID',\n",
       " 'PRUID',\n",
       " 'PRNAME',\n",
       " 'CDUID',\n",
       " 'CDNAME',\n",
       " 'CDTYPE',\n",
       " 'CCSUID',\n",
       " 'CCSNAME',\n",
       " 'CSDUID',\n",
       " 'CSDNAME',\n",
       " 'CSDTYPE',\n",
       " 'ERUID',\n",
       " 'ERNAME',\n",
       " 'SACCODE',\n",
       " 'SACTYPE',\n",
       " 'CMAUID',\n",
       " 'CMAPUID',\n",
       " 'CMANAME',\n",
       " 'CMATYPE',\n",
       " 'CTUID',\n",
       " 'CTNAME',\n",
       " 'ADAUID',\n",
       " 'geometry']"
      ]
     },
     "execution_count": 63,
     "metadata": {},
     "output_type": "execute_result"
    }
   ],
   "source": [
    "list(da.columns)"
   ]
  },
  {
   "cell_type": "code",
   "execution_count": 34,
   "metadata": {},
   "outputs": [],
   "source": [
    "da_simp = da[['DAUID', 'geometry']].rename(columns={\"DAUID\": \"id\"})"
   ]
  },
  {
   "cell_type": "code",
   "execution_count": 35,
   "metadata": {},
   "outputs": [
    {
     "data": {
      "text/html": [
       "<div>\n",
       "<style scoped>\n",
       "    .dataframe tbody tr th:only-of-type {\n",
       "        vertical-align: middle;\n",
       "    }\n",
       "\n",
       "    .dataframe tbody tr th {\n",
       "        vertical-align: top;\n",
       "    }\n",
       "\n",
       "    .dataframe thead th {\n",
       "        text-align: right;\n",
       "    }\n",
       "</style>\n",
       "<table border=\"1\" class=\"dataframe\">\n",
       "  <thead>\n",
       "    <tr style=\"text-align: right;\">\n",
       "      <th></th>\n",
       "      <th>id</th>\n",
       "      <th>geometry</th>\n",
       "    </tr>\n",
       "  </thead>\n",
       "  <tbody>\n",
       "    <tr>\n",
       "      <th>0</th>\n",
       "      <td>10010244</td>\n",
       "      <td>POLYGON ((8976851.149 2149576.543, 8976818.149...</td>\n",
       "    </tr>\n",
       "    <tr>\n",
       "      <th>1</th>\n",
       "      <td>10010245</td>\n",
       "      <td>POLYGON ((8977202.180 2150836.794, 8977136.277...</td>\n",
       "    </tr>\n",
       "    <tr>\n",
       "      <th>2</th>\n",
       "      <td>10010246</td>\n",
       "      <td>POLYGON ((8977549.383 2150892.566, 8977492.269...</td>\n",
       "    </tr>\n",
       "    <tr>\n",
       "      <th>3</th>\n",
       "      <td>10010247</td>\n",
       "      <td>POLYGON ((8977682.314 2151083.183, 8977689.440...</td>\n",
       "    </tr>\n",
       "    <tr>\n",
       "      <th>4</th>\n",
       "      <td>10010248</td>\n",
       "      <td>POLYGON ((8978152.474 2151142.586, 8978040.654...</td>\n",
       "    </tr>\n",
       "  </tbody>\n",
       "</table>\n",
       "</div>"
      ],
      "text/plain": [
       "         id                                           geometry\n",
       "0  10010244  POLYGON ((8976851.149 2149576.543, 8976818.149...\n",
       "1  10010245  POLYGON ((8977202.180 2150836.794, 8977136.277...\n",
       "2  10010246  POLYGON ((8977549.383 2150892.566, 8977492.269...\n",
       "3  10010247  POLYGON ((8977682.314 2151083.183, 8977689.440...\n",
       "4  10010248  POLYGON ((8978152.474 2151142.586, 8978040.654..."
      ]
     },
     "execution_count": 35,
     "metadata": {},
     "output_type": "execute_result"
    }
   ],
   "source": [
    "da_simp.head()"
   ]
  },
  {
   "cell_type": "markdown",
   "metadata": {},
   "source": [
    "### Join jobs data with shapefile"
   ]
  },
  {
   "cell_type": "code",
   "execution_count": 36,
   "metadata": {},
   "outputs": [
    {
     "data": {
      "text/plain": [
       "id            object\n",
       "geometry    geometry\n",
       "dtype: object"
      ]
     },
     "execution_count": 36,
     "metadata": {},
     "output_type": "execute_result"
    }
   ],
   "source": [
    "da_simp.dtypes"
   ]
  },
  {
   "cell_type": "code",
   "execution_count": 37,
   "metadata": {
    "scrolled": true
   },
   "outputs": [
    {
     "data": {
      "text/plain": [
       "id            object\n",
       "total_jobs    object\n",
       "province      object\n",
       "dtype: object"
      ]
     },
     "execution_count": 37,
     "metadata": {},
     "output_type": "execute_result"
    }
   ],
   "source": [
    "all_jobs.dtypes"
   ]
  },
  {
   "cell_type": "code",
   "execution_count": 38,
   "metadata": {},
   "outputs": [
    {
     "data": {
      "text/plain": [
       "35540"
      ]
     },
     "execution_count": 38,
     "metadata": {},
     "output_type": "execute_result"
    }
   ],
   "source": [
    "all_jobs.shape[0] "
   ]
  },
  {
   "cell_type": "code",
   "execution_count": 39,
   "metadata": {},
   "outputs": [
    {
     "data": {
      "text/plain": [
       "56589"
      ]
     },
     "execution_count": 39,
     "metadata": {},
     "output_type": "execute_result"
    }
   ],
   "source": [
    "da_simp.shape[0]"
   ]
  },
  {
   "cell_type": "code",
   "execution_count": 41,
   "metadata": {},
   "outputs": [],
   "source": [
    "jobs_sf = da_simp.merge(all_jobs, how = 'inner', on = 'id')"
   ]
  },
  {
   "cell_type": "code",
   "execution_count": 42,
   "metadata": {},
   "outputs": [
    {
     "data": {
      "text/html": [
       "<div>\n",
       "<style scoped>\n",
       "    .dataframe tbody tr th:only-of-type {\n",
       "        vertical-align: middle;\n",
       "    }\n",
       "\n",
       "    .dataframe tbody tr th {\n",
       "        vertical-align: top;\n",
       "    }\n",
       "\n",
       "    .dataframe thead th {\n",
       "        text-align: right;\n",
       "    }\n",
       "</style>\n",
       "<table border=\"1\" class=\"dataframe\">\n",
       "  <thead>\n",
       "    <tr style=\"text-align: right;\">\n",
       "      <th></th>\n",
       "      <th>id</th>\n",
       "      <th>geometry</th>\n",
       "      <th>total_jobs</th>\n",
       "      <th>province</th>\n",
       "    </tr>\n",
       "  </thead>\n",
       "  <tbody>\n",
       "    <tr>\n",
       "      <th>0</th>\n",
       "      <td>12030058</td>\n",
       "      <td>POLYGON ((8238878.531 1324873.563, 8238907.634...</td>\n",
       "      <td>260</td>\n",
       "      <td>nova_scotia</td>\n",
       "    </tr>\n",
       "    <tr>\n",
       "      <th>1</th>\n",
       "      <td>12030046</td>\n",
       "      <td>POLYGON ((8253427.683 1363509.783, 8253674.097...</td>\n",
       "      <td>255</td>\n",
       "      <td>nova_scotia</td>\n",
       "    </tr>\n",
       "    <tr>\n",
       "      <th>2</th>\n",
       "      <td>12030060</td>\n",
       "      <td>POLYGON ((8244294.451 1319921.540, 8244300.554...</td>\n",
       "      <td>185</td>\n",
       "      <td>nova_scotia</td>\n",
       "    </tr>\n",
       "    <tr>\n",
       "      <th>3</th>\n",
       "      <td>12030062</td>\n",
       "      <td>MULTIPOLYGON (((8241043.951 1331109.914, 82412...</td>\n",
       "      <td>70</td>\n",
       "      <td>nova_scotia</td>\n",
       "    </tr>\n",
       "    <tr>\n",
       "      <th>4</th>\n",
       "      <td>12030063</td>\n",
       "      <td>POLYGON ((8243511.986 1324251.777, 8243512.574...</td>\n",
       "      <td>50</td>\n",
       "      <td>nova_scotia</td>\n",
       "    </tr>\n",
       "  </tbody>\n",
       "</table>\n",
       "</div>"
      ],
      "text/plain": [
       "         id                                           geometry total_jobs  \\\n",
       "0  12030058  POLYGON ((8238878.531 1324873.563, 8238907.634...        260   \n",
       "1  12030046  POLYGON ((8253427.683 1363509.783, 8253674.097...        255   \n",
       "2  12030060  POLYGON ((8244294.451 1319921.540, 8244300.554...        185   \n",
       "3  12030062  MULTIPOLYGON (((8241043.951 1331109.914, 82412...         70   \n",
       "4  12030063  POLYGON ((8243511.986 1324251.777, 8243512.574...         50   \n",
       "\n",
       "      province  \n",
       "0  nova_scotia  \n",
       "1  nova_scotia  \n",
       "2  nova_scotia  \n",
       "3  nova_scotia  \n",
       "4  nova_scotia  "
      ]
     },
     "execution_count": 42,
     "metadata": {},
     "output_type": "execute_result"
    }
   ],
   "source": [
    "jobs_sf.head()"
   ]
  },
  {
   "cell_type": "code",
   "execution_count": 43,
   "metadata": {},
   "outputs": [
    {
     "data": {
      "text/plain": [
       "35310"
      ]
     },
     "execution_count": 43,
     "metadata": {},
     "output_type": "execute_result"
    }
   ],
   "source": [
    "jobs_sf.shape[0]"
   ]
  },
  {
   "cell_type": "markdown",
   "metadata": {},
   "source": [
    "### Subset to cities of interest"
   ]
  },
  {
   "cell_type": "code",
   "execution_count": 46,
   "metadata": {},
   "outputs": [],
   "source": [
    "metros = gpd.read_file(\"C:/Users/jpg23/data/downtownrecovery/lehd_new_downtowns/canada_metro_areas/lcma000b21a_e.shp\")[['CMANAME', 'geometry']]"
   ]
  },
  {
   "cell_type": "code",
   "execution_count": 47,
   "metadata": {
    "scrolled": false
   },
   "outputs": [
    {
     "data": {
      "text/html": [
       "<div>\n",
       "<style scoped>\n",
       "    .dataframe tbody tr th:only-of-type {\n",
       "        vertical-align: middle;\n",
       "    }\n",
       "\n",
       "    .dataframe tbody tr th {\n",
       "        vertical-align: top;\n",
       "    }\n",
       "\n",
       "    .dataframe thead th {\n",
       "        text-align: right;\n",
       "    }\n",
       "</style>\n",
       "<table border=\"1\" class=\"dataframe\">\n",
       "  <thead>\n",
       "    <tr style=\"text-align: right;\">\n",
       "      <th></th>\n",
       "      <th>CMANAME</th>\n",
       "      <th>geometry</th>\n",
       "    </tr>\n",
       "  </thead>\n",
       "  <tbody>\n",
       "    <tr>\n",
       "      <th>0</th>\n",
       "      <td>St. John's</td>\n",
       "      <td>MULTIPOLYGON (((8967216.191 2136402.131, 89672...</td>\n",
       "    </tr>\n",
       "    <tr>\n",
       "      <th>1</th>\n",
       "      <td>Grand Falls-Windsor</td>\n",
       "      <td>POLYGON ((8715069.600 2159071.726, 8715064.097...</td>\n",
       "    </tr>\n",
       "    <tr>\n",
       "      <th>2</th>\n",
       "      <td>Gander</td>\n",
       "      <td>POLYGON ((8794489.877 2214683.869, 8795102.377...</td>\n",
       "    </tr>\n",
       "    <tr>\n",
       "      <th>3</th>\n",
       "      <td>Corner Brook</td>\n",
       "      <td>POLYGON ((8595903.940 2105395.523, 8595917.629...</td>\n",
       "    </tr>\n",
       "    <tr>\n",
       "      <th>4</th>\n",
       "      <td>Charlottetown</td>\n",
       "      <td>MULTIPOLYGON (((8374335.443 1629502.597, 83743...</td>\n",
       "    </tr>\n",
       "  </tbody>\n",
       "</table>\n",
       "</div>"
      ],
      "text/plain": [
       "               CMANAME                                           geometry\n",
       "0           St. John's  MULTIPOLYGON (((8967216.191 2136402.131, 89672...\n",
       "1  Grand Falls-Windsor  POLYGON ((8715069.600 2159071.726, 8715064.097...\n",
       "2               Gander  POLYGON ((8794489.877 2214683.869, 8795102.377...\n",
       "3         Corner Brook  POLYGON ((8595903.940 2105395.523, 8595917.629...\n",
       "4        Charlottetown  MULTIPOLYGON (((8374335.443 1629502.597, 83743..."
      ]
     },
     "execution_count": 47,
     "metadata": {},
     "output_type": "execute_result"
    }
   ],
   "source": [
    "metros.head()"
   ]
  },
  {
   "cell_type": "code",
   "execution_count": 48,
   "metadata": {},
   "outputs": [
    {
     "data": {
      "text/plain": [
       "array([\"St. John's\", 'Grand Falls-Windsor', 'Gander', 'Corner Brook',\n",
       "       'Charlottetown', 'Summerside', 'Halifax', 'Kentville', 'Truro',\n",
       "       'New Glasgow', 'Cape Breton', 'Moncton', 'Saint John',\n",
       "       'Fredericton', 'Bathurst', 'Miramichi',\n",
       "       'Campbellton (New Brunswick part / partie du Nouveau-Brunswick)',\n",
       "       'Campbellton (partie du Québec / Quebec part)', 'Edmundston',\n",
       "       'Matane', 'Rimouski', 'Rivière-du-Loup', 'Baie-Comeau', 'Saguenay',\n",
       "       'Alma', 'Dolbeau-Mistassini', 'Sept-Îles', 'Québec',\n",
       "       'Sainte-Marie', 'Saint-Georges', 'Thetford Mines', 'Sherbrooke',\n",
       "       'Cowansville', 'Victoriaville', 'Trois-Rivières', 'Shawinigan',\n",
       "       'Drummondville', 'Granby', 'Saint-Hyacinthe', 'Sorel-Tracy',\n",
       "       'Joliette', 'Montréal', 'Salaberry-de-Valleyfield',\n",
       "       'Sainte-Agathe-des-Monts', 'Lachute', \"Val-d'Or\", 'Amos',\n",
       "       'Rouyn-Noranda', 'Cornwall',\n",
       "       'Hawkesbury (partie du Québec / Quebec part)',\n",
       "       \"Hawkesbury (Ontario part / partie de l'Ontario)\",\n",
       "       'Ottawa - Gatineau (partie du Québec / Quebec part)',\n",
       "       \"Ottawa - Gatineau (Ontario part / partie de l'Ontario)\",\n",
       "       'Brockville', 'Pembroke', 'Petawawa', 'Kingston',\n",
       "       'Belleville - Quinte West', 'Cobourg', 'Port Hope', 'Peterborough',\n",
       "       'Kawartha Lakes', 'Centre Wellington', 'Oshawa', 'Ingersoll',\n",
       "       'Toronto', 'Hamilton', 'St. Catharines - Niagara',\n",
       "       'Kitchener - Cambridge - Waterloo', 'Brantford', 'Woodstock',\n",
       "       'Tillsonburg', 'Norfolk', 'Guelph', 'Stratford', 'London',\n",
       "       'Chatham-Kent', 'Windsor', 'Sarnia', 'Essa', 'Wasaga Beach',\n",
       "       'Owen Sound', 'Collingwood', 'Barrie', 'Orillia', 'Midland',\n",
       "       'North Bay', 'Greater Sudbury / Grand Sudbury', 'Elliot Lake',\n",
       "       'Timmins', 'Sault Ste. Marie', 'Thunder Bay', 'Kenora', 'Winnipeg',\n",
       "       'Winkler', 'Steinbach', 'Portage la Prairie', 'Brandon',\n",
       "       'Thompson', 'Regina', 'Yorkton', 'Moose Jaw', 'Swift Current',\n",
       "       'Saskatoon', 'North Battleford', 'Prince Albert', 'Estevan',\n",
       "       'Weyburn', 'Medicine Hat', 'Brooks', 'Lethbridge', 'Okotoks',\n",
       "       'High River', 'Calgary', 'Strathmore', 'Canmore', 'Red Deer',\n",
       "       'Sylvan Lake', 'Lacombe', 'Camrose', 'Edmonton',\n",
       "       'Lloydminster (Saskatchewan part / partie de la Saskatchewan)',\n",
       "       \"Lloydminster (Alberta part / partie de l'Alberta)\",\n",
       "       'Grande Prairie', 'Wood Buffalo', 'Wetaskiwin', 'Cranbrook',\n",
       "       'Nelson', 'Trail', 'Penticton', 'Kelowna', 'Vernon', 'Salmon Arm',\n",
       "       'Kamloops', 'Chilliwack', 'Abbotsford - Mission', 'Vancouver',\n",
       "       'Squamish', 'Victoria', 'Ladysmith', 'Duncan', 'Nanaimo',\n",
       "       'Parksville', 'Port Alberni', 'Courtenay', 'Campbell River',\n",
       "       'Powell River', 'Williams Lake', 'Quesnel', 'Prince Rupert',\n",
       "       'Terrace', 'Prince George', 'Dawson Creek', 'Fort St. John',\n",
       "       'Whitehorse', 'Yellowknife'], dtype=object)"
      ]
     },
     "execution_count": 48,
     "metadata": {},
     "output_type": "execute_result"
    }
   ],
   "source": [
    "metros.CMANAME.unique()"
   ]
  },
  {
   "cell_type": "code",
   "execution_count": 53,
   "metadata": {},
   "outputs": [
    {
     "name": "stdout",
     "output_type": "stream",
     "text": [
      "Calgary|Edmonton|Halifax|London|Mississauga|Montréal|Ottawa|^Québec$|Toronto|Vancouver|Winnipeg\n"
     ]
    }
   ],
   "source": [
    "city_list = ['Calgary', 'Edmonton', 'Halifax', 'London', 'Mississauga', 'Montréal', 'Ottawa', '^Québec$', 'Toronto', 'Vancouver', 'Winnipeg']\n",
    "city_string = \"|\".join(city_list)\n",
    "the_metros = metros[metros['CMANAME'].str.contains(city_string)]"
   ]
  },
  {
   "cell_type": "code",
   "execution_count": 54,
   "metadata": {},
   "outputs": [
    {
     "data": {
      "text/plain": [
       "array(['Halifax', 'Québec', 'Montréal',\n",
       "       'Ottawa - Gatineau (partie du Québec / Quebec part)',\n",
       "       \"Ottawa - Gatineau (Ontario part / partie de l'Ontario)\",\n",
       "       'Toronto', 'London', 'Winnipeg', 'Calgary', 'Edmonton',\n",
       "       'Vancouver'], dtype=object)"
      ]
     },
     "execution_count": 54,
     "metadata": {},
     "output_type": "execute_result"
    }
   ],
   "source": [
    "the_metros.CMANAME.unique() # Mississauga is within the Toronto CMA boundary"
   ]
  },
  {
   "cell_type": "code",
   "execution_count": 55,
   "metadata": {},
   "outputs": [
    {
     "data": {
      "text/plain": [
       "True"
      ]
     },
     "execution_count": 55,
     "metadata": {},
     "output_type": "execute_result"
    }
   ],
   "source": [
    "# Do CRS match?\n",
    "jobs_sf.crs == the_metros.crs"
   ]
  },
  {
   "cell_type": "code",
   "execution_count": 56,
   "metadata": {},
   "outputs": [],
   "source": [
    "df_joined = gpd.sjoin(jobs_sf, the_metros, how = \"inner\").drop(columns = ['index_right'])"
   ]
  },
  {
   "cell_type": "code",
   "execution_count": 59,
   "metadata": {},
   "outputs": [
    {
     "data": {
      "text/html": [
       "<div>\n",
       "<style scoped>\n",
       "    .dataframe tbody tr th:only-of-type {\n",
       "        vertical-align: middle;\n",
       "    }\n",
       "\n",
       "    .dataframe tbody tr th {\n",
       "        vertical-align: top;\n",
       "    }\n",
       "\n",
       "    .dataframe thead th {\n",
       "        text-align: right;\n",
       "    }\n",
       "</style>\n",
       "<table border=\"1\" class=\"dataframe\">\n",
       "  <thead>\n",
       "    <tr style=\"text-align: right;\">\n",
       "      <th></th>\n",
       "      <th>id</th>\n",
       "      <th>geometry</th>\n",
       "      <th>total_jobs</th>\n",
       "      <th>province</th>\n",
       "      <th>CMANAME</th>\n",
       "    </tr>\n",
       "  </thead>\n",
       "  <tbody>\n",
       "    <tr>\n",
       "      <th>39</th>\n",
       "      <td>12090733</td>\n",
       "      <td>POLYGON ((8420792.991 1442444.806, 8420836.151...</td>\n",
       "      <td>895</td>\n",
       "      <td>nova_scotia</td>\n",
       "      <td>Halifax</td>\n",
       "    </tr>\n",
       "    <tr>\n",
       "      <th>44</th>\n",
       "      <td>12090267</td>\n",
       "      <td>POLYGON ((8411796.443 1435497.926, 8411825.974...</td>\n",
       "      <td>105</td>\n",
       "      <td>nova_scotia</td>\n",
       "      <td>Halifax</td>\n",
       "    </tr>\n",
       "    <tr>\n",
       "      <th>45</th>\n",
       "      <td>12090270</td>\n",
       "      <td>POLYGON ((8412191.611 1435034.623, 8412189.194...</td>\n",
       "      <td>60</td>\n",
       "      <td>nova_scotia</td>\n",
       "      <td>Halifax</td>\n",
       "    </tr>\n",
       "    <tr>\n",
       "      <th>77</th>\n",
       "      <td>12090521</td>\n",
       "      <td>POLYGON ((8405601.426 1441711.983, 8405668.529...</td>\n",
       "      <td>260</td>\n",
       "      <td>nova_scotia</td>\n",
       "      <td>Halifax</td>\n",
       "    </tr>\n",
       "    <tr>\n",
       "      <th>78</th>\n",
       "      <td>12090523</td>\n",
       "      <td>POLYGON ((8403102.949 1442184.369, 8403754.649...</td>\n",
       "      <td>100</td>\n",
       "      <td>nova_scotia</td>\n",
       "      <td>Halifax</td>\n",
       "    </tr>\n",
       "  </tbody>\n",
       "</table>\n",
       "</div>"
      ],
      "text/plain": [
       "          id                                           geometry total_jobs  \\\n",
       "39  12090733  POLYGON ((8420792.991 1442444.806, 8420836.151...        895   \n",
       "44  12090267  POLYGON ((8411796.443 1435497.926, 8411825.974...        105   \n",
       "45  12090270  POLYGON ((8412191.611 1435034.623, 8412189.194...         60   \n",
       "77  12090521  POLYGON ((8405601.426 1441711.983, 8405668.529...        260   \n",
       "78  12090523  POLYGON ((8403102.949 1442184.369, 8403754.649...        100   \n",
       "\n",
       "       province  CMANAME  \n",
       "39  nova_scotia  Halifax  \n",
       "44  nova_scotia  Halifax  \n",
       "45  nova_scotia  Halifax  \n",
       "77  nova_scotia  Halifax  \n",
       "78  nova_scotia  Halifax  "
      ]
     },
     "execution_count": 59,
     "metadata": {},
     "output_type": "execute_result"
    }
   ],
   "source": [
    "df_joined.head()"
   ]
  },
  {
   "cell_type": "code",
   "execution_count": 60,
   "metadata": {
    "scrolled": true
   },
   "outputs": [
    {
     "data": {
      "text/plain": [
       "<AxesSubplot:>"
      ]
     },
     "execution_count": 60,
     "metadata": {},
     "output_type": "execute_result"
    },
    {
     "data": {
      "image/png": "[encoded data removed]",
      "text/plain": [
       "<Figure size 432x288 with 1 Axes>"
      ]
     },
     "metadata": {
      "needs_background": "light"
     },
     "output_type": "display_data"
    }
   ],
   "source": [
    "to_test = df_joined[df_joined['CMANAME']=='Toronto']\n",
    "to_test.plot()"
   ]
  },
  {
   "cell_type": "markdown",
   "metadata": {},
   "source": [
    "### Calculate geographic area of each DA"
   ]
  },
  {
   "cell_type": "code",
   "execution_count": 66,
   "metadata": {},
   "outputs": [
    {
     "data": {
      "text/plain": [
       "<Projected CRS: PROJCS[\"PCS_Lambert_Conformal_Conic\",GEOGCS[\"NAD83 ...>\n",
       "Name: PCS_Lambert_Conformal_Conic\n",
       "Axis Info [cartesian]:\n",
       "- [east]: Easting (metre)\n",
       "- [north]: Northing (metre)\n",
       "Area of Use:\n",
       "- undefined\n",
       "Coordinate Operation:\n",
       "- name: unnamed\n",
       "- method: Lambert Conic Conformal (2SP)\n",
       "Datum: North American Datum 1983\n",
       "- Ellipsoid: GRS 1980\n",
       "- Prime Meridian: Greenwich"
      ]
     },
     "execution_count": 66,
     "metadata": {},
     "output_type": "execute_result"
    }
   ],
   "source": [
    "df_joined.crs"
   ]
  },
  {
   "cell_type": "code",
   "execution_count": 71,
   "metadata": {},
   "outputs": [],
   "source": [
    "df_joined['area'] = df_joined.geometry.area"
   ]
  },
  {
   "cell_type": "code",
   "execution_count": 91,
   "metadata": {},
   "outputs": [],
   "source": [
    "pd.set_option('display.float_format', lambda x: '%.6f' % x)\n",
    "df_joined.head()"
   ]
  },
  {
   "cell_type": "code",
   "execution_count": 74,
   "metadata": {},
   "outputs": [
    {
     "data": {
      "text/plain": [
       "4930202.389536641"
      ]
     },
     "execution_count": 74,
     "metadata": {},
     "output_type": "execute_result"
    }
   ],
   "source": [
    "df_joined.area.mean()"
   ]
  },
  {
   "cell_type": "code",
   "execution_count": 75,
   "metadata": {
    "scrolled": true
   },
   "outputs": [
    {
     "data": {
      "text/plain": [
       "201211.69249287804"
      ]
     },
     "execution_count": 75,
     "metadata": {},
     "output_type": "execute_result"
    }
   ],
   "source": [
    "df_joined.area.median()"
   ]
  },
  {
   "cell_type": "code",
   "execution_count": 86,
   "metadata": {
    "scrolled": true
   },
   "outputs": [
    {
     "data": {
      "text/plain": [
       "id              object\n",
       "geometry      geometry\n",
       "total_jobs     float64\n",
       "province        object\n",
       "CMANAME         object\n",
       "area           float64\n",
       "dtype: object"
      ]
     },
     "execution_count": 86,
     "metadata": {},
     "output_type": "execute_result"
    }
   ],
   "source": [
    "df_joined.dtypes"
   ]
  },
  {
   "cell_type": "code",
   "execution_count": 89,
   "metadata": {},
   "outputs": [],
   "source": [
    "df_joined['total_jobs'] = df_joined['total_jobs'].str.replace(',', '').astype(float)\n",
    "df_joined['jobs_per_sq_meter'] = df_joined['total_jobs']/df_joined['area']"
   ]
  },
  {
   "cell_type": "markdown",
   "metadata": {},
   "source": [
    "### Export data"
   ]
  },
  {
   "cell_type": "code",
   "execution_count": 92,
   "metadata": {
    "scrolled": true
   },
   "outputs": [
    {
     "data": {
      "text/html": [
       "<div>\n",
       "<style scoped>\n",
       "    .dataframe tbody tr th:only-of-type {\n",
       "        vertical-align: middle;\n",
       "    }\n",
       "\n",
       "    .dataframe tbody tr th {\n",
       "        vertical-align: top;\n",
       "    }\n",
       "\n",
       "    .dataframe thead th {\n",
       "        text-align: right;\n",
       "    }\n",
       "</style>\n",
       "<table border=\"1\" class=\"dataframe\">\n",
       "  <thead>\n",
       "    <tr style=\"text-align: right;\">\n",
       "      <th></th>\n",
       "      <th>id</th>\n",
       "      <th>geometry</th>\n",
       "      <th>total_jobs</th>\n",
       "      <th>province</th>\n",
       "      <th>CMANAME</th>\n",
       "      <th>area</th>\n",
       "      <th>jobs_per_sq_meter</th>\n",
       "    </tr>\n",
       "  </thead>\n",
       "  <tbody>\n",
       "    <tr>\n",
       "      <th>39</th>\n",
       "      <td>12090733</td>\n",
       "      <td>POLYGON ((8420792.991 1442444.806, 8420836.151...</td>\n",
       "      <td>895.000000</td>\n",
       "      <td>nova_scotia</td>\n",
       "      <td>Halifax</td>\n",
       "      <td>6502163.400023</td>\n",
       "      <td>0.000138</td>\n",
       "    </tr>\n",
       "    <tr>\n",
       "      <th>44</th>\n",
       "      <td>12090267</td>\n",
       "      <td>POLYGON ((8411796.443 1435497.926, 8411825.974...</td>\n",
       "      <td>105.000000</td>\n",
       "      <td>nova_scotia</td>\n",
       "      <td>Halifax</td>\n",
       "      <td>246034.978523</td>\n",
       "      <td>0.000427</td>\n",
       "    </tr>\n",
       "    <tr>\n",
       "      <th>45</th>\n",
       "      <td>12090270</td>\n",
       "      <td>POLYGON ((8412191.611 1435034.623, 8412189.194...</td>\n",
       "      <td>60.000000</td>\n",
       "      <td>nova_scotia</td>\n",
       "      <td>Halifax</td>\n",
       "      <td>129510.206110</td>\n",
       "      <td>0.000463</td>\n",
       "    </tr>\n",
       "    <tr>\n",
       "      <th>77</th>\n",
       "      <td>12090521</td>\n",
       "      <td>POLYGON ((8405601.426 1441711.983, 8405668.529...</td>\n",
       "      <td>260.000000</td>\n",
       "      <td>nova_scotia</td>\n",
       "      <td>Halifax</td>\n",
       "      <td>827127.047769</td>\n",
       "      <td>0.000314</td>\n",
       "    </tr>\n",
       "    <tr>\n",
       "      <th>78</th>\n",
       "      <td>12090523</td>\n",
       "      <td>POLYGON ((8403102.949 1442184.369, 8403754.649...</td>\n",
       "      <td>100.000000</td>\n",
       "      <td>nova_scotia</td>\n",
       "      <td>Halifax</td>\n",
       "      <td>1280013.674303</td>\n",
       "      <td>0.000078</td>\n",
       "    </tr>\n",
       "  </tbody>\n",
       "</table>\n",
       "</div>"
      ],
      "text/plain": [
       "          id                                           geometry  total_jobs  \\\n",
       "39  12090733  POLYGON ((8420792.991 1442444.806, 8420836.151...  895.000000   \n",
       "44  12090267  POLYGON ((8411796.443 1435497.926, 8411825.974...  105.000000   \n",
       "45  12090270  POLYGON ((8412191.611 1435034.623, 8412189.194...   60.000000   \n",
       "77  12090521  POLYGON ((8405601.426 1441711.983, 8405668.529...  260.000000   \n",
       "78  12090523  POLYGON ((8403102.949 1442184.369, 8403754.649...  100.000000   \n",
       "\n",
       "       province  CMANAME           area  jobs_per_sq_meter  \n",
       "39  nova_scotia  Halifax 6502163.400023           0.000138  \n",
       "44  nova_scotia  Halifax  246034.978523           0.000427  \n",
       "45  nova_scotia  Halifax  129510.206110           0.000463  \n",
       "77  nova_scotia  Halifax  827127.047769           0.000314  \n",
       "78  nova_scotia  Halifax 1280013.674303           0.000078  "
      ]
     },
     "execution_count": 92,
     "metadata": {},
     "output_type": "execute_result"
    }
   ],
   "source": [
    "df_joined.head()"
   ]
  },
  {
   "cell_type": "code",
   "execution_count": 93,
   "metadata": {},
   "outputs": [],
   "source": [
    "df_joined.to_file(\"C:/Users/jpg23/data/downtownrecovery/lehd_new_downtowns/canada_DA_jobs.geojson\", driver=\"GeoJSON\")  "
   ]
  }
 ],
 "metadata": {
  "kernelspec": {
   "display_name": "Python 3",
   "language": "python",
   "name": "python3"
  },
  "language_info": {
   "codemirror_mode": {
    "name": "ipython",
    "version": 3
   },
   "file_extension": ".py",
   "mimetype": "text/x-python",
   "name": "python",
   "nbconvert_exporter": "python",
   "pygments_lexer": "ipython3",
   "version": "3.8.5"
  }
 },
 "nbformat": 4,
 "nbformat_minor": 4
}
