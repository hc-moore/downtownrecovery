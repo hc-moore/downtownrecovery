{
 "cells": [
  {
   "cell_type": "code",
   "execution_count": 4,
   "id": "96325651-df7e-4a85-bb04-bd6852976190",
   "metadata": {},
   "outputs": [],
   "source": [
    "# pip install polygon_geohasher"
   ]
  },
  {
   "cell_type": "code",
   "execution_count": 23,
   "id": "ec634970-1b7c-432e-9a74-0b71408228b2",
   "metadata": {},
   "outputs": [
    {
     "data": {
      "text/plain": [
       "['c22yj7', 'c22yjk', 'c22yjm', 'c22yjq', 'c22yjr']"
      ]
     },
     "execution_count": 23,
     "metadata": {},
     "output_type": "execute_result"
    }
   ],
   "source": [
    "from polygon_geohasher.polygon_geohasher import geohash_to_polygon\n",
    "import pandas as pd\n",
    "import geopandas as gpd\n",
    "import matplotlib.pyplot as plt\n",
    "\n",
    "geohashes = pd.read_csv('/Users/jpg23/data/downtownrecovery/seattle/seattle_6digit_geohashes.csv')\n",
    "\n",
    "geo_list = geohashes['geohashid'].tolist()\n",
    "geo_list[:5]"
   ]
  },
  {
   "cell_type": "code",
   "execution_count": 19,
   "id": "95ef8f08-56e2-4bd3-aece-439119870703",
   "metadata": {},
   "outputs": [],
   "source": [
    "# Convert each geohash to a polygon and store in a list\n",
    "polygons = [geohash_to_polygon(gh) for gh in geo_list]\n",
    "\n",
    "geo_poly = [{'geohash_id': gh, 'geometry': geohash_to_polygon(gh)} for gh in geo_list]"
   ]
  },
  {
   "cell_type": "code",
   "execution_count": 26,
   "id": "b9f28e6c-cce6-4a3d-873e-98e384b08ebb",
   "metadata": {},
   "outputs": [],
   "source": [
    "# Create a GeoDataFrame from the list of polygons\n",
    "gdf = gpd.GeoDataFrame(geo_poly).set_crs(4326)"
   ]
  },
  {
   "cell_type": "code",
   "execution_count": 27,
   "id": "7dac36dc-2495-4576-bef3-b3dd3946d95b",
   "metadata": {},
   "outputs": [
    {
     "data": {
      "text/html": [
       "<div>\n",
       "<style scoped>\n",
       "    .dataframe tbody tr th:only-of-type {\n",
       "        vertical-align: middle;\n",
       "    }\n",
       "\n",
       "    .dataframe tbody tr th {\n",
       "        vertical-align: top;\n",
       "    }\n",
       "\n",
       "    .dataframe thead th {\n",
       "        text-align: right;\n",
       "    }\n",
       "</style>\n",
       "<table border=\"1\" class=\"dataframe\">\n",
       "  <thead>\n",
       "    <tr style=\"text-align: right;\">\n",
       "      <th></th>\n",
       "      <th>geohash_id</th>\n",
       "      <th>geometry</th>\n",
       "    </tr>\n",
       "  </thead>\n",
       "  <tbody>\n",
       "    <tr>\n",
       "      <th>0</th>\n",
       "      <td>c22yj7</td>\n",
       "      <td>POLYGON ((-122.4646 47.47742, -122.45361 47.47...</td>\n",
       "    </tr>\n",
       "    <tr>\n",
       "      <th>1</th>\n",
       "      <td>c22yjk</td>\n",
       "      <td>POLYGON ((-122.4646 47.48291, -122.45361 47.48...</td>\n",
       "    </tr>\n",
       "    <tr>\n",
       "      <th>2</th>\n",
       "      <td>c22yjm</td>\n",
       "      <td>POLYGON ((-122.4646 47.4884, -122.45361 47.488...</td>\n",
       "    </tr>\n",
       "    <tr>\n",
       "      <th>3</th>\n",
       "      <td>c22yjq</td>\n",
       "      <td>POLYGON ((-122.4646 47.4939, -122.45361 47.493...</td>\n",
       "    </tr>\n",
       "    <tr>\n",
       "      <th>4</th>\n",
       "      <td>c22yjr</td>\n",
       "      <td>POLYGON ((-122.4646 47.49939, -122.45361 47.49...</td>\n",
       "    </tr>\n",
       "    <tr>\n",
       "      <th>...</th>\n",
       "      <td>...</td>\n",
       "      <td>...</td>\n",
       "    </tr>\n",
       "    <tr>\n",
       "      <th>1099</th>\n",
       "      <td>c23p6y</td>\n",
       "      <td>POLYGON ((-122.2229 47.71362, -122.21191 47.71...</td>\n",
       "    </tr>\n",
       "    <tr>\n",
       "      <th>1100</th>\n",
       "      <td>c23p6z</td>\n",
       "      <td>POLYGON ((-122.2229 47.71912, -122.21191 47.71...</td>\n",
       "    </tr>\n",
       "    <tr>\n",
       "      <th>1101</th>\n",
       "      <td>c23pdb</td>\n",
       "      <td>POLYGON ((-122.2229 47.72461, -122.21191 47.72...</td>\n",
       "    </tr>\n",
       "    <tr>\n",
       "      <th>1102</th>\n",
       "      <td>c23pdc</td>\n",
       "      <td>POLYGON ((-122.2229 47.7301, -122.21191 47.730...</td>\n",
       "    </tr>\n",
       "    <tr>\n",
       "      <th>1103</th>\n",
       "      <td>c23pdf</td>\n",
       "      <td>POLYGON ((-122.2229 47.7356, -122.21191 47.735...</td>\n",
       "    </tr>\n",
       "  </tbody>\n",
       "</table>\n",
       "<p>1104 rows × 2 columns</p>\n",
       "</div>"
      ],
      "text/plain": [
       "     geohash_id                                           geometry\n",
       "0        c22yj7  POLYGON ((-122.4646 47.47742, -122.45361 47.47...\n",
       "1        c22yjk  POLYGON ((-122.4646 47.48291, -122.45361 47.48...\n",
       "2        c22yjm  POLYGON ((-122.4646 47.4884, -122.45361 47.488...\n",
       "3        c22yjq  POLYGON ((-122.4646 47.4939, -122.45361 47.493...\n",
       "4        c22yjr  POLYGON ((-122.4646 47.49939, -122.45361 47.49...\n",
       "...         ...                                                ...\n",
       "1099     c23p6y  POLYGON ((-122.2229 47.71362, -122.21191 47.71...\n",
       "1100     c23p6z  POLYGON ((-122.2229 47.71912, -122.21191 47.71...\n",
       "1101     c23pdb  POLYGON ((-122.2229 47.72461, -122.21191 47.72...\n",
       "1102     c23pdc  POLYGON ((-122.2229 47.7301, -122.21191 47.730...\n",
       "1103     c23pdf  POLYGON ((-122.2229 47.7356, -122.21191 47.735...\n",
       "\n",
       "[1104 rows x 2 columns]"
      ]
     },
     "execution_count": 27,
     "metadata": {},
     "output_type": "execute_result"
    }
   ],
   "source": [
    "gdf"
   ]
  },
  {
   "cell_type": "code",
   "execution_count": 28,
   "id": "76d465e3-b36d-4888-9ad0-787467b4ec63",
   "metadata": {},
   "outputs": [
    {
     "data": {
      "image/png": "[encoded data removed]",
      "text/plain": [
       "<Figure size 640x480 with 1 Axes>"
      ]
     },
     "metadata": {},
     "output_type": "display_data"
    }
   ],
   "source": [
    "gdf.plot(edgecolor=\"black\", facecolor=\"lightblue\")\n",
    "plt.xlabel(\"Longitude\")\n",
    "plt.ylabel(\"Latitude\")\n",
    "plt.title(\"Geohash Polygons\")\n",
    "plt.show()"
   ]
  },
  {
   "cell_type": "code",
   "execution_count": 29,
   "id": "1e7bef59-9bb7-46fb-8545-946ef779fcc5",
   "metadata": {},
   "outputs": [],
   "source": [
    "gdf.to_file('/Users/jpg23/data/downtownrecovery/seattle/seattle_6digit_geohashes.geojson', driver = 'GeoJSON')"
   ]
  }
 ],
 "metadata": {
  "kernelspec": {
   "display_name": "Python 3 (ipykernel)",
   "language": "python",
   "name": "python3"
  },
  "language_info": {
   "codemirror_mode": {
    "name": "ipython",
    "version": 3
   },
   "file_extension": ".py",
   "mimetype": "text/x-python",
   "name": "python",
   "nbconvert_exporter": "python",
   "pygments_lexer": "ipython3",
   "version": "3.12.4"
  }
 },
 "nbformat": 4,
 "nbformat_minor": 5
}
